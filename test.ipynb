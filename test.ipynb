{
 "cells": [
  {
   "cell_type": "code",
   "execution_count": 24,
   "metadata": {},
   "outputs": [
    {
     "data": {
      "application/javascript": "IPython.notebook.set_autosave_interval(0)"
     },
     "metadata": {},
     "output_type": "display_data"
    },
    {
     "name": "stdout",
     "output_type": "stream",
     "text": [
      "Autosave disabled\n"
     ]
    }
   ],
   "source": [
    "%autosave 0"
   ]
  },
  {
   "cell_type": "code",
   "execution_count": 25,
   "metadata": {},
   "outputs": [],
   "source": [
    "import requests"
   ]
  },
  {
   "cell_type": "code",
   "execution_count": 26,
   "metadata": {},
   "outputs": [],
   "source": [
    "url = 'http://127.0.0.1:8000/predict'"
   ]
  },
  {
   "cell_type": "code",
   "execution_count": 27,
   "metadata": {},
   "outputs": [],
   "source": [
    "# headers = {'Content-Type': 'application/json'}\n"
   ]
  },
  {
   "cell_type": "code",
   "execution_count": 28,
   "metadata": {},
   "outputs": [],
   "source": [
    "trader = [{ \n",
    "    \"base_cumulative_return\" : -0.952871878, \n",
    "    \"portfolio_return\" : 19.799527694, \n",
    "    \"daily_sharpe_ratio\" : 1.300632733, \n",
    "    \"number_of_trades\" : 36.0, \n",
    "    \"unique_tokens_traded\" : 6.0 \n",
    "    }]"
   ]
  },
  {
   "cell_type": "code",
   "execution_count": 29,
   "metadata": {},
   "outputs": [],
   "source": [
    "headers = {'Content-Type': 'application/json'}"
   ]
  },
  {
   "cell_type": "code",
   "execution_count": 30,
   "metadata": {},
   "outputs": [],
   "source": [
    "response = requests.post(url, json=trader, headers=headers)\n",
    "#print(response.json())"
   ]
  },
  {
   "cell_type": "code",
   "execution_count": 31,
   "metadata": {},
   "outputs": [
    {
     "name": "stdout",
     "output_type": "stream",
     "text": [
      "{'predictions': [1]}\n"
     ]
    }
   ],
   "source": [
    "# Check the response status code\n",
    "prediction = print(response.json())"
   ]
  },
  {
   "cell_type": "code",
   "execution_count": 35,
   "metadata": {},
   "outputs": [
    {
     "name": "stdout",
     "output_type": "stream",
     "text": [
      "Trader Category: Bad Trader\n"
     ]
    }
   ],
   "source": [
    "# Assuming the response contains a JSON object with a 'GET' attribute\n",
    "prediction = response.json().get('predictions')[0]\n",
    "\n",
    "# Categorize the trader based on the prediction value\n",
    "if prediction == 2:\n",
    "    trader_category = 'Good Trader'\n",
    "elif prediction == 1:\n",
    "    trader_category = 'Bad Trader'\n",
    "else:\n",
    "    trader_category = 'Average Trader'\n",
    "\n",
    "print(f\"Trader Category: {trader_category}\")"
   ]
  }
 ],
 "metadata": {
  "kernelspec": {
   "display_name": "web3ml",
   "language": "python",
   "name": "python3"
  },
  "language_info": {
   "codemirror_mode": {
    "name": "ipython",
    "version": 3
   },
   "file_extension": ".py",
   "mimetype": "text/x-python",
   "name": "python",
   "nbconvert_exporter": "python",
   "pygments_lexer": "ipython3",
   "version": "3.10.15"
  }
 },
 "nbformat": 4,
 "nbformat_minor": 2
}
