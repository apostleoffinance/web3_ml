{
 "cells": [
  {
   "cell_type": "code",
   "execution_count": 9,
   "metadata": {},
   "outputs": [],
   "source": [
    "from flipside import Flipside\n",
    "import numpy as np\n",
    "import pandas as pd \n",
    "import plotly.graph_objects as go\n",
    "import matplotlib.pyplot as plt"
   ]
  },
  {
   "cell_type": "code",
   "execution_count": 10,
   "metadata": {},
   "outputs": [],
   "source": [
    "\"\"\" This repo GITIGNORES api_key.txt, use this convention to store your key safely\"\"\"\n",
    "\n",
    "with open('api_key.txt', 'r') as file:\n",
    "    # Read the first line\n",
    "    api_key = file.readline().strip()  # .strip() removes newline characters\n",
    "\n",
    "\n",
    "\"\"\"Initialize Flipside with your API Key / API Url\"\"\"\n",
    "flipside = Flipside(api_key, \"https://api-v2.flipsidecrypto.xyz\")\n"
   ]
  },
  {
   "cell_type": "code",
   "execution_count": 14,
   "metadata": {
    "vscode": {
     "languageId": "sql"
    }
   },
   "outputs": [
    {
     "ename": "ValidationError",
     "evalue": "4 validation errors for CreateQueryRunRpcResponse\njsonrpc\n  field required (type=value_error.missing)\nid\n  field required (type=value_error.missing)\nerror -> code\n  field required (type=value_error.missing)\nerror -> message\n  field required (type=value_error.missing)",
     "output_type": "error",
     "traceback": [
      "\u001b[0;31m---------------------------------------------------------------------------\u001b[0m",
      "\u001b[0;31mValidationError\u001b[0m                           Traceback (most recent call last)",
      "Cell \u001b[0;32mIn[14], line 306\u001b[0m\n\u001b[1;32m      1\u001b[0m sql \u001b[38;5;241m=\u001b[39m \u001b[38;5;124m\"\"\"\u001b[39m\u001b[38;5;124mWITH RECURSIVE date_series AS (\u001b[39m\n\u001b[1;32m      2\u001b[0m \u001b[38;5;124m  SELECT\u001b[39m\n\u001b[1;32m      3\u001b[0m \u001b[38;5;124m    \u001b[39m\u001b[38;5;124m'\u001b[39m\u001b[38;5;124m2024-02-01\u001b[39m\u001b[38;5;124m'\u001b[39m\u001b[38;5;124m :: DATE AS day\u001b[39m\n\u001b[0;32m   (...)\u001b[0m\n\u001b[1;32m    303\u001b[0m \u001b[38;5;124m  LEFT JOIN tokens_traded tt ON tt.day = fnr.day AND tt.USER_ADDRESS = fnr.USER_ADDRESS;\u001b[39m\n\u001b[1;32m    304\u001b[0m \u001b[38;5;124m\"\"\"\u001b[39m\n\u001b[1;32m    305\u001b[0m \u001b[38;5;124;03m\"\"\"Run the query against Flipside's query engine and await the results\"\"\"\u001b[39;00m\n\u001b[0;32m--> 306\u001b[0m query_result_set \u001b[38;5;241m=\u001b[39m \u001b[43mflipside\u001b[49m\u001b[38;5;241;43m.\u001b[39;49m\u001b[43mquery\u001b[49m\u001b[43m(\u001b[49m\n\u001b[1;32m    307\u001b[0m \u001b[43m        \u001b[49m\u001b[43msql\u001b[49m\u001b[38;5;241;43m=\u001b[39;49m\u001b[43msql\u001b[49m\u001b[43m,\u001b[49m\n\u001b[1;32m    308\u001b[0m \u001b[43m        \u001b[49m\u001b[43mttl_minutes\u001b[49m\u001b[38;5;241;43m=\u001b[39;49m\u001b[38;5;241;43m10\u001b[39;49m\u001b[43m,\u001b[49m\n\u001b[1;32m    309\u001b[0m \u001b[43m        \u001b[49m\u001b[43mtimeout_minutes\u001b[49m\u001b[38;5;241;43m=\u001b[39;49m\u001b[38;5;241;43m5\u001b[39;49m\n\u001b[1;32m    310\u001b[0m \u001b[43m    \u001b[49m\u001b[43m)\u001b[49m\n\u001b[1;32m    311\u001b[0m \u001b[38;5;28mprint\u001b[39m(query_result_set)\n",
      "File \u001b[0;32m~/miniconda3/envs/flipside/lib/python3.10/site-packages/flipside/flipside.py:48\u001b[0m, in \u001b[0;36mFlipside.query\u001b[0;34m(self, sql, ttl_minutes, max_age_minutes, cached, timeout_minutes, retry_interval_seconds, page_size, page_number, data_source, data_provider)\u001b[0m\n\u001b[1;32m     33\u001b[0m \u001b[38;5;28;01mdef\u001b[39;00m \u001b[38;5;21mquery\u001b[39m(\n\u001b[1;32m     34\u001b[0m     \u001b[38;5;28mself\u001b[39m,\n\u001b[1;32m     35\u001b[0m     sql,\n\u001b[0;32m   (...)\u001b[0m\n\u001b[1;32m     44\u001b[0m     data_provider\u001b[38;5;241m=\u001b[39mDEFAULT_DATA_PROVIDER,\n\u001b[1;32m     45\u001b[0m ) \u001b[38;5;241m-\u001b[39m\u001b[38;5;241m>\u001b[39m QueryResultSet:\n\u001b[1;32m     46\u001b[0m     query_integration \u001b[38;5;241m=\u001b[39m CompassQueryIntegration(\u001b[38;5;28mself\u001b[39m\u001b[38;5;241m.\u001b[39mrpc)\n\u001b[0;32m---> 48\u001b[0m     \u001b[38;5;28;01mreturn\u001b[39;00m \u001b[43mquery_integration\u001b[49m\u001b[38;5;241;43m.\u001b[39;49m\u001b[43mrun\u001b[49m\u001b[43m(\u001b[49m\n\u001b[1;32m     49\u001b[0m \u001b[43m        \u001b[49m\u001b[43mQuery\u001b[49m\u001b[43m(\u001b[49m\n\u001b[1;32m     50\u001b[0m \u001b[43m            \u001b[49m\u001b[43msql\u001b[49m\u001b[38;5;241;43m=\u001b[39;49m\u001b[43msql\u001b[49m\u001b[43m,\u001b[49m\n\u001b[1;32m     51\u001b[0m \u001b[43m            \u001b[49m\u001b[43mttl_minutes\u001b[49m\u001b[38;5;241;43m=\u001b[39;49m\u001b[43mttl_minutes\u001b[49m\u001b[43m,\u001b[49m\n\u001b[1;32m     52\u001b[0m \u001b[43m            \u001b[49m\u001b[43mtimeout_minutes\u001b[49m\u001b[38;5;241;43m=\u001b[39;49m\u001b[43mtimeout_minutes\u001b[49m\u001b[43m,\u001b[49m\n\u001b[1;32m     53\u001b[0m \u001b[43m            \u001b[49m\u001b[43mmax_age_minutes\u001b[49m\u001b[38;5;241;43m=\u001b[39;49m\u001b[43mmax_age_minutes\u001b[49m\u001b[43m,\u001b[49m\n\u001b[1;32m     54\u001b[0m \u001b[43m            \u001b[49m\u001b[43mretry_interval_seconds\u001b[49m\u001b[38;5;241;43m=\u001b[39;49m\u001b[43mretry_interval_seconds\u001b[49m\u001b[43m,\u001b[49m\n\u001b[1;32m     55\u001b[0m \u001b[43m            \u001b[49m\u001b[43mpage_size\u001b[49m\u001b[38;5;241;43m=\u001b[39;49m\u001b[43mpage_size\u001b[49m\u001b[43m,\u001b[49m\n\u001b[1;32m     56\u001b[0m \u001b[43m            \u001b[49m\u001b[43mpage_number\u001b[49m\u001b[38;5;241;43m=\u001b[39;49m\u001b[43mpage_number\u001b[49m\u001b[43m,\u001b[49m\n\u001b[1;32m     57\u001b[0m \u001b[43m            \u001b[49m\u001b[43mcached\u001b[49m\u001b[38;5;241;43m=\u001b[39;49m\u001b[43mcached\u001b[49m\u001b[43m,\u001b[49m\n\u001b[1;32m     58\u001b[0m \u001b[43m            \u001b[49m\u001b[43msdk_package\u001b[49m\u001b[38;5;241;43m=\u001b[39;49m\u001b[43mSDK_PACKAGE\u001b[49m\u001b[43m,\u001b[49m\n\u001b[1;32m     59\u001b[0m \u001b[43m            \u001b[49m\u001b[43msdk_version\u001b[49m\u001b[38;5;241;43m=\u001b[39;49m\u001b[43mSDK_VERSION\u001b[49m\u001b[43m,\u001b[49m\n\u001b[1;32m     60\u001b[0m \u001b[43m            \u001b[49m\u001b[43mdata_source\u001b[49m\u001b[38;5;241;43m=\u001b[39;49m\u001b[43mdata_source\u001b[49m\u001b[43m,\u001b[49m\n\u001b[1;32m     61\u001b[0m \u001b[43m            \u001b[49m\u001b[43mdata_provider\u001b[49m\u001b[38;5;241;43m=\u001b[39;49m\u001b[43mdata_provider\u001b[49m\u001b[43m,\u001b[49m\n\u001b[1;32m     62\u001b[0m \u001b[43m        \u001b[49m\u001b[43m)\u001b[49m\n\u001b[1;32m     63\u001b[0m \u001b[43m    \u001b[49m\u001b[43m)\u001b[49m\n",
      "File \u001b[0;32m~/miniconda3/envs/flipside/lib/python3.10/site-packages/flipside/integrations/query_integration/compass_query_integration.py:58\u001b[0m, in \u001b[0;36mCompassQueryIntegration.run\u001b[0;34m(self, query)\u001b[0m\n\u001b[1;32m     40\u001b[0m query \u001b[38;5;241m=\u001b[39m \u001b[38;5;28mself\u001b[39m\u001b[38;5;241m.\u001b[39m_set_query_defaults(query)\n\u001b[1;32m     42\u001b[0m create_query_run_params \u001b[38;5;241m=\u001b[39m CreateQueryRunRpcParams(\n\u001b[1;32m     43\u001b[0m     resultTTLHours\u001b[38;5;241m=\u001b[39m\u001b[38;5;28mint\u001b[39m(query\u001b[38;5;241m.\u001b[39mttl_minutes \u001b[38;5;241m/\u001b[39m \u001b[38;5;241m60\u001b[39m)\n\u001b[1;32m     44\u001b[0m     \u001b[38;5;28;01mif\u001b[39;00m query\u001b[38;5;241m.\u001b[39mttl_minutes\n\u001b[0;32m   (...)\u001b[0m\n\u001b[1;32m     56\u001b[0m     dataProvider\u001b[38;5;241m=\u001b[39mquery\u001b[38;5;241m.\u001b[39mdata_provider \u001b[38;5;28;01mif\u001b[39;00m query\u001b[38;5;241m.\u001b[39mdata_provider \u001b[38;5;28;01melse\u001b[39;00m \u001b[38;5;124m\"\u001b[39m\u001b[38;5;124mflipside\u001b[39m\u001b[38;5;124m\"\u001b[39m,\n\u001b[1;32m     57\u001b[0m )\n\u001b[0;32m---> 58\u001b[0m created_query \u001b[38;5;241m=\u001b[39m \u001b[38;5;28;43mself\u001b[39;49m\u001b[38;5;241;43m.\u001b[39;49m\u001b[43mrpc\u001b[49m\u001b[38;5;241;43m.\u001b[39;49m\u001b[43mcreate_query\u001b[49m\u001b[43m(\u001b[49m\u001b[43mcreate_query_run_params\u001b[49m\u001b[43m)\u001b[49m\n\u001b[1;32m     59\u001b[0m \u001b[38;5;28;01mif\u001b[39;00m created_query\u001b[38;5;241m.\u001b[39merror:\n\u001b[1;32m     60\u001b[0m     \u001b[38;5;28;01mraise\u001b[39;00m get_exception_by_error_code(\n\u001b[1;32m     61\u001b[0m         error_code\u001b[38;5;241m=\u001b[39mcreated_query\u001b[38;5;241m.\u001b[39merror\u001b[38;5;241m.\u001b[39mcode \u001b[38;5;28;01mif\u001b[39;00m created_query\u001b[38;5;241m.\u001b[39merror \u001b[38;5;28;01melse\u001b[39;00m \u001b[38;5;28;01mNone\u001b[39;00m,\n\u001b[1;32m     62\u001b[0m         message\u001b[38;5;241m=\u001b[39mcreated_query\u001b[38;5;241m.\u001b[39merror\u001b[38;5;241m.\u001b[39mmessage \u001b[38;5;28;01mif\u001b[39;00m created_query\u001b[38;5;241m.\u001b[39merror \u001b[38;5;28;01melse\u001b[39;00m \u001b[38;5;28;01mNone\u001b[39;00m,\n\u001b[1;32m     63\u001b[0m     )\n",
      "File \u001b[0;32m~/miniconda3/envs/flipside/lib/python3.10/site-packages/flipside/rpc.py:73\u001b[0m, in \u001b[0;36mRPC.create_query\u001b[0;34m(self, params)\u001b[0m\n\u001b[1;32m     66\u001b[0m \u001b[38;5;28;01mwith\u001b[39;00m \u001b[38;5;28mself\u001b[39m\u001b[38;5;241m.\u001b[39msession\u001b[38;5;241m.\u001b[39mpost(\n\u001b[1;32m     67\u001b[0m     \u001b[38;5;28mself\u001b[39m\u001b[38;5;241m.\u001b[39murl,\n\u001b[1;32m     68\u001b[0m     data\u001b[38;5;241m=\u001b[39mjson\u001b[38;5;241m.\u001b[39mdumps(CreateQueryRunRpcRequest(params\u001b[38;5;241m=\u001b[39m[params])\u001b[38;5;241m.\u001b[39mdict()),\n\u001b[1;32m     69\u001b[0m     headers\u001b[38;5;241m=\u001b[39m\u001b[38;5;28mself\u001b[39m\u001b[38;5;241m.\u001b[39m_headers,\n\u001b[1;32m     70\u001b[0m ) \u001b[38;5;28;01mas\u001b[39;00m result:\n\u001b[1;32m     71\u001b[0m     data \u001b[38;5;241m=\u001b[39m \u001b[38;5;28mself\u001b[39m\u001b[38;5;241m.\u001b[39m_handle_response(result, \u001b[38;5;124m\"\u001b[39m\u001b[38;5;124mcreateQueryRun\u001b[39m\u001b[38;5;124m\"\u001b[39m)\n\u001b[0;32m---> 73\u001b[0m     create_query_resp \u001b[38;5;241m=\u001b[39m \u001b[43mCreateQueryRunRpcResponse\u001b[49m\u001b[43m(\u001b[49m\u001b[38;5;241;43m*\u001b[39;49m\u001b[38;5;241;43m*\u001b[39;49m\u001b[43mdata\u001b[49m\u001b[43m)\u001b[49m\n\u001b[1;32m     75\u001b[0m     \u001b[38;5;28;01mreturn\u001b[39;00m create_query_resp\n",
      "File \u001b[0;32m~/miniconda3/envs/flipside/lib/python3.10/site-packages/pydantic/main.py:341\u001b[0m, in \u001b[0;36mpydantic.main.BaseModel.__init__\u001b[0;34m()\u001b[0m\n",
      "\u001b[0;31mValidationError\u001b[0m: 4 validation errors for CreateQueryRunRpcResponse\njsonrpc\n  field required (type=value_error.missing)\nid\n  field required (type=value_error.missing)\nerror -> code\n  field required (type=value_error.missing)\nerror -> message\n  field required (type=value_error.missing)"
     ]
    }
   ],
   "source": [
    "sql = \"\"\"WITH RECURSIVE date_series AS (\n",
    "  SELECT\n",
    "    '2024-02-01' :: DATE AS day\n",
    "  UNION\n",
    "  ALL\n",
    "  SELECT\n",
    "    day + INTERVAL '1 day'\n",
    "  FROM\n",
    "    date_series\n",
    "  WHERE\n",
    "    day < CURRENT_DATE\n",
    "),\n",
    "traders AS (\n",
    "  SELECT\n",
    "    ORIGIN_FROM_ADDRESS,\n",
    "    SUM(AMOUNT_OUT_USD) AS Volume\n",
    "  FROM\n",
    "    ethereum.defi.ez_dex_swaps\n",
    "  GROUP BY\n",
    "    ORIGIN_FROM_ADDRESS\n",
    "  HAVING\n",
    "    SUM(AMOUNT_OUT_USD) > 10000000\n",
    "    AND MIN(BLOCK_TIMESTAMP) >= '2024-02-01'\n",
    "    AND MIN(BLOCK_TIMESTAMP) < '2024-03-01'\n",
    "  ORDER BY\n",
    "    SUM(AMOUNT_OUT_USD) DESC\n",
    "  LIMIT\n",
    "    500\n",
    "),\n",
    "symbols AS (\n",
    "  SELECT\n",
    "    DISTINCT SYMBOL,\n",
    "    COALESCE(\n",
    "      CONTRACT_ADDRESS,\n",
    "      '0xC02aaA39b223FE8D0A0e5C4F27eAD9083C756Cc2'\n",
    "    ) AS token_contract\n",
    "  FROM\n",
    "    ethereum.core.ez_balance_deltas\n",
    "  WHERE\n",
    "    USER_ADDRESS IN (\n",
    "      SELECT DISTINCT ORIGIN_FROM_ADDRESS FROM traders\n",
    "    )\n",
    "    AND HAS_PRICE = TRUE\n",
    "),\n",
    "daily_balances AS (\n",
    "  SELECT\n",
    "    DATE_TRUNC('day', BLOCK_TIMESTAMP) AS day,\n",
    "    SYMBOL,\n",
    "    CURRENT_BAL AS daily_balance,\n",
    "    COALESCE(\n",
    "      CONTRACT_ADDRESS,\n",
    "      '0xC02aaA39b223FE8D0A0e5C4F27eAD9083C756Cc2'\n",
    "    ) AS token_contract,\n",
    "    BLOCK_TIMESTAMP,\n",
    "    USER_ADDRESS\n",
    "  FROM\n",
    "    ethereum.core.ez_balance_deltas\n",
    "  WHERE\n",
    "    USER_ADDRESS IN (\n",
    "      SELECT DISTINCT ORIGIN_FROM_ADDRESS FROM traders\n",
    "    )\n",
    "    AND HAS_PRICE = TRUE\n",
    "),\n",
    "ranked_balances AS (\n",
    "  SELECT\n",
    "    day,\n",
    "    SYMBOL,\n",
    "    daily_balance,\n",
    "    token_contract,\n",
    "    USER_ADDRESS,\n",
    "    ROW_NUMBER() OVER (\n",
    "      PARTITION BY token_contract, day\n",
    "      ORDER BY BLOCK_TIMESTAMP DESC\n",
    "    ) AS rn\n",
    "  FROM\n",
    "    daily_balances\n",
    "),\n",
    "filtered_balances AS (\n",
    "  SELECT\n",
    "    day,\n",
    "    SYMBOL,\n",
    "    daily_balance,\n",
    "    token_contract,\n",
    "    USER_ADDRESS\n",
    "  FROM\n",
    "    ranked_balances\n",
    "  WHERE\n",
    "    rn = 1\n",
    "),\n",
    "filled_balances AS (\n",
    "  SELECT\n",
    "    ds.day,\n",
    "    s.SYMBOL,\n",
    "    COALESCE(fb.daily_balance, 0) AS filled_balance,\n",
    "    fb.USER_ADDRESS,\n",
    "    CASE\n",
    "      WHEN s.SYMBOL = 'ETH' THEN LOWER('0xC02aaA39b223FE8D0A0e5C4F27eAD9083C756Cc2')\n",
    "      ELSE fb.token_contract\n",
    "    END AS token_contract\n",
    "  FROM\n",
    "    date_series ds\n",
    "    CROSS JOIN symbols s\n",
    "    LEFT JOIN filtered_balances fb ON fb.day <= ds.day\n",
    "    AND fb.SYMBOL = s.SYMBOL QUALIFY ROW_NUMBER() OVER (\n",
    "      PARTITION BY ds.day, s.SYMBOL\n",
    "      ORDER BY fb.day DESC\n",
    "    ) = 1\n",
    "),\n",
    "latest_prices AS (\n",
    "  SELECT\n",
    "    DATE_TRUNC('day', hour) AS day,\n",
    "    TOKEN_ADDRESS,\n",
    "    PERCENTILE_CONT(0.5) WITHIN GROUP (ORDER BY PRICE) AS price\n",
    "  FROM\n",
    "    ethereum.price.ez_prices_hourly\n",
    "  GROUP BY\n",
    "    DATE_TRUNC('day', hour), TOKEN_ADDRESS\n",
    "),\n",
    "balances_with_prices AS (\n",
    "  SELECT\n",
    "    fb.day,\n",
    "    fb.SYMBOL,\n",
    "    fb.filled_balance,\n",
    "    USER_ADDRESS,\n",
    "    lp.PRICE AS daily_price,\n",
    "    fb.filled_balance * lp.PRICE AS value_in_usd\n",
    "  FROM\n",
    "    filled_balances fb\n",
    "    LEFT JOIN latest_prices lp ON lp.TOKEN_ADDRESS = fb.token_contract\n",
    "    AND lp.day = fb.day\n",
    "),\n",
    "aggregated_by_day AS (\n",
    "  SELECT\n",
    "    day,\n",
    "    daily_price,\n",
    "    SYMBOL,\n",
    "    USER_ADDRESS,\n",
    "    SUM(filled_balance) AS total_filled_balance,\n",
    "    SUM(value_in_usd) AS total_value_in_usd\n",
    "  FROM\n",
    "    balances_with_prices\n",
    "  GROUP BY\n",
    "    day, SYMBOL, USER_ADDRESS, daily_price\n",
    "),\n",
    "aggregated_added AS (\n",
    "  SELECT\n",
    "    a.day,\n",
    "    a.SYMBOL,\n",
    "    a.daily_price,\n",
    "    a.total_filled_balance,\n",
    "    a.USER_ADDRESS,\n",
    "    a.total_value_in_usd,\n",
    "    SUM(a.total_value_in_usd) OVER (PARTITION BY a.day, a.USER_ADDRESS) AS total_usd_in_treasury\n",
    "  FROM\n",
    "    aggregated_by_day a\n",
    "  WHERE\n",
    "    a.day <= CURRENT_DATE - 1\n",
    "    AND a.daily_price > 0\n",
    "  ORDER BY\n",
    "    a.day DESC, a.SYMBOL\n",
    "),\n",
    "aggregated_added2 AS (\n",
    "  SELECT\n",
    "    *,\n",
    "    total_value_in_usd / NULLIF(total_usd_in_treasury, 0) AS composition\n",
    "  FROM\n",
    "    aggregated_added\n",
    "  ORDER BY\n",
    "    day DESC, SYMBOL, USER_ADDRESS\n",
    "),\n",
    "daily_returns AS (\n",
    "  SELECT\n",
    "    day,\n",
    "    SYMBOL,\n",
    "    daily_price,\n",
    "    composition,\n",
    "    total_filled_balance,\n",
    "    total_usd_in_treasury,\n",
    "    USER_ADDRESS,\n",
    "    LAG(daily_price) OVER (PARTITION BY SYMBOL ORDER BY day) AS prev_day_price,\n",
    "    (daily_price - LAG(daily_price) OVER (PARTITION BY SYMBOL ORDER BY day)) / LAG(daily_price) OVER (PARTITION BY SYMBOL ORDER BY day) AS daily_return\n",
    "  FROM\n",
    "    aggregated_added2\n",
    "),\n",
    "weighted_daily_returns AS (\n",
    "  SELECT\n",
    "    day,\n",
    "    USER_ADDRESS,\n",
    "    daily_return,\n",
    "    SUM(daily_return * composition) AS weighted_daily_return\n",
    "  FROM\n",
    "    daily_returns\n",
    "  GROUP BY\n",
    "    day, USER_ADDRESS, daily_return\n",
    "),\n",
    "cumulative_returns AS (\n",
    "  SELECT\n",
    "    day,\n",
    "    daily_return,\n",
    "    weighted_daily_return,\n",
    "    USER_ADDRESS,\n",
    "    (1 + weighted_daily_return) AS daily_factor,\n",
    "    EXP(SUM(LN(1 + weighted_daily_return)) OVER (PARTITION BY USER_ADDRESS ORDER BY day ASC)) - 1 AS cumulative_return\n",
    "  FROM\n",
    "    weighted_daily_returns\n",
    "),\n",
    "base_return AS (\n",
    "  SELECT\n",
    "    day,\n",
    "    USER_ADDRESS,\n",
    "    daily_return,\n",
    "    cumulative_return AS base_cumulative_return\n",
    "  FROM\n",
    "    cumulative_returns\n",
    "  WHERE\n",
    "    cumulative_return IS NOT NULL\n",
    "),\n",
    "normalized_returns AS (\n",
    "  SELECT\n",
    "    day,\n",
    "    USER_ADDRESS,\n",
    "    daily_return,\n",
    "    base_cumulative_return,\n",
    "    100 + (100 * (base_cumulative_return - FIRST_VALUE(base_cumulative_return) OVER (PARTITION BY USER_ADDRESS ORDER BY day ASC))) AS portfolio_return\n",
    "  FROM\n",
    "    base_return\n",
    "),\n",
    "return_stats AS (\n",
    "  SELECT\n",
    "    day,\n",
    "    USER_ADDRESS,\n",
    "    base_cumulative_return,\n",
    "    portfolio_return,\n",
    "    AVG(portfolio_return) OVER (PARTITION BY USER_ADDRESS ORDER BY day ASC) AS avg_daily_return,\n",
    "    STDDEV(portfolio_return) OVER (PARTITION BY USER_ADDRESS ORDER BY day ASC) AS stddev_return\n",
    "  FROM\n",
    "    normalized_returns\n",
    "),\n",
    "sharpe_ratio AS (\n",
    "  SELECT\n",
    "    day,\n",
    "    USER_ADDRESS,\n",
    "    base_cumulative_return,\n",
    "    portfolio_return,\n",
    "    NULLIF((portfolio_return - 0.0430 / 365) / NULLIF(STDDEV(portfolio_return) OVER (PARTITION BY USER_ADDRESS ORDER BY day ASC), 0), 0) AS daily_sharpe_ratio\n",
    "  FROM\n",
    "    return_stats\n",
    "),\n",
    "trade_counts AS (\n",
    "  SELECT\n",
    "    DATE_TRUNC('day', BLOCK_TIMESTAMP) AS day,\n",
    "    ORIGIN_FROM_ADDRESS AS USER_ADDRESS,\n",
    "    COUNT(DISTINCT tx_hash) AS number_of_trades\n",
    "  FROM\n",
    "    ethereum.defi.ez_dex_swaps\n",
    "  GROUP BY\n",
    "    day, ORIGIN_FROM_ADDRESS\n",
    "),\n",
    "\n",
    "tokens_traded AS (\n",
    "  SELECT\n",
    "    DATE_TRUNC('day', BLOCK_TIMESTAMP) AS day,\n",
    "    ORIGIN_FROM_ADDRESS AS USER_ADDRESS,\n",
    "    COUNT(DISTINCT SYMBOL_OUT) AS unique_tokens_traded\n",
    "  FROM\n",
    "    ethereum.defi.ez_dex_swaps\n",
    "  GROUP BY\n",
    "    day, ORIGIN_FROM_ADDRESS\n",
    "),\n",
    "\n",
    "final_normalized_returns AS (\n",
    "  SELECT\n",
    "    sr.day,\n",
    "    sr.USER_ADDRESS,\n",
    "    sr.base_cumulative_return,\n",
    "    sr.portfolio_return,\n",
    "    sr.daily_sharpe_ratio,\n",
    "    CASE\n",
    "      WHEN AVG(sr.portfolio_return) > 120 AND sr.daily_sharpe_ratio > 1.5 THEN 'Good Trader'\n",
    "      WHEN AVG(sr.portfolio_return) BETWEEN 100 AND 120 THEN 'Average Trader'\n",
    "      WHEN AVG(sr.portfolio_return) < 100 THEN 'Bad Trader'\n",
    "    END AS trader_class\n",
    "  FROM\n",
    "    sharpe_ratio sr\n",
    "  WHERE\n",
    "    sr.daily_sharpe_ratio IS NOT NULL\n",
    "  GROUP BY\n",
    "    sr.day, sr.USER_ADDRESS, sr.base_cumulative_return, sr.portfolio_return, sr.daily_sharpe_ratio\n",
    ")\n",
    "\n",
    "SELECT\n",
    "  fnr.day,\n",
    "  fnr.USER_ADDRESS,\n",
    "  fnr.base_cumulative_return,\n",
    "  fnr.portfolio_return,\n",
    "  fnr.daily_sharpe_ratio,\n",
    "  fnr.trader_class,\n",
    "  tc.number_of_trades,\n",
    "  tt.unique_tokens_traded\n",
    "FROM\n",
    "  final_normalized_returns fnr\n",
    "  LEFT JOIN trade_counts tc ON tc.day = fnr.day AND tc.USER_ADDRESS = fnr.USER_ADDRESS\n",
    "  LEFT JOIN tokens_traded tt ON tt.day = fnr.day AND tt.USER_ADDRESS = fnr.USER_ADDRESS;\n",
    "\"\"\"\n",
    "\"\"\"Run the query against Flipside's query engine and await the results\"\"\"\n",
    "query_result_set = flipside.query(\n",
    "        sql=sql,\n",
    "        ttl_minutes=10,\n",
    "        timeout_minutes=5\n",
    "    )\n",
    "print(query_result_set)"
   ]
  },
  {
   "cell_type": "code",
   "execution_count": null,
   "metadata": {},
   "outputs": [
    {
     "ename": "",
     "evalue": "",
     "output_type": "error",
     "traceback": [
      "\u001b[1;31mnotebook controller is DISPOSED. \n",
      "\u001b[1;31mView Jupyter <a href='command:jupyter.viewOutput'>log</a> for further details."
     ]
    },
    {
     "ename": "",
     "evalue": "",
     "output_type": "error",
     "traceback": [
      "\u001b[1;31mnotebook controller is DISPOSED. \n",
      "\u001b[1;31mView Jupyter <a href='command:jupyter.viewOutput'>log</a> for further details."
     ]
    },
    {
     "ename": "",
     "evalue": "",
     "output_type": "error",
     "traceback": [
      "\u001b[1;31mnotebook controller is DISPOSED. \n",
      "\u001b[1;31mView Jupyter <a href='command:jupyter.viewOutput'>log</a> for further details."
     ]
    }
   ],
   "source": [
    "\"\"\"This function will be added to Flipside package after testing, just copy/paste as needed for now\"\"\"\n",
    "def auto_paginate_result(query_result_set, page_size=10000):\n",
    "    \"\"\"\n",
    "    This function auto-paginates a query result to get all the data. It assumes 10,000 rows per page.\n",
    "    In case of an error, reduce the page size. Uses numpy.\n",
    "    \"\"\"\n",
    "    num_rows = query_result_set.page.totalRows\n",
    "    page_count = np.ceil(num_rows / page_size).astype(int)\n",
    "    all_rows = []\n",
    "    current_page = 1\n",
    "    while current_page <= page_count:\n",
    "        results = flipside.get_query_results(\n",
    "            query_result_set.query_id,\n",
    "            page_number=current_page,\n",
    "            page_size=page_size\n",
    "        )\n",
    "        if results.records:\n",
    "            all_rows.extend(results.records)  # Use extend() to add list elements\n",
    "        current_page += 1  # Increment the current page number\n",
    "    return all_rows  # Return all_rows in JSON format\n"
   ]
  },
  {
   "cell_type": "code",
   "execution_count": null,
   "metadata": {},
   "outputs": [
    {
     "name": "stdout",
     "output_type": "stream",
     "text": [
      "                        day                                user_address  \\\n",
      "0  2024-05-10T00:00:00.000Z  0xe22ea5b777f20ffb64e1516661ace5c4e9a1f23d   \n",
      "1  2024-10-12T00:00:00.000Z  0x3e55457808fb552a7f1989d68c9daf5d3a51c027   \n",
      "2  2024-03-08T00:00:00.000Z  0xda6d5943ae71272518636e24a1da83ad0e5a85dd   \n",
      "3  2024-09-29T00:00:00.000Z  0xb7dab94552302bcdff309e541d51ad203cbd7042   \n",
      "4  2024-09-15T00:00:00.000Z  0xa76b6a7aa1b4501e6edcb29898e1ce4b9784e81c   \n",
      "\n",
      "   base_cumulative_return  portfolio_return  daily_sharpe_ratio  \\\n",
      "0               -0.049529         93.716634           73.040066   \n",
      "1               -0.432623         60.820272            3.565700   \n",
      "2                0.117400        102.807208           68.423993   \n",
      "3               -0.448353         53.095413            1.806804   \n",
      "4               -0.837154         14.322205            0.421474   \n",
      "\n",
      "     trader_class  number_of_trades  unique_tokens_traded  __row_index  \n",
      "0      Bad Trader               NaN                   NaN            0  \n",
      "1      Bad Trader               NaN                   NaN            1  \n",
      "2  Average Trader               9.0                   2.0            2  \n",
      "3      Bad Trader               NaN                   NaN            3  \n",
      "4      Bad Trader               NaN                   NaN            4  \n"
     ]
    },
    {
     "ename": "",
     "evalue": "",
     "output_type": "error",
     "traceback": [
      "\u001b[1;31mnotebook controller is DISPOSED. \n",
      "\u001b[1;31mView Jupyter <a href='command:jupyter.viewOutput'>log</a> for further details."
     ]
    },
    {
     "ename": "",
     "evalue": "",
     "output_type": "error",
     "traceback": [
      "\u001b[1;31mnotebook controller is DISPOSED. \n",
      "\u001b[1;31mView Jupyter <a href='command:jupyter.viewOutput'>log</a> for further details."
     ]
    },
    {
     "ename": "",
     "evalue": "",
     "output_type": "error",
     "traceback": [
      "\u001b[1;31mnotebook controller is DISPOSED. \n",
      "\u001b[1;31mView Jupyter <a href='command:jupyter.viewOutput'>log</a> for further details."
     ]
    }
   ],
   "source": [
    "\"\"\" Get your data as a pandas data frame\"\"\"\n",
    "\n",
    "trader_classifier = auto_paginate_result(query_result_set)\n",
    "df = pd.DataFrame(trader_classifier)\n",
    "\n",
    "# Set the display option to show all columns\n",
    "# pd.set_option('display.max_columns', None)\n",
    "# pd.set_option('display.width', 1000)  # Adjusts the display width for better visibility\n",
    "\n",
    "#Display Dataframe\n",
    "print(df.head())"
   ]
  },
  {
   "cell_type": "code",
   "execution_count": null,
   "metadata": {},
   "outputs": [
    {
     "name": "stdout",
     "output_type": "stream",
     "text": [
      "                        day                                user_address  \\\n",
      "0  2024-05-10T00:00:00.000Z  0xe22ea5b777f20ffb64e1516661ace5c4e9a1f23d   \n",
      "1  2024-10-12T00:00:00.000Z  0x3e55457808fb552a7f1989d68c9daf5d3a51c027   \n",
      "2  2024-03-08T00:00:00.000Z  0xda6d5943ae71272518636e24a1da83ad0e5a85dd   \n",
      "3  2024-09-29T00:00:00.000Z  0xb7dab94552302bcdff309e541d51ad203cbd7042   \n",
      "4  2024-09-15T00:00:00.000Z  0xa76b6a7aa1b4501e6edcb29898e1ce4b9784e81c   \n",
      "\n",
      "   base_cumulative_return  portfolio_return  daily_sharpe_ratio  \\\n",
      "0               -0.049529         93.716634           73.040066   \n",
      "1               -0.432623         60.820272            3.565700   \n",
      "2                0.117400        102.807208           68.423993   \n",
      "3               -0.448353         53.095413            1.806804   \n",
      "4               -0.837154         14.322205            0.421474   \n",
      "\n",
      "     trader_class  number_of_trades  unique_tokens_traded  \n",
      "0      Bad Trader               NaN                   NaN  \n",
      "1      Bad Trader               NaN                   NaN  \n",
      "2  Average Trader               9.0                   2.0  \n",
      "3      Bad Trader               NaN                   NaN  \n",
      "4      Bad Trader               NaN                   NaN  \n"
     ]
    },
    {
     "ename": "",
     "evalue": "",
     "output_type": "error",
     "traceback": [
      "\u001b[1;31mnotebook controller is DISPOSED. \n",
      "\u001b[1;31mView Jupyter <a href='command:jupyter.viewOutput'>log</a> for further details."
     ]
    },
    {
     "ename": "",
     "evalue": "",
     "output_type": "error",
     "traceback": [
      "\u001b[1;31mnotebook controller is DISPOSED. \n",
      "\u001b[1;31mView Jupyter <a href='command:jupyter.viewOutput'>log</a> for further details."
     ]
    },
    {
     "ename": "",
     "evalue": "",
     "output_type": "error",
     "traceback": [
      "\u001b[1;31mnotebook controller is DISPOSED. \n",
      "\u001b[1;31mView Jupyter <a href='command:jupyter.viewOutput'>log</a> for further details."
     ]
    }
   ],
   "source": [
    "#Drop the \"__row_index\" column\n",
    "df_t = df.drop(columns = ['__row_index'])\n",
    "\n",
    "#Remove later\n",
    "print(df_t.head())"
   ]
  },
  {
   "cell_type": "code",
   "execution_count": null,
   "metadata": {},
   "outputs": [
    {
     "name": "stdout",
     "output_type": "stream",
     "text": [
      "          day                                user_address  \\\n",
      "0  2024-05-10  0xe22ea5b777f20ffb64e1516661ace5c4e9a1f23d   \n",
      "1  2024-10-12  0x3e55457808fb552a7f1989d68c9daf5d3a51c027   \n",
      "2  2024-03-08  0xda6d5943ae71272518636e24a1da83ad0e5a85dd   \n",
      "3  2024-09-29  0xb7dab94552302bcdff309e541d51ad203cbd7042   \n",
      "4  2024-09-15  0xa76b6a7aa1b4501e6edcb29898e1ce4b9784e81c   \n",
      "\n",
      "   base_cumulative_return  portfolio_return  daily_sharpe_ratio  \\\n",
      "0               -0.049529         93.716634           73.040066   \n",
      "1               -0.432623         60.820272            3.565700   \n",
      "2                0.117400        102.807208           68.423993   \n",
      "3               -0.448353         53.095413            1.806804   \n",
      "4               -0.837154         14.322205            0.421474   \n",
      "\n",
      "     trader_class  number_of_trades  unique_tokens_traded  \n",
      "0      Bad Trader               NaN                   NaN  \n",
      "1      Bad Trader               NaN                   NaN  \n",
      "2  Average Trader               9.0                   2.0  \n",
      "3      Bad Trader               NaN                   NaN  \n",
      "4      Bad Trader               NaN                   NaN  \n"
     ]
    },
    {
     "ename": "",
     "evalue": "",
     "output_type": "error",
     "traceback": [
      "\u001b[1;31mnotebook controller is DISPOSED. \n",
      "\u001b[1;31mView Jupyter <a href='command:jupyter.viewOutput'>log</a> for further details."
     ]
    },
    {
     "ename": "",
     "evalue": "",
     "output_type": "error",
     "traceback": [
      "\u001b[1;31mnotebook controller is DISPOSED. \n",
      "\u001b[1;31mView Jupyter <a href='command:jupyter.viewOutput'>log</a> for further details."
     ]
    },
    {
     "ename": "",
     "evalue": "",
     "output_type": "error",
     "traceback": [
      "\u001b[1;31mnotebook controller is DISPOSED. \n",
      "\u001b[1;31mView Jupyter <a href='command:jupyter.viewOutput'>log</a> for further details."
     ]
    }
   ],
   "source": [
    "# Convert 'day' column to datetime format and remove time component \n",
    "df_t['day'] = pd.to_datetime(df_t['day'], errors='coerce').dt.date\n",
    "#Remove later\n",
    "print(df_t.head())"
   ]
  },
  {
   "cell_type": "code",
   "execution_count": null,
   "metadata": {},
   "outputs": [
    {
     "name": "stdout",
     "output_type": "stream",
     "text": [
      "              day                                user_address  \\\n",
      "17     2024-07-22  0xe99bc90d3cb86cf095d75a020c10fbf9d4aa9a4d   \n",
      "26     2024-11-16  0x1518c211f611114decd1842894e08b803afcd27b   \n",
      "30     2024-10-13  0x6f5884a6ba14297eab47aa52c4e739f0a11ff7c1   \n",
      "32     2024-10-03  0xd0640fcb1ef5ac385b57701c5ef7030331c8d80b   \n",
      "37     2024-06-21  0x580e4ce9d324426e8e5e2a33298a1d2fd73273a7   \n",
      "...           ...                                         ...   \n",
      "18101  2024-04-21  0xfb94d3404c1d3d9d6f08f79e58041d5ea95accfa   \n",
      "18107  2024-05-29  0x580e4ce9d324426e8e5e2a33298a1d2fd73273a7   \n",
      "18112  2024-07-26  0xfb94d3404c1d3d9d6f08f79e58041d5ea95accfa   \n",
      "18116  2024-10-06  0x1518c211f611114decd1842894e08b803afcd27b   \n",
      "18129  2024-10-09  0x9c03bf3a8df813938becbdc42c8156f8964cdf46   \n",
      "\n",
      "       base_cumulative_return  portfolio_return  daily_sharpe_ratio  \\\n",
      "17               1.041085e+08      1.041085e+10            1.559130   \n",
      "26               3.229248e+01      3.306268e+03            3.866831   \n",
      "30               1.132627e+07      1.132627e+09            1.478127   \n",
      "32               1.329914e+02      1.339226e+04            3.338110   \n",
      "37               2.760988e+01      2.862586e+03            2.276141   \n",
      "...                       ...               ...                 ...   \n",
      "18101            2.058835e+00      3.062377e+02            3.976274   \n",
      "18107            3.856003e+01      3.957602e+03            3.283754   \n",
      "18112            2.953154e+00      3.956696e+02            4.838879   \n",
      "18116            3.229248e+01      3.306268e+03            4.539966   \n",
      "18129            2.470563e+01      2.570518e+03            1.544293   \n",
      "\n",
      "      trader_class  number_of_trades  unique_tokens_traded  \n",
      "17     Good Trader               1.0                   3.0  \n",
      "26     Good Trader               NaN                   NaN  \n",
      "30            None               NaN                   NaN  \n",
      "32     Good Trader               NaN                   NaN  \n",
      "37     Good Trader               NaN                   NaN  \n",
      "...            ...               ...                   ...  \n",
      "18101  Good Trader               NaN                   NaN  \n",
      "18107  Good Trader               NaN                   NaN  \n",
      "18112  Good Trader               NaN                   NaN  \n",
      "18116  Good Trader               NaN                   NaN  \n",
      "18129  Good Trader               NaN                   NaN  \n",
      "\n",
      "[3414 rows x 8 columns]\n"
     ]
    },
    {
     "ename": "",
     "evalue": "",
     "output_type": "error",
     "traceback": [
      "\u001b[1;31mnotebook controller is DISPOSED. \n",
      "\u001b[1;31mView Jupyter <a href='command:jupyter.viewOutput'>log</a> for further details."
     ]
    },
    {
     "ename": "",
     "evalue": "",
     "output_type": "error",
     "traceback": [
      "\u001b[1;31mnotebook controller is DISPOSED. \n",
      "\u001b[1;31mView Jupyter <a href='command:jupyter.viewOutput'>log</a> for further details."
     ]
    },
    {
     "ename": "",
     "evalue": "",
     "output_type": "error",
     "traceback": [
      "\u001b[1;31mnotebook controller is DISPOSED. \n",
      "\u001b[1;31mView Jupyter <a href='command:jupyter.viewOutput'>log</a> for further details."
     ]
    }
   ],
   "source": [
    "# Define a function to detect outliers based on IQR\n",
    "def find_outliers_iqr(df_t, column):\n",
    "    Q1 = df_t[column].quantile(0.25)\n",
    "    Q3 = df_t[column].quantile(0.75)\n",
    "    IQR = Q3 - Q1\n",
    "    lower_bound = Q1 - 1.5 * IQR\n",
    "    upper_bound = Q3 + 1.5 * IQR\n",
    "    return df_t[(df_t[column] < lower_bound) | (df_t[column] > upper_bound)]\n",
    "\n",
    "#Find outliers for 'portfolio_return'\n",
    "outliers = find_outliers_iqr(df_t, 'portfolio_return')\n",
    "print(outliers)\n"
   ]
  },
  {
   "cell_type": "code",
   "execution_count": null,
   "metadata": {},
   "outputs": [
    {
     "name": "stdout",
     "output_type": "stream",
     "text": [
      "              day                                user_address  \\\n",
      "0      2024-05-10  0xe22ea5b777f20ffb64e1516661ace5c4e9a1f23d   \n",
      "1      2024-10-12  0x3e55457808fb552a7f1989d68c9daf5d3a51c027   \n",
      "2      2024-03-08  0xda6d5943ae71272518636e24a1da83ad0e5a85dd   \n",
      "3      2024-09-29  0xb7dab94552302bcdff309e541d51ad203cbd7042   \n",
      "4      2024-09-15  0xa76b6a7aa1b4501e6edcb29898e1ce4b9784e81c   \n",
      "...           ...                                         ...   \n",
      "18125  2024-04-21  0xf7ca1f0ff0995c84fef530f7c74c69fb80331e81   \n",
      "18126  2024-06-21  0xeb7742c9ad0cf9e2e6b4a7fda44719193376a547   \n",
      "18127  2024-11-04  0x924cafec4f967be5df085ad94d8d50574f9a2bb0   \n",
      "18128  2024-10-11  0xda6d5943ae71272518636e24a1da83ad0e5a85dd   \n",
      "18130  2024-02-10  0x8075ddc91c6d521badfbf8c1b7bf37ad47716fb9   \n",
      "\n",
      "       base_cumulative_return  portfolio_return  daily_sharpe_ratio  \\\n",
      "0                   -0.049529         93.716634           73.040066   \n",
      "1                   -0.432623         60.820272            3.565700   \n",
      "2                    0.117400        102.807208           68.423993   \n",
      "3                   -0.448353         53.095413            1.806804   \n",
      "4                   -0.837154         14.322205            0.421474   \n",
      "...                       ...               ...                 ...   \n",
      "18125                0.136924        112.564908           74.482557   \n",
      "18126               -0.359338         63.048803            4.907639   \n",
      "18127               -0.034025         96.597523           25.376358   \n",
      "18128                0.112322        102.299416           37.194409   \n",
      "18130                0.202728        119.860294           12.868856   \n",
      "\n",
      "         trader_class  number_of_trades  unique_tokens_traded  \n",
      "0          Bad Trader               NaN                   NaN  \n",
      "1          Bad Trader               NaN                   NaN  \n",
      "2      Average Trader               9.0                   2.0  \n",
      "3          Bad Trader               NaN                   NaN  \n",
      "4          Bad Trader               NaN                   NaN  \n",
      "...               ...               ...                   ...  \n",
      "18125  Average Trader               NaN                   NaN  \n",
      "18126      Bad Trader              45.0                  16.0  \n",
      "18127      Bad Trader               NaN                   NaN  \n",
      "18128  Average Trader               NaN                   NaN  \n",
      "18130  Average Trader               NaN                   NaN  \n",
      "\n",
      "[14717 rows x 8 columns]\n"
     ]
    },
    {
     "ename": "",
     "evalue": "",
     "output_type": "error",
     "traceback": [
      "\u001b[1;31mnotebook controller is DISPOSED. \n",
      "\u001b[1;31mView Jupyter <a href='command:jupyter.viewOutput'>log</a> for further details."
     ]
    },
    {
     "ename": "",
     "evalue": "",
     "output_type": "error",
     "traceback": [
      "\u001b[1;31mnotebook controller is DISPOSED. \n",
      "\u001b[1;31mView Jupyter <a href='command:jupyter.viewOutput'>log</a> for further details."
     ]
    },
    {
     "ename": "",
     "evalue": "",
     "output_type": "error",
     "traceback": [
      "\u001b[1;31mnotebook controller is DISPOSED. \n",
      "\u001b[1;31mView Jupyter <a href='command:jupyter.viewOutput'>log</a> for further details."
     ]
    }
   ],
   "source": [
    "# Remove outliers from 'portfolio_return' column based on IQR method\n",
    "def remove_outliers_iqr(df_t, column):\n",
    "    Q1 = df_t[column].quantile(0.25)\n",
    "    Q3 = df_t[column].quantile(0.75)\n",
    "    IQR = Q3 - Q1\n",
    "    lower_bound = Q1 - 1.5 * IQR\n",
    "    upper_bound = Q3 + 1.5 * IQR\n",
    "    return df_t[(df_t[column] >= lower_bound) & (df_t[column] <= upper_bound)]\n",
    "\n",
    "# Apply the function to remove outliers from the 'portfolio_return' column\n",
    "df_clean = remove_outliers_iqr(df_t, 'portfolio_return')\n",
    "\n",
    "# Verify the result\n",
    "print(df_clean)\n"
   ]
  },
  {
   "cell_type": "code",
   "execution_count": null,
   "metadata": {},
   "outputs": [
    {
     "name": "stdout",
     "output_type": "stream",
     "text": [
      "day                           0\n",
      "user_address                  0\n",
      "base_cumulative_return        0\n",
      "portfolio_return              0\n",
      "daily_sharpe_ratio            0\n",
      "trader_class                  8\n",
      "number_of_trades          10871\n",
      "unique_tokens_traded      10871\n",
      "dtype: int64\n"
     ]
    },
    {
     "ename": "",
     "evalue": "",
     "output_type": "error",
     "traceback": [
      "\u001b[1;31mnotebook controller is DISPOSED. \n",
      "\u001b[1;31mView Jupyter <a href='command:jupyter.viewOutput'>log</a> for further details."
     ]
    },
    {
     "ename": "",
     "evalue": "",
     "output_type": "error",
     "traceback": [
      "\u001b[1;31mnotebook controller is DISPOSED. \n",
      "\u001b[1;31mView Jupyter <a href='command:jupyter.viewOutput'>log</a> for further details."
     ]
    },
    {
     "ename": "",
     "evalue": "",
     "output_type": "error",
     "traceback": [
      "\u001b[1;31mnotebook controller is DISPOSED. \n",
      "\u001b[1;31mView Jupyter <a href='command:jupyter.viewOutput'>log</a> for further details."
     ]
    }
   ],
   "source": [
    "# Check for NaN values in the entire DataFrame\n",
    "print(df_clean.isna().sum())"
   ]
  },
  {
   "cell_type": "code",
   "execution_count": null,
   "metadata": {},
   "outputs": [
    {
     "name": "stdout",
     "output_type": "stream",
     "text": [
      "day                           0\n",
      "user_address                  0\n",
      "base_cumulative_return        0\n",
      "portfolio_return              0\n",
      "daily_sharpe_ratio            0\n",
      "trader_class                  0\n",
      "number_of_trades          10864\n",
      "unique_tokens_traded      10864\n",
      "dtype: int64\n"
     ]
    },
    {
     "ename": "",
     "evalue": "",
     "output_type": "error",
     "traceback": [
      "\u001b[1;31mnotebook controller is DISPOSED. \n",
      "\u001b[1;31mView Jupyter <a href='command:jupyter.viewOutput'>log</a> for further details."
     ]
    },
    {
     "ename": "",
     "evalue": "",
     "output_type": "error",
     "traceback": [
      "\u001b[1;31mnotebook controller is DISPOSED. \n",
      "\u001b[1;31mView Jupyter <a href='command:jupyter.viewOutput'>log</a> for further details."
     ]
    },
    {
     "ename": "",
     "evalue": "",
     "output_type": "error",
     "traceback": [
      "\u001b[1;31mnotebook controller is DISPOSED. \n",
      "\u001b[1;31mView Jupyter <a href='command:jupyter.viewOutput'>log</a> for further details."
     ]
    }
   ],
   "source": [
    "#drop rows in trader_class column with NaN values\n",
    "df_cleann = df_clean.dropna(subset=['trader_class'])\n",
    "print(df_cleann.isna().sum())"
   ]
  },
  {
   "cell_type": "code",
   "execution_count": null,
   "metadata": {},
   "outputs": [
    {
     "name": "stdout",
     "output_type": "stream",
     "text": [
      "day                       0\n",
      "user_address              0\n",
      "base_cumulative_return    0\n",
      "portfolio_return          0\n",
      "daily_sharpe_ratio        0\n",
      "trader_class              0\n",
      "number_of_trades          0\n",
      "unique_tokens_traded      0\n",
      "dtype: int64\n"
     ]
    },
    {
     "ename": "",
     "evalue": "",
     "output_type": "error",
     "traceback": [
      "\u001b[1;31mnotebook controller is DISPOSED. \n",
      "\u001b[1;31mView Jupyter <a href='command:jupyter.viewOutput'>log</a> for further details."
     ]
    },
    {
     "ename": "",
     "evalue": "",
     "output_type": "error",
     "traceback": [
      "\u001b[1;31mnotebook controller is DISPOSED. \n",
      "\u001b[1;31mView Jupyter <a href='command:jupyter.viewOutput'>log</a> for further details."
     ]
    },
    {
     "ename": "",
     "evalue": "",
     "output_type": "error",
     "traceback": [
      "\u001b[1;31mnotebook controller is DISPOSED. \n",
      "\u001b[1;31mView Jupyter <a href='command:jupyter.viewOutput'>log</a> for further details."
     ]
    }
   ],
   "source": [
    "#Fill NaN with 0\n",
    "df_cleaned = df_cleann.fillna(0)\n",
    "print(df_cleaned.isna().sum())"
   ]
  },
  {
   "cell_type": "code",
   "execution_count": null,
   "metadata": {},
   "outputs": [
    {
     "data": {
      "text/plain": [
       "day                        object\n",
       "user_address               object\n",
       "base_cumulative_return    float64\n",
       "portfolio_return          float64\n",
       "daily_sharpe_ratio        float64\n",
       "trader_class               object\n",
       "number_of_trades          float64\n",
       "unique_tokens_traded      float64\n",
       "dtype: object"
      ]
     },
     "execution_count": 14,
     "metadata": {},
     "output_type": "execute_result"
    },
    {
     "ename": "",
     "evalue": "",
     "output_type": "error",
     "traceback": [
      "\u001b[1;31mnotebook controller is DISPOSED. \n",
      "\u001b[1;31mView Jupyter <a href='command:jupyter.viewOutput'>log</a> for further details."
     ]
    },
    {
     "ename": "",
     "evalue": "",
     "output_type": "error",
     "traceback": [
      "\u001b[1;31mnotebook controller is DISPOSED. \n",
      "\u001b[1;31mView Jupyter <a href='command:jupyter.viewOutput'>log</a> for further details."
     ]
    },
    {
     "ename": "",
     "evalue": "",
     "output_type": "error",
     "traceback": [
      "\u001b[1;31mnotebook controller is DISPOSED. \n",
      "\u001b[1;31mView Jupyter <a href='command:jupyter.viewOutput'>log</a> for further details."
     ]
    }
   ],
   "source": [
    "df_cleaned.dtypes"
   ]
  },
  {
   "cell_type": "code",
   "execution_count": null,
   "metadata": {},
   "outputs": [
    {
     "ename": "",
     "evalue": "",
     "output_type": "error",
     "traceback": [
      "\u001b[1;31mnotebook controller is DISPOSED. \n",
      "\u001b[1;31mView Jupyter <a href='command:jupyter.viewOutput'>log</a> for further details."
     ]
    },
    {
     "ename": "",
     "evalue": "",
     "output_type": "error",
     "traceback": [
      "\u001b[1;31mnotebook controller is DISPOSED. \n",
      "\u001b[1;31mView Jupyter <a href='command:jupyter.viewOutput'>log</a> for further details."
     ]
    },
    {
     "ename": "",
     "evalue": "",
     "output_type": "error",
     "traceback": [
      "\u001b[1;31mnotebook controller is DISPOSED. \n",
      "\u001b[1;31mView Jupyter <a href='command:jupyter.viewOutput'>log</a> for further details."
     ]
    }
   ],
   "source": [
    "#convert day to datetime\n",
    "df_cleaned['day'] = pd.to_datetime(df_cleaned['day'])"
   ]
  },
  {
   "cell_type": "code",
   "execution_count": null,
   "metadata": {},
   "outputs": [
    {
     "data": {
      "text/plain": [
       "day                       datetime64[ns]\n",
       "user_address                      object\n",
       "base_cumulative_return           float64\n",
       "portfolio_return                 float64\n",
       "daily_sharpe_ratio               float64\n",
       "trader_class                      object\n",
       "number_of_trades                 float64\n",
       "unique_tokens_traded             float64\n",
       "dtype: object"
      ]
     },
     "execution_count": 16,
     "metadata": {},
     "output_type": "execute_result"
    },
    {
     "ename": "",
     "evalue": "",
     "output_type": "error",
     "traceback": [
      "\u001b[1;31mnotebook controller is DISPOSED. \n",
      "\u001b[1;31mView Jupyter <a href='command:jupyter.viewOutput'>log</a> for further details."
     ]
    },
    {
     "ename": "",
     "evalue": "",
     "output_type": "error",
     "traceback": [
      "\u001b[1;31mnotebook controller is DISPOSED. \n",
      "\u001b[1;31mView Jupyter <a href='command:jupyter.viewOutput'>log</a> for further details."
     ]
    },
    {
     "ename": "",
     "evalue": "",
     "output_type": "error",
     "traceback": [
      "\u001b[1;31mnotebook controller is DISPOSED. \n",
      "\u001b[1;31mView Jupyter <a href='command:jupyter.viewOutput'>log</a> for further details."
     ]
    }
   ],
   "source": [
    "df_cleaned.dtypes"
   ]
  },
  {
   "cell_type": "code",
   "execution_count": null,
   "metadata": {},
   "outputs": [
    {
     "data": {
      "text/plain": [
       "0        Bad Trader\n",
       "1        Bad Trader\n",
       "2    Average Trader\n",
       "3        Bad Trader\n",
       "4        Bad Trader\n",
       "Name: trader_class, dtype: object"
      ]
     },
     "execution_count": 17,
     "metadata": {},
     "output_type": "execute_result"
    },
    {
     "ename": "",
     "evalue": "",
     "output_type": "error",
     "traceback": [
      "\u001b[1;31mnotebook controller is DISPOSED. \n",
      "\u001b[1;31mView Jupyter <a href='command:jupyter.viewOutput'>log</a> for further details."
     ]
    },
    {
     "ename": "",
     "evalue": "",
     "output_type": "error",
     "traceback": [
      "\u001b[1;31mnotebook controller is DISPOSED. \n",
      "\u001b[1;31mView Jupyter <a href='command:jupyter.viewOutput'>log</a> for further details."
     ]
    },
    {
     "ename": "",
     "evalue": "",
     "output_type": "error",
     "traceback": [
      "\u001b[1;31mnotebook controller is DISPOSED. \n",
      "\u001b[1;31mView Jupyter <a href='command:jupyter.viewOutput'>log</a> for further details."
     ]
    }
   ],
   "source": [
    "df_cleaned.trader_class.head()"
   ]
  },
  {
   "cell_type": "code",
   "execution_count": null,
   "metadata": {},
   "outputs": [
    {
     "data": {
      "text/plain": [
       "Index(['Average Trader', 'Bad Trader', 'Good Trader'], dtype='object')"
      ]
     },
     "execution_count": 18,
     "metadata": {},
     "output_type": "execute_result"
    },
    {
     "ename": "",
     "evalue": "",
     "output_type": "error",
     "traceback": [
      "\u001b[1;31mnotebook controller is DISPOSED. \n",
      "\u001b[1;31mView Jupyter <a href='command:jupyter.viewOutput'>log</a> for further details."
     ]
    },
    {
     "ename": "",
     "evalue": "",
     "output_type": "error",
     "traceback": [
      "\u001b[1;31mnotebook controller is DISPOSED. \n",
      "\u001b[1;31mView Jupyter <a href='command:jupyter.viewOutput'>log</a> for further details."
     ]
    },
    {
     "ename": "",
     "evalue": "",
     "output_type": "error",
     "traceback": [
      "\u001b[1;31mnotebook controller is DISPOSED. \n",
      "\u001b[1;31mView Jupyter <a href='command:jupyter.viewOutput'>log</a> for further details."
     ]
    }
   ],
   "source": [
    "# Convert 'trader_class' to a categorical column\n",
    "df_cleaned[\"trader_class\"] = df_cleaned[\"trader_class\"].astype('category')\n",
    "df_cleaned[\"trader_class\"].cat.categories"
   ]
  },
  {
   "cell_type": "code",
   "execution_count": null,
   "metadata": {},
   "outputs": [
    {
     "data": {
      "text/plain": [
       "day                       datetime64[ns]\n",
       "user_address                      object\n",
       "base_cumulative_return           float64\n",
       "portfolio_return                 float64\n",
       "daily_sharpe_ratio               float64\n",
       "trader_class                    category\n",
       "number_of_trades                 float64\n",
       "unique_tokens_traded             float64\n",
       "dtype: object"
      ]
     },
     "execution_count": 19,
     "metadata": {},
     "output_type": "execute_result"
    },
    {
     "ename": "",
     "evalue": "",
     "output_type": "error",
     "traceback": [
      "\u001b[1;31mnotebook controller is DISPOSED. \n",
      "\u001b[1;31mView Jupyter <a href='command:jupyter.viewOutput'>log</a> for further details."
     ]
    },
    {
     "ename": "",
     "evalue": "",
     "output_type": "error",
     "traceback": [
      "\u001b[1;31mnotebook controller is DISPOSED. \n",
      "\u001b[1;31mView Jupyter <a href='command:jupyter.viewOutput'>log</a> for further details."
     ]
    },
    {
     "ename": "",
     "evalue": "",
     "output_type": "error",
     "traceback": [
      "\u001b[1;31mnotebook controller is DISPOSED. \n",
      "\u001b[1;31mView Jupyter <a href='command:jupyter.viewOutput'>log</a> for further details."
     ]
    }
   ],
   "source": [
    "df_cleaned.dtypes"
   ]
  },
  {
   "cell_type": "code",
   "execution_count": null,
   "metadata": {},
   "outputs": [
    {
     "data": {
      "text/plain": [
       "0        1\n",
       "1        1\n",
       "2        0\n",
       "3        1\n",
       "4        1\n",
       "        ..\n",
       "18125    0\n",
       "18126    1\n",
       "18127    1\n",
       "18128    0\n",
       "18130    0\n",
       "Name: trader_class_numeric, Length: 14709, dtype: int8"
      ]
     },
     "execution_count": 20,
     "metadata": {},
     "output_type": "execute_result"
    },
    {
     "ename": "",
     "evalue": "",
     "output_type": "error",
     "traceback": [
      "\u001b[1;31mnotebook controller is DISPOSED. \n",
      "\u001b[1;31mView Jupyter <a href='command:jupyter.viewOutput'>log</a> for further details."
     ]
    },
    {
     "ename": "",
     "evalue": "",
     "output_type": "error",
     "traceback": [
      "\u001b[1;31mnotebook controller is DISPOSED. \n",
      "\u001b[1;31mView Jupyter <a href='command:jupyter.viewOutput'>log</a> for further details."
     ]
    },
    {
     "ename": "",
     "evalue": "",
     "output_type": "error",
     "traceback": [
      "\u001b[1;31mnotebook controller is DISPOSED. \n",
      "\u001b[1;31mView Jupyter <a href='command:jupyter.viewOutput'>log</a> for further details."
     ]
    }
   ],
   "source": [
    "# Assign unique integers to categories\n",
    "df_cleaned['trader_class_numeric'] = df_cleaned['trader_class'].astype('category').cat.codes\n",
    "df_cleaned['trader_class_numeric']"
   ]
  },
  {
   "cell_type": "code",
   "execution_count": null,
   "metadata": {},
   "outputs": [
    {
     "data": {
      "text/html": [
       "<div>\n",
       "<style scoped>\n",
       "    .dataframe tbody tr th:only-of-type {\n",
       "        vertical-align: middle;\n",
       "    }\n",
       "\n",
       "    .dataframe tbody tr th {\n",
       "        vertical-align: top;\n",
       "    }\n",
       "\n",
       "    .dataframe thead th {\n",
       "        text-align: right;\n",
       "    }\n",
       "</style>\n",
       "<table border=\"1\" class=\"dataframe\">\n",
       "  <thead>\n",
       "    <tr style=\"text-align: right;\">\n",
       "      <th></th>\n",
       "      <th>day</th>\n",
       "      <th>user_address</th>\n",
       "      <th>base_cumulative_return</th>\n",
       "      <th>portfolio_return</th>\n",
       "      <th>daily_sharpe_ratio</th>\n",
       "      <th>trader_class</th>\n",
       "      <th>number_of_trades</th>\n",
       "      <th>unique_tokens_traded</th>\n",
       "      <th>trader_class_numeric</th>\n",
       "    </tr>\n",
       "  </thead>\n",
       "  <tbody>\n",
       "    <tr>\n",
       "      <th>0</th>\n",
       "      <td>2024-05-10</td>\n",
       "      <td>0xe22ea5b777f20ffb64e1516661ace5c4e9a1f23d</td>\n",
       "      <td>-0.049529</td>\n",
       "      <td>93.716634</td>\n",
       "      <td>73.040066</td>\n",
       "      <td>Bad Trader</td>\n",
       "      <td>0.0</td>\n",
       "      <td>0.0</td>\n",
       "      <td>1</td>\n",
       "    </tr>\n",
       "    <tr>\n",
       "      <th>1</th>\n",
       "      <td>2024-10-12</td>\n",
       "      <td>0x3e55457808fb552a7f1989d68c9daf5d3a51c027</td>\n",
       "      <td>-0.432623</td>\n",
       "      <td>60.820272</td>\n",
       "      <td>3.565700</td>\n",
       "      <td>Bad Trader</td>\n",
       "      <td>0.0</td>\n",
       "      <td>0.0</td>\n",
       "      <td>1</td>\n",
       "    </tr>\n",
       "    <tr>\n",
       "      <th>2</th>\n",
       "      <td>2024-03-08</td>\n",
       "      <td>0xda6d5943ae71272518636e24a1da83ad0e5a85dd</td>\n",
       "      <td>0.117400</td>\n",
       "      <td>102.807208</td>\n",
       "      <td>68.423993</td>\n",
       "      <td>Average Trader</td>\n",
       "      <td>9.0</td>\n",
       "      <td>2.0</td>\n",
       "      <td>0</td>\n",
       "    </tr>\n",
       "    <tr>\n",
       "      <th>3</th>\n",
       "      <td>2024-09-29</td>\n",
       "      <td>0xb7dab94552302bcdff309e541d51ad203cbd7042</td>\n",
       "      <td>-0.448353</td>\n",
       "      <td>53.095413</td>\n",
       "      <td>1.806804</td>\n",
       "      <td>Bad Trader</td>\n",
       "      <td>0.0</td>\n",
       "      <td>0.0</td>\n",
       "      <td>1</td>\n",
       "    </tr>\n",
       "    <tr>\n",
       "      <th>4</th>\n",
       "      <td>2024-09-15</td>\n",
       "      <td>0xa76b6a7aa1b4501e6edcb29898e1ce4b9784e81c</td>\n",
       "      <td>-0.837154</td>\n",
       "      <td>14.322205</td>\n",
       "      <td>0.421474</td>\n",
       "      <td>Bad Trader</td>\n",
       "      <td>0.0</td>\n",
       "      <td>0.0</td>\n",
       "      <td>1</td>\n",
       "    </tr>\n",
       "  </tbody>\n",
       "</table>\n",
       "</div>"
      ],
      "text/plain": [
       "         day                                user_address  \\\n",
       "0 2024-05-10  0xe22ea5b777f20ffb64e1516661ace5c4e9a1f23d   \n",
       "1 2024-10-12  0x3e55457808fb552a7f1989d68c9daf5d3a51c027   \n",
       "2 2024-03-08  0xda6d5943ae71272518636e24a1da83ad0e5a85dd   \n",
       "3 2024-09-29  0xb7dab94552302bcdff309e541d51ad203cbd7042   \n",
       "4 2024-09-15  0xa76b6a7aa1b4501e6edcb29898e1ce4b9784e81c   \n",
       "\n",
       "   base_cumulative_return  portfolio_return  daily_sharpe_ratio  \\\n",
       "0               -0.049529         93.716634           73.040066   \n",
       "1               -0.432623         60.820272            3.565700   \n",
       "2                0.117400        102.807208           68.423993   \n",
       "3               -0.448353         53.095413            1.806804   \n",
       "4               -0.837154         14.322205            0.421474   \n",
       "\n",
       "     trader_class  number_of_trades  unique_tokens_traded  \\\n",
       "0      Bad Trader               0.0                   0.0   \n",
       "1      Bad Trader               0.0                   0.0   \n",
       "2  Average Trader               9.0                   2.0   \n",
       "3      Bad Trader               0.0                   0.0   \n",
       "4      Bad Trader               0.0                   0.0   \n",
       "\n",
       "   trader_class_numeric  \n",
       "0                     1  \n",
       "1                     1  \n",
       "2                     0  \n",
       "3                     1  \n",
       "4                     1  "
      ]
     },
     "execution_count": 21,
     "metadata": {},
     "output_type": "execute_result"
    },
    {
     "ename": "",
     "evalue": "",
     "output_type": "error",
     "traceback": [
      "\u001b[1;31mnotebook controller is DISPOSED. \n",
      "\u001b[1;31mView Jupyter <a href='command:jupyter.viewOutput'>log</a> for further details."
     ]
    },
    {
     "ename": "",
     "evalue": "",
     "output_type": "error",
     "traceback": [
      "\u001b[1;31mnotebook controller is DISPOSED. \n",
      "\u001b[1;31mView Jupyter <a href='command:jupyter.viewOutput'>log</a> for further details."
     ]
    },
    {
     "ename": "",
     "evalue": "",
     "output_type": "error",
     "traceback": [
      "\u001b[1;31mnotebook controller is DISPOSED. \n",
      "\u001b[1;31mView Jupyter <a href='command:jupyter.viewOutput'>log</a> for further details."
     ]
    }
   ],
   "source": [
    "df_cleaned.head()"
   ]
  },
  {
   "cell_type": "code",
   "execution_count": null,
   "metadata": {},
   "outputs": [
    {
     "data": {
      "text/plain": [
       "Index(['day', 'user_address', 'base_cumulative_return', 'portfolio_return',\n",
       "       'daily_sharpe_ratio', 'trader_class', 'number_of_trades',\n",
       "       'unique_tokens_traded', 'trader_class_numeric'],\n",
       "      dtype='object')"
      ]
     },
     "execution_count": 22,
     "metadata": {},
     "output_type": "execute_result"
    },
    {
     "ename": "",
     "evalue": "",
     "output_type": "error",
     "traceback": [
      "\u001b[1;31mnotebook controller is DISPOSED. \n",
      "\u001b[1;31mView Jupyter <a href='command:jupyter.viewOutput'>log</a> for further details."
     ]
    },
    {
     "ename": "",
     "evalue": "",
     "output_type": "error",
     "traceback": [
      "\u001b[1;31mnotebook controller is DISPOSED. \n",
      "\u001b[1;31mView Jupyter <a href='command:jupyter.viewOutput'>log</a> for further details."
     ]
    },
    {
     "ename": "",
     "evalue": "",
     "output_type": "error",
     "traceback": [
      "\u001b[1;31mnotebook controller is DISPOSED. \n",
      "\u001b[1;31mView Jupyter <a href='command:jupyter.viewOutput'>log</a> for further details."
     ]
    }
   ],
   "source": [
    "df_cleaned.columns"
   ]
  },
  {
   "cell_type": "markdown",
   "metadata": {},
   "source": [
    "# Correlation Coefficient Analysis"
   ]
  },
  {
   "cell_type": "code",
   "execution_count": null,
   "metadata": {},
   "outputs": [
    {
     "name": "stdout",
     "output_type": "stream",
     "text": [
      "trader_class_numeric      1.000000\n",
      "portfolio_return          0.269503\n",
      "base_cumulative_return    0.236359\n",
      "number_of_trades         -0.005658\n",
      "unique_tokens_traded     -0.007101\n",
      "daily_sharpe_ratio       -0.055922\n",
      "Name: trader_class_numeric, dtype: float64\n"
     ]
    },
    {
     "ename": "",
     "evalue": "",
     "output_type": "error",
     "traceback": [
      "\u001b[1;31mnotebook controller is DISPOSED. \n",
      "\u001b[1;31mView Jupyter <a href='command:jupyter.viewOutput'>log</a> for further details."
     ]
    },
    {
     "ename": "",
     "evalue": "",
     "output_type": "error",
     "traceback": [
      "\u001b[1;31mnotebook controller is DISPOSED. \n",
      "\u001b[1;31mView Jupyter <a href='command:jupyter.viewOutput'>log</a> for further details."
     ]
    },
    {
     "ename": "",
     "evalue": "",
     "output_type": "error",
     "traceback": [
      "\u001b[1;31mnotebook controller is DISPOSED. \n",
      "\u001b[1;31mView Jupyter <a href='command:jupyter.viewOutput'>log</a> for further details."
     ]
    }
   ],
   "source": [
    "# Correlation Coefficient Analysis\n",
    "\n",
    "df_cor = df_cleaned.corr(numeric_only=True)\n",
    "print(df_cor['trader_class_numeric'].sort_values(ascending=False))\n",
    "\n"
   ]
  },
  {
   "cell_type": "code",
   "execution_count": null,
   "metadata": {},
   "outputs": [
    {
     "data": {
      "image/png": "[encoded data removed]",
      "text/plain": [
       "<Figure size 1000x600 with 2 Axes>"
      ]
     },
     "metadata": {},
     "output_type": "display_data"
    },
    {
     "ename": "",
     "evalue": "",
     "output_type": "error",
     "traceback": [
      "\u001b[1;31mnotebook controller is DISPOSED. \n",
      "\u001b[1;31mView Jupyter <a href='command:jupyter.viewOutput'>log</a> for further details."
     ]
    },
    {
     "ename": "",
     "evalue": "",
     "output_type": "error",
     "traceback": [
      "\u001b[1;31mnotebook controller is DISPOSED. \n",
      "\u001b[1;31mView Jupyter <a href='command:jupyter.viewOutput'>log</a> for further details."
     ]
    },
    {
     "ename": "",
     "evalue": "",
     "output_type": "error",
     "traceback": [
      "\u001b[1;31mnotebook controller is DISPOSED. \n",
      "\u001b[1;31mView Jupyter <a href='command:jupyter.viewOutput'>log</a> for further details."
     ]
    }
   ],
   "source": [
    "import seaborn as sns \n",
    "\n",
    "# Heatmap\n",
    "plt.figure(figsize=(10, 6))\n",
    "sns.heatmap(df_cor, annot=True, cmap='coolwarm', fmt=\".2f\")\n",
    "plt.title('Correlation Heatmap')\n",
    "plt.show()\n"
   ]
  },
  {
   "cell_type": "markdown",
   "metadata": {},
   "source": [
    "# Classifier Model"
   ]
  },
  {
   "cell_type": "code",
   "execution_count": null,
   "metadata": {},
   "outputs": [
    {
     "data": {
      "text/plain": [
       "day                       datetime64[ns]\n",
       "user_address                      object\n",
       "base_cumulative_return           float64\n",
       "portfolio_return                 float64\n",
       "daily_sharpe_ratio               float64\n",
       "trader_class                    category\n",
       "number_of_trades                 float64\n",
       "unique_tokens_traded             float64\n",
       "trader_class_numeric                int8\n",
       "dtype: object"
      ]
     },
     "execution_count": 25,
     "metadata": {},
     "output_type": "execute_result"
    },
    {
     "ename": "",
     "evalue": "",
     "output_type": "error",
     "traceback": [
      "\u001b[1;31mnotebook controller is DISPOSED. \n",
      "\u001b[1;31mView Jupyter <a href='command:jupyter.viewOutput'>log</a> for further details."
     ]
    },
    {
     "ename": "",
     "evalue": "",
     "output_type": "error",
     "traceback": [
      "\u001b[1;31mnotebook controller is DISPOSED. \n",
      "\u001b[1;31mView Jupyter <a href='command:jupyter.viewOutput'>log</a> for further details."
     ]
    },
    {
     "ename": "",
     "evalue": "",
     "output_type": "error",
     "traceback": [
      "\u001b[1;31mnotebook controller is DISPOSED. \n",
      "\u001b[1;31mView Jupyter <a href='command:jupyter.viewOutput'>log</a> for further details."
     ]
    }
   ],
   "source": [
    "df_cleaned.dtypes"
   ]
  },
  {
   "cell_type": "code",
   "execution_count": null,
   "metadata": {},
   "outputs": [
    {
     "ename": "",
     "evalue": "",
     "output_type": "error",
     "traceback": [
      "\u001b[1;31mnotebook controller is DISPOSED. \n",
      "\u001b[1;31mView Jupyter <a href='command:jupyter.viewOutput'>log</a> for further details."
     ]
    },
    {
     "ename": "",
     "evalue": "",
     "output_type": "error",
     "traceback": [
      "\u001b[1;31mnotebook controller is DISPOSED. \n",
      "\u001b[1;31mView Jupyter <a href='command:jupyter.viewOutput'>log</a> for further details."
     ]
    },
    {
     "ename": "",
     "evalue": "",
     "output_type": "error",
     "traceback": [
      "\u001b[1;31mnotebook controller is DISPOSED. \n",
      "\u001b[1;31mView Jupyter <a href='command:jupyter.viewOutput'>log</a> for further details."
     ]
    }
   ],
   "source": [
    "numeric = df_cleaned.select_dtypes(include=['number'])\n",
    "#numeric"
   ]
  },
  {
   "cell_type": "code",
   "execution_count": null,
   "metadata": {},
   "outputs": [
    {
     "ename": "",
     "evalue": "",
     "output_type": "error",
     "traceback": [
      "\u001b[1;31mnotebook controller is DISPOSED. \n",
      "\u001b[1;31mView Jupyter <a href='command:jupyter.viewOutput'>log</a> for further details."
     ]
    },
    {
     "ename": "",
     "evalue": "",
     "output_type": "error",
     "traceback": [
      "\u001b[1;31mnotebook controller is DISPOSED. \n",
      "\u001b[1;31mView Jupyter <a href='command:jupyter.viewOutput'>log</a> for further details."
     ]
    },
    {
     "ename": "",
     "evalue": "",
     "output_type": "error",
     "traceback": [
      "\u001b[1;31mnotebook controller is DISPOSED. \n",
      "\u001b[1;31mView Jupyter <a href='command:jupyter.viewOutput'>log</a> for further details."
     ]
    }
   ],
   "source": [
    "features = ['base_cumulative_return', 'portfolio_return', \n",
    "            'daily_sharpe_ratio', 'number_of_trades', 'unique_tokens_traded']"
   ]
  },
  {
   "cell_type": "code",
   "execution_count": null,
   "metadata": {},
   "outputs": [
    {
     "ename": "",
     "evalue": "",
     "output_type": "error",
     "traceback": [
      "\u001b[1;31mnotebook controller is DISPOSED. \n",
      "\u001b[1;31mView Jupyter <a href='command:jupyter.viewOutput'>log</a> for further details."
     ]
    },
    {
     "ename": "",
     "evalue": "",
     "output_type": "error",
     "traceback": [
      "\u001b[1;31mnotebook controller is DISPOSED. \n",
      "\u001b[1;31mView Jupyter <a href='command:jupyter.viewOutput'>log</a> for further details."
     ]
    },
    {
     "ename": "",
     "evalue": "",
     "output_type": "error",
     "traceback": [
      "\u001b[1;31mnotebook controller is DISPOSED. \n",
      "\u001b[1;31mView Jupyter <a href='command:jupyter.viewOutput'>log</a> for further details."
     ]
    }
   ],
   "source": [
    "target = 'trader_class_numeric'"
   ]
  },
  {
   "cell_type": "code",
   "execution_count": null,
   "metadata": {},
   "outputs": [
    {
     "data": {
      "text/plain": [
       "count    14709.000000\n",
       "mean        95.324347\n",
       "std         39.219334\n",
       "min         -2.588934\n",
       "25%         75.534598\n",
       "50%         99.950774\n",
       "75%        114.742259\n",
       "max        231.557553\n",
       "Name: portfolio_return, dtype: float64"
      ]
     },
     "execution_count": 29,
     "metadata": {},
     "output_type": "execute_result"
    },
    {
     "ename": "",
     "evalue": "",
     "output_type": "error",
     "traceback": [
      "\u001b[1;31mnotebook controller is DISPOSED. \n",
      "\u001b[1;31mView Jupyter <a href='command:jupyter.viewOutput'>log</a> for further details."
     ]
    },
    {
     "ename": "",
     "evalue": "",
     "output_type": "error",
     "traceback": [
      "\u001b[1;31mnotebook controller is DISPOSED. \n",
      "\u001b[1;31mView Jupyter <a href='command:jupyter.viewOutput'>log</a> for further details."
     ]
    },
    {
     "ename": "",
     "evalue": "",
     "output_type": "error",
     "traceback": [
      "\u001b[1;31mnotebook controller is DISPOSED. \n",
      "\u001b[1;31mView Jupyter <a href='command:jupyter.viewOutput'>log</a> for further details."
     ]
    }
   ],
   "source": [
    "df_cleaned['portfolio_return'].describe()"
   ]
  },
  {
   "cell_type": "code",
   "execution_count": null,
   "metadata": {},
   "outputs": [
    {
     "ename": "",
     "evalue": "",
     "output_type": "error",
     "traceback": [
      "\u001b[1;31mnotebook controller is DISPOSED. \n",
      "\u001b[1;31mView Jupyter <a href='command:jupyter.viewOutput'>log</a> for further details."
     ]
    },
    {
     "ename": "",
     "evalue": "",
     "output_type": "error",
     "traceback": [
      "\u001b[1;31mnotebook controller is DISPOSED. \n",
      "\u001b[1;31mView Jupyter <a href='command:jupyter.viewOutput'>log</a> for further details."
     ]
    },
    {
     "ename": "",
     "evalue": "",
     "output_type": "error",
     "traceback": [
      "\u001b[1;31mnotebook controller is DISPOSED. \n",
      "\u001b[1;31mView Jupyter <a href='command:jupyter.viewOutput'>log</a> for further details."
     ]
    }
   ],
   "source": [
    "import random\n",
    "import os\n",
    "from sklearn.model_selection import train_test_split\n",
    "from sklearn.preprocessing import StandardScaler\n",
    "from sklearn.linear_model import LogisticRegression\n",
    "from sklearn.metrics import classification_report, confusion_matrix, accuracy_score\n",
    "from sklearn.metrics import roc_curve, roc_auc_score\n"
   ]
  },
  {
   "cell_type": "code",
   "execution_count": null,
   "metadata": {},
   "outputs": [
    {
     "ename": "",
     "evalue": "",
     "output_type": "error",
     "traceback": [
      "\u001b[1;31mnotebook controller is DISPOSED. \n",
      "\u001b[1;31mView Jupyter <a href='command:jupyter.viewOutput'>log</a> for further details."
     ]
    },
    {
     "ename": "",
     "evalue": "",
     "output_type": "error",
     "traceback": [
      "\u001b[1;31mnotebook controller is DISPOSED. \n",
      "\u001b[1;31mView Jupyter <a href='command:jupyter.viewOutput'>log</a> for further details."
     ]
    },
    {
     "ename": "",
     "evalue": "",
     "output_type": "error",
     "traceback": [
      "\u001b[1;31mnotebook controller is DISPOSED. \n",
      "\u001b[1;31mView Jupyter <a href='command:jupyter.viewOutput'>log</a> for further details."
     ]
    }
   ],
   "source": [
    "#Data Processing\n",
    "#Separating the features from the target variable.\n",
    "\n",
    "X = df_cleaned[features]\n",
    "y = df_cleaned[target]"
   ]
  },
  {
   "cell_type": "code",
   "execution_count": null,
   "metadata": {},
   "outputs": [
    {
     "ename": "",
     "evalue": "",
     "output_type": "error",
     "traceback": [
      "\u001b[1;31mnotebook controller is DISPOSED. \n",
      "\u001b[1;31mView Jupyter <a href='command:jupyter.viewOutput'>log</a> for further details."
     ]
    },
    {
     "ename": "",
     "evalue": "",
     "output_type": "error",
     "traceback": [
      "\u001b[1;31mnotebook controller is DISPOSED. \n",
      "\u001b[1;31mView Jupyter <a href='command:jupyter.viewOutput'>log</a> for further details."
     ]
    },
    {
     "ename": "",
     "evalue": "",
     "output_type": "error",
     "traceback": [
      "\u001b[1;31mnotebook controller is DISPOSED. \n",
      "\u001b[1;31mView Jupyter <a href='command:jupyter.viewOutput'>log</a> for further details."
     ]
    }
   ],
   "source": [
    "#Normalize the Features\n",
    "scaler = StandardScaler()\n",
    "X_scaled = scaler.fit_transform(X)"
   ]
  },
  {
   "cell_type": "markdown",
   "metadata": {},
   "source": [
    "### Split the data"
   ]
  },
  {
   "cell_type": "code",
   "execution_count": null,
   "metadata": {},
   "outputs": [
    {
     "ename": "",
     "evalue": "",
     "output_type": "error",
     "traceback": [
      "\u001b[1;31mnotebook controller is DISPOSED. \n",
      "\u001b[1;31mView Jupyter <a href='command:jupyter.viewOutput'>log</a> for further details."
     ]
    },
    {
     "ename": "",
     "evalue": "",
     "output_type": "error",
     "traceback": [
      "\u001b[1;31mnotebook controller is DISPOSED. \n",
      "\u001b[1;31mView Jupyter <a href='command:jupyter.viewOutput'>log</a> for further details."
     ]
    },
    {
     "ename": "",
     "evalue": "",
     "output_type": "error",
     "traceback": [
      "\u001b[1;31mnotebook controller is DISPOSED. \n",
      "\u001b[1;31mView Jupyter <a href='command:jupyter.viewOutput'>log</a> for further details."
     ]
    }
   ],
   "source": [
    "#Split the data into training and testing sets.\n",
    "X_train, X_test, y_train, y_test = train_test_split(X_scaled, y, test_size=0.2, random_state=42)\n",
    "\n"
   ]
  },
  {
   "cell_type": "markdown",
   "metadata": {},
   "source": [
    "# Train the Logistic Regression Model"
   ]
  },
  {
   "cell_type": "code",
   "execution_count": null,
   "metadata": {},
   "outputs": [
    {
     "ename": "NameError",
     "evalue": "name 'LogisticRegression' is not defined",
     "output_type": "error",
     "traceback": [
      "\u001b[0;31m---------------------------------------------------------------------------\u001b[0m",
      "\u001b[0;31mNameError\u001b[0m                                 Traceback (most recent call last)",
      "Cell \u001b[0;32mIn[1], line 2\u001b[0m\n\u001b[1;32m      1\u001b[0m \u001b[38;5;66;03m#Train the logistic Regression Model\u001b[39;00m\n\u001b[0;32m----> 2\u001b[0m log_reg \u001b[38;5;241m=\u001b[39m \u001b[43mLogisticRegression\u001b[49m(solver\u001b[38;5;241m=\u001b[39m\u001b[38;5;124m'\u001b[39m\u001b[38;5;124mlbfgs\u001b[39m\u001b[38;5;124m'\u001b[39m)\n\u001b[1;32m      3\u001b[0m \u001b[38;5;66;03m# solver='lbfgs' is the default solver in newer version of sklearn\u001b[39;00m\n\u001b[1;32m      4\u001b[0m log_reg\u001b[38;5;241m.\u001b[39mfit(X_train, y_train)\n",
      "\u001b[0;31mNameError\u001b[0m: name 'LogisticRegression' is not defined"
     ]
    },
    {
     "ename": "",
     "evalue": "",
     "output_type": "error",
     "traceback": [
      "\u001b[1;31mnotebook controller is DISPOSED. \n",
      "\u001b[1;31mView Jupyter <a href='command:jupyter.viewOutput'>log</a> for further details."
     ]
    },
    {
     "ename": "",
     "evalue": "",
     "output_type": "error",
     "traceback": [
      "\u001b[1;31mnotebook controller is DISPOSED. \n",
      "\u001b[1;31mView Jupyter <a href='command:jupyter.viewOutput'>log</a> for further details."
     ]
    },
    {
     "ename": "",
     "evalue": "",
     "output_type": "error",
     "traceback": [
      "\u001b[1;31mnotebook controller is DISPOSED. \n",
      "\u001b[1;31mView Jupyter <a href='command:jupyter.viewOutput'>log</a> for further details."
     ]
    }
   ],
   "source": [
    "#Train the logistic Regression Model\n",
    "log_reg = LogisticRegression(solver='lbfgs')\n",
    "# solver='lbfgs' is the default solver in newer version of sklearn\n",
    "log_reg.fit(X_train, y_train)"
   ]
  },
  {
   "cell_type": "markdown",
   "metadata": {},
   "source": [
    "# Predict on the test set"
   ]
  },
  {
   "cell_type": "code",
   "execution_count": null,
   "metadata": {},
   "outputs": [
    {
     "ename": "",
     "evalue": "",
     "output_type": "error",
     "traceback": [
      "\u001b[1;31mnotebook controller is DISPOSED. \n",
      "\u001b[1;31mView Jupyter <a href='command:jupyter.viewOutput'>log</a> for further details."
     ]
    },
    {
     "ename": "",
     "evalue": "",
     "output_type": "error",
     "traceback": [
      "\u001b[1;31mnotebook controller is DISPOSED. \n",
      "\u001b[1;31mView Jupyter <a href='command:jupyter.viewOutput'>log</a> for further details."
     ]
    },
    {
     "ename": "",
     "evalue": "",
     "output_type": "error",
     "traceback": [
      "\u001b[1;31mnotebook controller is DISPOSED. \n",
      "\u001b[1;31mView Jupyter <a href='command:jupyter.viewOutput'>log</a> for further details."
     ]
    }
   ],
   "source": [
    "#predict on the test set\n",
    "y_pred = log_reg.predict(X_test)"
   ]
  },
  {
   "cell_type": "markdown",
   "metadata": {},
   "source": [
    "# Evaluate the Model"
   ]
  },
  {
   "cell_type": "markdown",
   "metadata": {},
   "source": [
    "##### Confusion Matrix"
   ]
  },
  {
   "cell_type": "code",
   "execution_count": null,
   "metadata": {},
   "outputs": [
    {
     "name": "stdout",
     "output_type": "stream",
     "text": [
      "Confusion Matrix:\n",
      "[[ 840    2    1]\n",
      " [  44 1408    0]\n",
      " [   3    0  644]]\n"
     ]
    },
    {
     "ename": "",
     "evalue": "",
     "output_type": "error",
     "traceback": [
      "\u001b[1;31mnotebook controller is DISPOSED. \n",
      "\u001b[1;31mView Jupyter <a href='command:jupyter.viewOutput'>log</a> for further details."
     ]
    },
    {
     "ename": "",
     "evalue": "",
     "output_type": "error",
     "traceback": [
      "\u001b[1;31mnotebook controller is DISPOSED. \n",
      "\u001b[1;31mView Jupyter <a href='command:jupyter.viewOutput'>log</a> for further details."
     ]
    },
    {
     "ename": "",
     "evalue": "",
     "output_type": "error",
     "traceback": [
      "\u001b[1;31mnotebook controller is DISPOSED. \n",
      "\u001b[1;31mView Jupyter <a href='command:jupyter.viewOutput'>log</a> for further details."
     ]
    }
   ],
   "source": [
    "#Confusion Matrix\n",
    "cm = confusion_matrix(y_test, y_pred)\n",
    "print(\"Confusion Matrix:\")\n",
    "print(cm)"
   ]
  },
  {
   "cell_type": "code",
   "execution_count": null,
   "metadata": {},
   "outputs": [
    {
     "data": {
      "image/png": "[encoded data removed]",
      "text/plain": [
       "<Figure size 800x600 with 2 Axes>"
      ]
     },
     "metadata": {},
     "output_type": "display_data"
    },
    {
     "ename": "",
     "evalue": "",
     "output_type": "error",
     "traceback": [
      "\u001b[1;31mnotebook controller is DISPOSED. \n",
      "\u001b[1;31mView Jupyter <a href='command:jupyter.viewOutput'>log</a> for further details."
     ]
    },
    {
     "ename": "",
     "evalue": "",
     "output_type": "error",
     "traceback": [
      "\u001b[1;31mnotebook controller is DISPOSED. \n",
      "\u001b[1;31mView Jupyter <a href='command:jupyter.viewOutput'>log</a> for further details."
     ]
    },
    {
     "ename": "",
     "evalue": "",
     "output_type": "error",
     "traceback": [
      "\u001b[1;31mnotebook controller is DISPOSED. \n",
      "\u001b[1;31mView Jupyter <a href='command:jupyter.viewOutput'>log</a> for further details."
     ]
    }
   ],
   "source": [
    "# Create a heatmap\n",
    "plt.figure(figsize=(8, 6))\n",
    "sns.heatmap(cm, annot=True, fmt=\"d\", cmap=\"Blues\", xticklabels=[\"Class 0\", \"Class 1\", \"Class 2\"], yticklabels=[\"Class 0\", \"Class 1\", \"Class 2\"])\n",
    "plt.title(\"Confusion Matrix\")\n",
    "plt.xlabel(\"Predicted Labels\")\n",
    "plt.ylabel(\"True Labels\")\n",
    "plt.show()\n",
    "\n",
    "#Result: Correct predictions (True Positives for each class)."
   ]
  },
  {
   "cell_type": "markdown",
   "metadata": {},
   "source": [
    "#### Classification Report"
   ]
  },
  {
   "cell_type": "code",
   "execution_count": null,
   "metadata": {},
   "outputs": [
    {
     "name": "stdout",
     "output_type": "stream",
     "text": [
      "Classification Report:\n",
      "{'0': {'precision': 0.9470124013528749, 'recall': 0.99644128113879, 'f1-score': 0.9710982658959537, 'support': 843.0}, '1': {'precision': 0.9985815602836879, 'recall': 0.9696969696969697, 'f1-score': 0.983927323549965, 'support': 1452.0}, '2': {'precision': 0.9984496124031008, 'recall': 0.9953632148377125, 'f1-score': 0.9969040247678018, 'support': 647.0}, 'accuracy': 0.9830047586675731, 'macro avg': {'precision': 0.9813478580132212, 'recall': 0.9871671552244908, 'f1-score': 0.9839765380712402, 'support': 2942.0}, 'weighted avg': {'precision': 0.9837759276333088, 'recall': 0.9830047586675731, 'f1-score': 0.9831051040005458, 'support': 2942.0}}\n"
     ]
    },
    {
     "ename": "",
     "evalue": "",
     "output_type": "error",
     "traceback": [
      "\u001b[1;31mnotebook controller is DISPOSED. \n",
      "\u001b[1;31mView Jupyter <a href='command:jupyter.viewOutput'>log</a> for further details."
     ]
    },
    {
     "ename": "",
     "evalue": "",
     "output_type": "error",
     "traceback": [
      "\u001b[1;31mnotebook controller is DISPOSED. \n",
      "\u001b[1;31mView Jupyter <a href='command:jupyter.viewOutput'>log</a> for further details."
     ]
    },
    {
     "ename": "",
     "evalue": "",
     "output_type": "error",
     "traceback": [
      "\u001b[1;31mnotebook controller is DISPOSED. \n",
      "\u001b[1;31mView Jupyter <a href='command:jupyter.viewOutput'>log</a> for further details."
     ]
    }
   ],
   "source": [
    "report = classification_report(y_test, y_pred,output_dict=True)\n",
    "print(\"Classification Report:\")\n",
    "print(report)"
   ]
  },
  {
   "cell_type": "code",
   "execution_count": null,
   "metadata": {},
   "outputs": [
    {
     "data": {
      "image/png": "[encoded data removed]",
      "text/plain": [
       "<Figure size 1000x600 with 1 Axes>"
      ]
     },
     "metadata": {},
     "output_type": "display_data"
    },
    {
     "ename": "",
     "evalue": "",
     "output_type": "error",
     "traceback": [
      "\u001b[1;31mnotebook controller is DISPOSED. \n",
      "\u001b[1;31mView Jupyter <a href='command:jupyter.viewOutput'>log</a> for further details."
     ]
    },
    {
     "ename": "",
     "evalue": "",
     "output_type": "error",
     "traceback": [
      "\u001b[1;31mnotebook controller is DISPOSED. \n",
      "\u001b[1;31mView Jupyter <a href='command:jupyter.viewOutput'>log</a> for further details."
     ]
    },
    {
     "ename": "",
     "evalue": "",
     "output_type": "error",
     "traceback": [
      "\u001b[1;31mnotebook controller is DISPOSED. \n",
      "\u001b[1;31mView Jupyter <a href='command:jupyter.viewOutput'>log</a> for further details."
     ]
    }
   ],
   "source": [
    "# Convert the dictionary to a DataFrame for visualization\n",
    "report_df = pd.DataFrame(report).transpose()\n",
    "\n",
    "# Plot the precision, recall, and f1-score\n",
    "report_df = report_df.iloc[:-1, :-1]  # Exclude support and accuracy row/column\n",
    "report_df.plot(kind=\"bar\", figsize=(10, 6), colormap=\"viridis\")\n",
    "plt.title(\"Classification Report\")\n",
    "plt.xlabel(\"Classes\")\n",
    "plt.ylabel(\"Scores\")\n",
    "plt.xticks(rotation=45)\n",
    "plt.show()"
   ]
  },
  {
   "cell_type": "markdown",
   "metadata": {},
   "source": [
    "#### Accuracy Score"
   ]
  },
  {
   "cell_type": "code",
   "execution_count": null,
   "metadata": {},
   "outputs": [
    {
     "name": "stdout",
     "output_type": "stream",
     "text": [
      "Accuracy: 0.9830047586675731\n"
     ]
    },
    {
     "ename": "",
     "evalue": "",
     "output_type": "error",
     "traceback": [
      "\u001b[1;31mnotebook controller is DISPOSED. \n",
      "\u001b[1;31mView Jupyter <a href='command:jupyter.viewOutput'>log</a> for further details."
     ]
    },
    {
     "ename": "",
     "evalue": "",
     "output_type": "error",
     "traceback": [
      "\u001b[1;31mnotebook controller is DISPOSED. \n",
      "\u001b[1;31mView Jupyter <a href='command:jupyter.viewOutput'>log</a> for further details."
     ]
    },
    {
     "ename": "",
     "evalue": "",
     "output_type": "error",
     "traceback": [
      "\u001b[1;31mnotebook controller is DISPOSED. \n",
      "\u001b[1;31mView Jupyter <a href='command:jupyter.viewOutput'>log</a> for further details."
     ]
    }
   ],
   "source": [
    "# Model Accuracy, how often is the classifier correct?\n",
    "print(f\"Accuracy: {accuracy_score(y_test, y_pred)}\")"
   ]
  },
  {
   "cell_type": "code",
   "execution_count": null,
   "metadata": {},
   "outputs": [
    {
     "name": "stdout",
     "output_type": "stream",
     "text": [
      "Accuracy: 0.98\n"
     ]
    },
    {
     "ename": "",
     "evalue": "",
     "output_type": "error",
     "traceback": [
      "\u001b[1;31mnotebook controller is DISPOSED. \n",
      "\u001b[1;31mView Jupyter <a href='command:jupyter.viewOutput'>log</a> for further details."
     ]
    },
    {
     "ename": "",
     "evalue": "",
     "output_type": "error",
     "traceback": [
      "\u001b[1;31mnotebook controller is DISPOSED. \n",
      "\u001b[1;31mView Jupyter <a href='command:jupyter.viewOutput'>log</a> for further details."
     ]
    },
    {
     "ename": "",
     "evalue": "",
     "output_type": "error",
     "traceback": [
      "\u001b[1;31mnotebook controller is DISPOSED. \n",
      "\u001b[1;31mView Jupyter <a href='command:jupyter.viewOutput'>log</a> for further details."
     ]
    }
   ],
   "source": [
    "accuracy = accuracy_score(y_test, y_pred)\n",
    "print(f\"Accuracy: {accuracy:.2f}\")"
   ]
  },
  {
   "cell_type": "code",
   "execution_count": null,
   "metadata": {},
   "outputs": [
    {
     "data": {
      "image/png": "[encoded data removed]",
      "text/plain": [
       "<Figure size 600x400 with 1 Axes>"
      ]
     },
     "metadata": {},
     "output_type": "display_data"
    },
    {
     "ename": "",
     "evalue": "",
     "output_type": "error",
     "traceback": [
      "\u001b[1;31mnotebook controller is DISPOSED. \n",
      "\u001b[1;31mView Jupyter <a href='command:jupyter.viewOutput'>log</a> for further details."
     ]
    },
    {
     "ename": "",
     "evalue": "",
     "output_type": "error",
     "traceback": [
      "\u001b[1;31mnotebook controller is DISPOSED. \n",
      "\u001b[1;31mView Jupyter <a href='command:jupyter.viewOutput'>log</a> for further details."
     ]
    },
    {
     "ename": "",
     "evalue": "",
     "output_type": "error",
     "traceback": [
      "\u001b[1;31mnotebook controller is DISPOSED. \n",
      "\u001b[1;31mView Jupyter <a href='command:jupyter.viewOutput'>log</a> for further details."
     ]
    }
   ],
   "source": [
    "# Display accuracy in a plot\n",
    "plt.figure(figsize=(6, 4))\n",
    "plt.bar([\"Accuracy\"], [accuracy], color=\"skyblue\")\n",
    "plt.ylim(0, 1)  # Scale from 0 to 1\n",
    "plt.title(\"Accuracy Score\")\n",
    "plt.text(0, accuracy / 2, f\"{accuracy:.2%}\", ha=\"center\", va=\"center\", fontsize=12)\n",
    "plt.show()"
   ]
  },
  {
   "cell_type": "markdown",
   "metadata": {},
   "source": [
    "#### AUROC Curve"
   ]
  },
  {
   "cell_type": "code",
   "execution_count": null,
   "metadata": {},
   "outputs": [
    {
     "name": "stdout",
     "output_type": "stream",
     "text": [
      "Area Under the ROC Curve (AUROC) for Multi-Class: 1.00\n"
     ]
    },
    {
     "ename": "",
     "evalue": "",
     "output_type": "error",
     "traceback": [
      "\u001b[1;31mnotebook controller is DISPOSED. \n",
      "\u001b[1;31mView Jupyter <a href='command:jupyter.viewOutput'>log</a> for further details."
     ]
    },
    {
     "ename": "",
     "evalue": "",
     "output_type": "error",
     "traceback": [
      "\u001b[1;31mnotebook controller is DISPOSED. \n",
      "\u001b[1;31mView Jupyter <a href='command:jupyter.viewOutput'>log</a> for further details."
     ]
    },
    {
     "ename": "",
     "evalue": "",
     "output_type": "error",
     "traceback": [
      "\u001b[1;31mnotebook controller is DISPOSED. \n",
      "\u001b[1;31mView Jupyter <a href='command:jupyter.viewOutput'>log</a> for further details."
     ]
    }
   ],
   "source": [
    "# Calculate AUROC\n",
    "# Get predicted probabilities for all classes\n",
    "y_pred_multi = log_reg.predict_proba(X_test)\n",
    "\n",
    "# Calculate AUROC for multi-class classification\n",
    "auroc_multi = roc_auc_score(y_test, y_pred_multi, multi_class='ovr')\n",
    "print(f\"Area Under the ROC Curve (AUROC) for Multi-Class: {auroc_multi:.2f}\")"
   ]
  },
  {
   "cell_type": "markdown",
   "metadata": {},
   "source": [
    "# Interpret the Model"
   ]
  },
  {
   "cell_type": "markdown",
   "metadata": {},
   "source": [
    "#### Logistic regression provides coefficients that indicate feature importance"
   ]
  },
  {
   "cell_type": "code",
   "execution_count": null,
   "metadata": {},
   "outputs": [
    {
     "name": "stdout",
     "output_type": "stream",
     "text": [
      "                  Feature  Coefficient\n",
      "0  base_cumulative_return     1.924936\n",
      "1        portfolio_return     1.117040\n",
      "3        number_of_trades     0.356265\n",
      "2      daily_sharpe_ratio     0.274571\n",
      "4    unique_tokens_traded     0.164977\n"
     ]
    },
    {
     "ename": "",
     "evalue": "",
     "output_type": "error",
     "traceback": [
      "\u001b[1;31mnotebook controller is DISPOSED. \n",
      "\u001b[1;31mView Jupyter <a href='command:jupyter.viewOutput'>log</a> for further details."
     ]
    },
    {
     "ename": "",
     "evalue": "",
     "output_type": "error",
     "traceback": [
      "\u001b[1;31mnotebook controller is DISPOSED. \n",
      "\u001b[1;31mView Jupyter <a href='command:jupyter.viewOutput'>log</a> for further details."
     ]
    },
    {
     "ename": "",
     "evalue": "",
     "output_type": "error",
     "traceback": [
      "\u001b[1;31mnotebook controller is DISPOSED. \n",
      "\u001b[1;31mView Jupyter <a href='command:jupyter.viewOutput'>log</a> for further details."
     ]
    }
   ],
   "source": [
    "feature_importance = pd.DataFrame({\n",
    "    'Feature': X.columns,\n",
    "    'Coefficient': log_reg.coef_[0]\n",
    "}).sort_values(by='Coefficient', ascending=False)\n",
    "print(feature_importance)"
   ]
  },
  {
   "cell_type": "markdown",
   "metadata": {},
   "source": [
    "# Randomized Search for Hyperparameter Tuning"
   ]
  },
  {
   "cell_type": "code",
   "execution_count": null,
   "metadata": {},
   "outputs": [
    {
     "name": "stdout",
     "output_type": "stream",
     "text": [
      "Fitting 5 folds for each of 50 candidates, totalling 250 fits\n"
     ]
    },
    {
     "name": "stderr",
     "output_type": "stream",
     "text": [
      "/Users/olaoluwatunmise/miniconda3/envs/flipside/lib/python3.10/site-packages/sklearn/svm/_base.py:1235: ConvergenceWarning: Liblinear failed to converge, increase the number of iterations.\n",
      "  warnings.warn(\n",
      "/Users/olaoluwatunmise/miniconda3/envs/flipside/lib/python3.10/site-packages/sklearn/svm/_base.py:1235: ConvergenceWarning: Liblinear failed to converge, increase the number of iterations.\n",
      "  warnings.warn(\n",
      "/Users/olaoluwatunmise/miniconda3/envs/flipside/lib/python3.10/site-packages/sklearn/svm/_base.py:1235: ConvergenceWarning: Liblinear failed to converge, increase the number of iterations.\n",
      "  warnings.warn(\n",
      "/Users/olaoluwatunmise/miniconda3/envs/flipside/lib/python3.10/site-packages/sklearn/svm/_base.py:1235: ConvergenceWarning: Liblinear failed to converge, increase the number of iterations.\n",
      "  warnings.warn(\n",
      "/Users/olaoluwatunmise/miniconda3/envs/flipside/lib/python3.10/site-packages/sklearn/svm/_base.py:1235: ConvergenceWarning: Liblinear failed to converge, increase the number of iterations.\n",
      "  warnings.warn(\n",
      "/Users/olaoluwatunmise/miniconda3/envs/flipside/lib/python3.10/site-packages/sklearn/svm/_base.py:1235: ConvergenceWarning: Liblinear failed to converge, increase the number of iterations.\n",
      "  warnings.warn(\n",
      "/Users/olaoluwatunmise/miniconda3/envs/flipside/lib/python3.10/site-packages/sklearn/svm/_base.py:1235: ConvergenceWarning: Liblinear failed to converge, increase the number of iterations.\n",
      "  warnings.warn(\n",
      "/Users/olaoluwatunmise/miniconda3/envs/flipside/lib/python3.10/site-packages/sklearn/svm/_base.py:1235: ConvergenceWarning: Liblinear failed to converge, increase the number of iterations.\n",
      "  warnings.warn(\n",
      "/Users/olaoluwatunmise/miniconda3/envs/flipside/lib/python3.10/site-packages/sklearn/svm/_base.py:1235: ConvergenceWarning: Liblinear failed to converge, increase the number of iterations.\n",
      "  warnings.warn(\n",
      "/Users/olaoluwatunmise/miniconda3/envs/flipside/lib/python3.10/site-packages/sklearn/svm/_base.py:1235: ConvergenceWarning: Liblinear failed to converge, increase the number of iterations.\n",
      "  warnings.warn(\n",
      "/Users/olaoluwatunmise/miniconda3/envs/flipside/lib/python3.10/site-packages/sklearn/svm/_base.py:1235: ConvergenceWarning: Liblinear failed to converge, increase the number of iterations.\n",
      "  warnings.warn(\n",
      "/Users/olaoluwatunmise/miniconda3/envs/flipside/lib/python3.10/site-packages/sklearn/svm/_base.py:1235: ConvergenceWarning: Liblinear failed to converge, increase the number of iterations.\n",
      "  warnings.warn(\n",
      "/Users/olaoluwatunmise/miniconda3/envs/flipside/lib/python3.10/site-packages/sklearn/svm/_base.py:1235: ConvergenceWarning: Liblinear failed to converge, increase the number of iterations.\n",
      "  warnings.warn(\n",
      "/Users/olaoluwatunmise/miniconda3/envs/flipside/lib/python3.10/site-packages/sklearn/svm/_base.py:1235: ConvergenceWarning: Liblinear failed to converge, increase the number of iterations.\n",
      "  warnings.warn(\n",
      "/Users/olaoluwatunmise/miniconda3/envs/flipside/lib/python3.10/site-packages/sklearn/svm/_base.py:1235: ConvergenceWarning: Liblinear failed to converge, increase the number of iterations.\n",
      "  warnings.warn(\n",
      "/Users/olaoluwatunmise/miniconda3/envs/flipside/lib/python3.10/site-packages/sklearn/svm/_base.py:1235: ConvergenceWarning: Liblinear failed to converge, increase the number of iterations.\n",
      "  warnings.warn(\n",
      "/Users/olaoluwatunmise/miniconda3/envs/flipside/lib/python3.10/site-packages/sklearn/svm/_base.py:1235: ConvergenceWarning: Liblinear failed to converge, increase the number of iterations.\n",
      "  warnings.warn(\n",
      "/Users/olaoluwatunmise/miniconda3/envs/flipside/lib/python3.10/site-packages/sklearn/svm/_base.py:1235: ConvergenceWarning: Liblinear failed to converge, increase the number of iterations.\n",
      "  warnings.warn(\n",
      "/Users/olaoluwatunmise/miniconda3/envs/flipside/lib/python3.10/site-packages/sklearn/svm/_base.py:1235: ConvergenceWarning: Liblinear failed to converge, increase the number of iterations.\n",
      "  warnings.warn(\n",
      "/Users/olaoluwatunmise/miniconda3/envs/flipside/lib/python3.10/site-packages/sklearn/svm/_base.py:1235: ConvergenceWarning: Liblinear failed to converge, increase the number of iterations.\n",
      "  warnings.warn(\n",
      "/Users/olaoluwatunmise/miniconda3/envs/flipside/lib/python3.10/site-packages/sklearn/svm/_base.py:1235: ConvergenceWarning: Liblinear failed to converge, increase the number of iterations.\n",
      "  warnings.warn(\n",
      "/Users/olaoluwatunmise/miniconda3/envs/flipside/lib/python3.10/site-packages/sklearn/svm/_base.py:1235: ConvergenceWarning: Liblinear failed to converge, increase the number of iterations.\n",
      "  warnings.warn(\n",
      "/Users/olaoluwatunmise/miniconda3/envs/flipside/lib/python3.10/site-packages/sklearn/svm/_base.py:1235: ConvergenceWarning: Liblinear failed to converge, increase the number of iterations.\n",
      "  warnings.warn(\n",
      "/Users/olaoluwatunmise/miniconda3/envs/flipside/lib/python3.10/site-packages/sklearn/svm/_base.py:1235: ConvergenceWarning: Liblinear failed to converge, increase the number of iterations.\n",
      "  warnings.warn(\n",
      "/Users/olaoluwatunmise/miniconda3/envs/flipside/lib/python3.10/site-packages/sklearn/svm/_base.py:1235: ConvergenceWarning: Liblinear failed to converge, increase the number of iterations.\n",
      "  warnings.warn(\n",
      "/Users/olaoluwatunmise/miniconda3/envs/flipside/lib/python3.10/site-packages/sklearn/svm/_base.py:1235: ConvergenceWarning: Liblinear failed to converge, increase the number of iterations.\n",
      "  warnings.warn(\n",
      "/Users/olaoluwatunmise/miniconda3/envs/flipside/lib/python3.10/site-packages/sklearn/svm/_base.py:1235: ConvergenceWarning: Liblinear failed to converge, increase the number of iterations.\n",
      "  warnings.warn(\n",
      "/Users/olaoluwatunmise/miniconda3/envs/flipside/lib/python3.10/site-packages/sklearn/svm/_base.py:1235: ConvergenceWarning: Liblinear failed to converge, increase the number of iterations.\n",
      "  warnings.warn(\n",
      "/Users/olaoluwatunmise/miniconda3/envs/flipside/lib/python3.10/site-packages/sklearn/svm/_base.py:1235: ConvergenceWarning: Liblinear failed to converge, increase the number of iterations.\n",
      "  warnings.warn(\n",
      "/Users/olaoluwatunmise/miniconda3/envs/flipside/lib/python3.10/site-packages/sklearn/svm/_base.py:1235: ConvergenceWarning: Liblinear failed to converge, increase the number of iterations.\n",
      "  warnings.warn(\n",
      "/Users/olaoluwatunmise/miniconda3/envs/flipside/lib/python3.10/site-packages/sklearn/svm/_base.py:1235: ConvergenceWarning: Liblinear failed to converge, increase the number of iterations.\n",
      "  warnings.warn(\n",
      "/Users/olaoluwatunmise/miniconda3/envs/flipside/lib/python3.10/site-packages/sklearn/svm/_base.py:1235: ConvergenceWarning: Liblinear failed to converge, increase the number of iterations.\n",
      "  warnings.warn(\n",
      "/Users/olaoluwatunmise/miniconda3/envs/flipside/lib/python3.10/site-packages/sklearn/svm/_base.py:1235: ConvergenceWarning: Liblinear failed to converge, increase the number of iterations.\n",
      "  warnings.warn(\n",
      "/Users/olaoluwatunmise/miniconda3/envs/flipside/lib/python3.10/site-packages/sklearn/svm/_base.py:1235: ConvergenceWarning: Liblinear failed to converge, increase the number of iterations.\n",
      "  warnings.warn(\n",
      "/Users/olaoluwatunmise/miniconda3/envs/flipside/lib/python3.10/site-packages/sklearn/svm/_base.py:1235: ConvergenceWarning: Liblinear failed to converge, increase the number of iterations.\n",
      "  warnings.warn(\n",
      "/Users/olaoluwatunmise/miniconda3/envs/flipside/lib/python3.10/site-packages/sklearn/model_selection/_validation.py:540: FitFailedWarning: \n",
      "75 fits failed out of a total of 250.\n",
      "The score on these train-test partitions for these parameters will be set to nan.\n",
      "If these failures are not expected, you can try to debug them by setting error_score='raise'.\n",
      "\n",
      "Below are more details about the failures:\n",
      "--------------------------------------------------------------------------------\n",
      "75 fits failed with the following error:\n",
      "Traceback (most recent call last):\n",
      "  File \"/Users/olaoluwatunmise/miniconda3/envs/flipside/lib/python3.10/site-packages/sklearn/model_selection/_validation.py\", line 888, in _fit_and_score\n",
      "    estimator.fit(X_train, y_train, **fit_params)\n",
      "  File \"/Users/olaoluwatunmise/miniconda3/envs/flipside/lib/python3.10/site-packages/sklearn/base.py\", line 1473, in wrapper\n",
      "    return fit_method(estimator, *args, **kwargs)\n",
      "  File \"/Users/olaoluwatunmise/miniconda3/envs/flipside/lib/python3.10/site-packages/sklearn/linear_model/_logistic.py\", line 1194, in fit\n",
      "    solver = _check_solver(self.solver, self.penalty, self.dual)\n",
      "  File \"/Users/olaoluwatunmise/miniconda3/envs/flipside/lib/python3.10/site-packages/sklearn/linear_model/_logistic.py\", line 67, in _check_solver\n",
      "    raise ValueError(\n",
      "ValueError: Solver lbfgs supports only 'l2' or None penalties, got l1 penalty.\n",
      "\n",
      "  warnings.warn(some_fits_failed_message, FitFailedWarning)\n",
      "/Users/olaoluwatunmise/miniconda3/envs/flipside/lib/python3.10/site-packages/sklearn/model_selection/_search.py:1103: UserWarning: One or more of the test scores are non-finite: [0.87583858 0.71581563        nan        nan 0.97467507 0.99337136\n",
      "        nan 0.88850193        nan 0.98971717        nan 0.99362639\n",
      " 0.92479017 0.99320136        nan 0.99481607        nan 0.62590319\n",
      " 0.99260652        nan 0.98589302 0.62590319 0.99762053 0.74207532\n",
      " 0.99328636 0.97399524 0.71581563        nan        nan        nan\n",
      " 0.97476007 0.99328636        nan 0.98929225 0.72371842        nan\n",
      " 0.9932014  0.9315879  0.94076786 0.99583572 0.99753542 0.9845332\n",
      "        nan 0.2844395  0.99320143 0.85289377        nan 0.78193199\n",
      " 0.98971717 0.90039979]\n",
      "  warnings.warn(\n"
     ]
    },
    {
     "name": "stdout",
     "output_type": "stream",
     "text": [
      "Best Parameters (Random Search): {'solver': 'lbfgs', 'penalty': 'l2', 'max_iter': 200, 'C': 10000.0}\n",
      "Best Cross-Validation Accuracy (Random Search): 1.00\n",
      "\n",
      "Confusion Matrix (Tuned Model - Random Search):\n",
      "[[ 835    8    0]\n",
      " [   0 1452    0]\n",
      " [   0    0  647]]\n",
      "\n",
      "Classification Report (Tuned Model - Random Search):\n",
      "              precision    recall  f1-score   support\n",
      "\n",
      "           0       1.00      0.99      1.00       843\n",
      "           1       0.99      1.00      1.00      1452\n",
      "           2       1.00      1.00      1.00       647\n",
      "\n",
      "    accuracy                           1.00      2942\n",
      "   macro avg       1.00      1.00      1.00      2942\n",
      "weighted avg       1.00      1.00      1.00      2942\n",
      "\n",
      "\n",
      "Accuracy (Tuned Model - Random Search): 1.00\n"
     ]
    },
    {
     "ename": "",
     "evalue": "",
     "output_type": "error",
     "traceback": [
      "\u001b[1;31mnotebook controller is DISPOSED. \n",
      "\u001b[1;31mView Jupyter <a href='command:jupyter.viewOutput'>log</a> for further details."
     ]
    },
    {
     "ename": "",
     "evalue": "",
     "output_type": "error",
     "traceback": [
      "\u001b[1;31mnotebook controller is DISPOSED. \n",
      "\u001b[1;31mView Jupyter <a href='command:jupyter.viewOutput'>log</a> for further details."
     ]
    },
    {
     "ename": "",
     "evalue": "",
     "output_type": "error",
     "traceback": [
      "\u001b[1;31mnotebook controller is DISPOSED. \n",
      "\u001b[1;31mView Jupyter <a href='command:jupyter.viewOutput'>log</a> for further details."
     ]
    }
   ],
   "source": [
    "from sklearn.model_selection import RandomizedSearchCV\n",
    "\n",
    "# Define the parameter distribution\n",
    "param_distributions = {\n",
    "    'C': np.logspace(-4, 4, 20),  # Exponential range for regularization\n",
    "    'solver': ['liblinear', 'lbfgs'],\n",
    "    'penalty': ['l1', 'l2'],\n",
    "    'max_iter': [100, 200, 300]\n",
    "}\n",
    "\n",
    "# Initialize RandomizedSearchCV\n",
    "random_search = RandomizedSearchCV(\n",
    "    estimator=log_reg,\n",
    "    param_distributions=param_distributions,\n",
    "    n_iter=50,  # Number of parameter settings sampled\n",
    "    cv=5,\n",
    "    scoring='accuracy',\n",
    "    verbose=1,\n",
    "    n_jobs=-1,\n",
    "    random_state=42\n",
    ")\n",
    "\n",
    "# Fit the model to the training data\n",
    "random_search.fit(X_train, y_train)\n",
    "\n",
    "# Display best parameters and accuracy\n",
    "print(\"Best Parameters (Random Search):\", random_search.best_params_)\n",
    "print(f\"Best Cross-Validation Accuracy (Random Search): {random_search.best_score_:.2f}\")\n",
    "\n",
    "# Use the best estimator for predictions\n",
    "best_model_random = random_search.best_estimator_\n",
    "y_pred_random = best_model_random.predict(X_test)\n",
    "\n",
    "# Evaluate the tuned model\n",
    "print(\"\\nConfusion Matrix (Tuned Model - Random Search):\")\n",
    "print(confusion_matrix(y_test, y_pred_random))\n",
    "print(\"\\nClassification Report (Tuned Model - Random Search):\")\n",
    "print(classification_report(y_test, y_pred_random))\n",
    "print(f\"\\nAccuracy (Tuned Model - Random Search): {accuracy_score(y_test, y_pred_random):.2f}\")\n"
   ]
  }
 ],
 "metadata": {
  "kernelspec": {
   "display_name": "flipside",
   "language": "python",
   "name": "python3"
  },
  "language_info": {
   "codemirror_mode": {
    "name": "ipython",
    "version": 3
   },
   "file_extension": ".py",
   "mimetype": "text/x-python",
   "name": "python",
   "nbconvert_exporter": "python",
   "pygments_lexer": "ipython3",
   "version": "3.10.15"
  }
 },
 "nbformat": 4,
 "nbformat_minor": 2
}
