{
 "cells": [
  {
   "cell_type": "code",
   "execution_count": 2,
   "metadata": {},
   "outputs": [],
   "source": [
    "\n",
    "import numpy as np\n",
    "import pandas as pd \n",
    "import plotly.graph_objects as go\n",
    "import matplotlib.pyplot as plt"
   ]
  },
  {
   "cell_type": "code",
   "execution_count": 3,
   "metadata": {},
   "outputs": [
    {
     "data": {
      "text/html": [
       "<div>\n",
       "<style scoped>\n",
       "    .dataframe tbody tr th:only-of-type {\n",
       "        vertical-align: middle;\n",
       "    }\n",
       "\n",
       "    .dataframe tbody tr th {\n",
       "        vertical-align: top;\n",
       "    }\n",
       "\n",
       "    .dataframe thead th {\n",
       "        text-align: right;\n",
       "    }\n",
       "</style>\n",
       "<table border=\"1\" class=\"dataframe\">\n",
       "  <thead>\n",
       "    <tr style=\"text-align: right;\">\n",
       "      <th></th>\n",
       "      <th>day</th>\n",
       "      <th>user_address</th>\n",
       "      <th>base_cumulative_return</th>\n",
       "      <th>portfolio_return</th>\n",
       "      <th>daily_sharpe_ratio</th>\n",
       "      <th>trader_class</th>\n",
       "      <th>number_of_trades</th>\n",
       "      <th>unique_tokens_traded</th>\n",
       "    </tr>\n",
       "  </thead>\n",
       "  <tbody>\n",
       "    <tr>\n",
       "      <th>0</th>\n",
       "      <td>2024-07-03 00:00:00.000</td>\n",
       "      <td>0x09dc02dfb7de2b150fe9a2d2ab92cf5767d423f9</td>\n",
       "      <td>-0.952872</td>\n",
       "      <td>19.799528</td>\n",
       "      <td>1.300633</td>\n",
       "      <td>Bad Trader</td>\n",
       "      <td>36.0</td>\n",
       "      <td>6.0</td>\n",
       "    </tr>\n",
       "    <tr>\n",
       "      <th>1</th>\n",
       "      <td>2024-09-02 00:00:00.000</td>\n",
       "      <td>0x2eb6ffcfc1591349a1983aad3e80d8fb3cec1df2</td>\n",
       "      <td>9.443217</td>\n",
       "      <td>1049.012213</td>\n",
       "      <td>3.530742</td>\n",
       "      <td>Good Trader</td>\n",
       "      <td>9.0</td>\n",
       "      <td>4.0</td>\n",
       "    </tr>\n",
       "    <tr>\n",
       "      <th>2</th>\n",
       "      <td>2024-06-21 00:00:00.000</td>\n",
       "      <td>0x580e4ce9d324426e8e5e2a33298a1d2fd73273a7</td>\n",
       "      <td>27.605549</td>\n",
       "      <td>2862.153698</td>\n",
       "      <td>2.276145</td>\n",
       "      <td>Good Trader</td>\n",
       "      <td>NaN</td>\n",
       "      <td>NaN</td>\n",
       "    </tr>\n",
       "    <tr>\n",
       "      <th>3</th>\n",
       "      <td>2024-04-08 00:00:00.000</td>\n",
       "      <td>0x448166a91e7bc50d0ac720c2fbed29e0963f5af8</td>\n",
       "      <td>0.007613</td>\n",
       "      <td>100.516119</td>\n",
       "      <td>29.420332</td>\n",
       "      <td>Average Trader</td>\n",
       "      <td>380.0</td>\n",
       "      <td>20.0</td>\n",
       "    </tr>\n",
       "    <tr>\n",
       "      <th>4</th>\n",
       "      <td>2024-08-10 00:00:00.000</td>\n",
       "      <td>0xb8ca7f877391032d9da4c995d64cdab3ecd03efd</td>\n",
       "      <td>-0.415733</td>\n",
       "      <td>57.618324</td>\n",
       "      <td>2.212055</td>\n",
       "      <td>Bad Trader</td>\n",
       "      <td>NaN</td>\n",
       "      <td>NaN</td>\n",
       "    </tr>\n",
       "    <tr>\n",
       "      <th>...</th>\n",
       "      <td>...</td>\n",
       "      <td>...</td>\n",
       "      <td>...</td>\n",
       "      <td>...</td>\n",
       "      <td>...</td>\n",
       "      <td>...</td>\n",
       "      <td>...</td>\n",
       "      <td>...</td>\n",
       "    </tr>\n",
       "    <tr>\n",
       "      <th>18194</th>\n",
       "      <td>2024-11-16 00:00:00.000</td>\n",
       "      <td>0x2b3ab8236a159434ce967d208c821ce1aec8ee56</td>\n",
       "      <td>22.107890</td>\n",
       "      <td>2307.759258</td>\n",
       "      <td>0.960698</td>\n",
       "      <td>NaN</td>\n",
       "      <td>NaN</td>\n",
       "      <td>NaN</td>\n",
       "    </tr>\n",
       "    <tr>\n",
       "      <th>18195</th>\n",
       "      <td>2024-06-07 00:00:00.000</td>\n",
       "      <td>0xadb4baa4bf3a1c176c4399402395403632b036a3</td>\n",
       "      <td>0.187292</td>\n",
       "      <td>120.244632</td>\n",
       "      <td>17.270114</td>\n",
       "      <td>Good Trader</td>\n",
       "      <td>NaN</td>\n",
       "      <td>NaN</td>\n",
       "    </tr>\n",
       "    <tr>\n",
       "      <th>18196</th>\n",
       "      <td>2024-11-14 00:00:00.000</td>\n",
       "      <td>0x08b505dc1603af317f8ffbf5db6359f0975d96ce</td>\n",
       "      <td>-0.527658</td>\n",
       "      <td>47.244034</td>\n",
       "      <td>0.195960</td>\n",
       "      <td>Bad Trader</td>\n",
       "      <td>NaN</td>\n",
       "      <td>NaN</td>\n",
       "    </tr>\n",
       "    <tr>\n",
       "      <th>18197</th>\n",
       "      <td>2024-07-16 00:00:00.000</td>\n",
       "      <td>0xa38ac89a9eceb2e00b5b05568f36815f6d9286dc</td>\n",
       "      <td>0.013748</td>\n",
       "      <td>109.311772</td>\n",
       "      <td>11.631746</td>\n",
       "      <td>Average Trader</td>\n",
       "      <td>NaN</td>\n",
       "      <td>NaN</td>\n",
       "    </tr>\n",
       "    <tr>\n",
       "      <th>18198</th>\n",
       "      <td>﻿</td>\n",
       "      <td>NaN</td>\n",
       "      <td>NaN</td>\n",
       "      <td>NaN</td>\n",
       "      <td>NaN</td>\n",
       "      <td>NaN</td>\n",
       "      <td>NaN</td>\n",
       "      <td>NaN</td>\n",
       "    </tr>\n",
       "  </tbody>\n",
       "</table>\n",
       "<p>18199 rows × 8 columns</p>\n",
       "</div>"
      ],
      "text/plain": [
       "                           day                                user_address  \\\n",
       "0      2024-07-03 00:00:00.000  0x09dc02dfb7de2b150fe9a2d2ab92cf5767d423f9   \n",
       "1      2024-09-02 00:00:00.000  0x2eb6ffcfc1591349a1983aad3e80d8fb3cec1df2   \n",
       "2      2024-06-21 00:00:00.000  0x580e4ce9d324426e8e5e2a33298a1d2fd73273a7   \n",
       "3      2024-04-08 00:00:00.000  0x448166a91e7bc50d0ac720c2fbed29e0963f5af8   \n",
       "4      2024-08-10 00:00:00.000  0xb8ca7f877391032d9da4c995d64cdab3ecd03efd   \n",
       "...                        ...                                         ...   \n",
       "18194  2024-11-16 00:00:00.000  0x2b3ab8236a159434ce967d208c821ce1aec8ee56   \n",
       "18195  2024-06-07 00:00:00.000  0xadb4baa4bf3a1c176c4399402395403632b036a3   \n",
       "18196  2024-11-14 00:00:00.000  0x08b505dc1603af317f8ffbf5db6359f0975d96ce   \n",
       "18197  2024-07-16 00:00:00.000  0xa38ac89a9eceb2e00b5b05568f36815f6d9286dc   \n",
       "18198                        ﻿                                         NaN   \n",
       "\n",
       "       base_cumulative_return  portfolio_return  daily_sharpe_ratio  \\\n",
       "0                   -0.952872         19.799528            1.300633   \n",
       "1                    9.443217       1049.012213            3.530742   \n",
       "2                   27.605549       2862.153698            2.276145   \n",
       "3                    0.007613        100.516119           29.420332   \n",
       "4                   -0.415733         57.618324            2.212055   \n",
       "...                       ...               ...                 ...   \n",
       "18194               22.107890       2307.759258            0.960698   \n",
       "18195                0.187292        120.244632           17.270114   \n",
       "18196               -0.527658         47.244034            0.195960   \n",
       "18197                0.013748        109.311772           11.631746   \n",
       "18198                     NaN               NaN                 NaN   \n",
       "\n",
       "         trader_class  number_of_trades  unique_tokens_traded  \n",
       "0          Bad Trader              36.0                   6.0  \n",
       "1         Good Trader               9.0                   4.0  \n",
       "2         Good Trader               NaN                   NaN  \n",
       "3      Average Trader             380.0                  20.0  \n",
       "4          Bad Trader               NaN                   NaN  \n",
       "...               ...               ...                   ...  \n",
       "18194             NaN               NaN                   NaN  \n",
       "18195     Good Trader               NaN                   NaN  \n",
       "18196      Bad Trader               NaN                   NaN  \n",
       "18197  Average Trader               NaN                   NaN  \n",
       "18198             NaN               NaN                   NaN  \n",
       "\n",
       "[18199 rows x 8 columns]"
      ]
     },
     "execution_count": 3,
     "metadata": {},
     "output_type": "execute_result"
    }
   ],
   "source": [
    "df = pd.read_csv('traderclassifier.csv')\n",
    "df.columns = df.columns.str.lower().str.replace(' ', '_')\n",
    "df"
   ]
  },
  {
   "cell_type": "code",
   "execution_count": 4,
   "metadata": {},
   "outputs": [
    {
     "name": "stdout",
     "output_type": "stream",
     "text": [
      "          day                                user_address  \\\n",
      "0  2024-07-03  0x09dc02dfb7de2b150fe9a2d2ab92cf5767d423f9   \n",
      "1  2024-09-02  0x2eb6ffcfc1591349a1983aad3e80d8fb3cec1df2   \n",
      "2  2024-06-21  0x580e4ce9d324426e8e5e2a33298a1d2fd73273a7   \n",
      "3  2024-04-08  0x448166a91e7bc50d0ac720c2fbed29e0963f5af8   \n",
      "4  2024-08-10  0xb8ca7f877391032d9da4c995d64cdab3ecd03efd   \n",
      "\n",
      "   base_cumulative_return  portfolio_return  daily_sharpe_ratio  \\\n",
      "0               -0.952872         19.799528            1.300633   \n",
      "1                9.443217       1049.012213            3.530742   \n",
      "2               27.605549       2862.153698            2.276145   \n",
      "3                0.007613        100.516119           29.420332   \n",
      "4               -0.415733         57.618324            2.212055   \n",
      "\n",
      "     trader_class  number_of_trades  unique_tokens_traded  \n",
      "0      Bad Trader              36.0                   6.0  \n",
      "1     Good Trader               9.0                   4.0  \n",
      "2     Good Trader               NaN                   NaN  \n",
      "3  Average Trader             380.0                  20.0  \n",
      "4      Bad Trader               NaN                   NaN  \n"
     ]
    }
   ],
   "source": [
    "# Convert 'day' column to datetime format and remove time component \n",
    "df['day'] = pd.to_datetime(df['day'], errors='coerce').dt.date\n",
    "#Remove later\n",
    "print(df.head())"
   ]
  },
  {
   "cell_type": "code",
   "execution_count": 5,
   "metadata": {},
   "outputs": [
    {
     "name": "stdout",
     "output_type": "stream",
     "text": [
      "              day                                user_address  \\\n",
      "1      2024-09-02  0x2eb6ffcfc1591349a1983aad3e80d8fb3cec1df2   \n",
      "2      2024-06-21  0x580e4ce9d324426e8e5e2a33298a1d2fd73273a7   \n",
      "21     2024-04-01  0xd0640fcb1ef5ac385b57701c5ef7030331c8d80b   \n",
      "24     2024-09-03  0x6f5884a6ba14297eab47aa52c4e739f0a11ff7c1   \n",
      "26     2024-09-13  0x2a45eaf79bbaff1a1d31fdd24ca67541d389ef78   \n",
      "...           ...                                         ...   \n",
      "18171  2024-06-29  0x1518c211f611114decd1842894e08b803afcd27b   \n",
      "18175  2024-10-02  0xc8084f0227d4f857ec9d48c481abc040ec4a4f1f   \n",
      "18185  2024-08-08  0x2b3ab8236a159434ce967d208c821ce1aec8ee56   \n",
      "18189  2024-10-23  0xd0640fcb1ef5ac385b57701c5ef7030331c8d80b   \n",
      "18194  2024-11-16  0x2b3ab8236a159434ce967d208c821ce1aec8ee56   \n",
      "\n",
      "       base_cumulative_return  portfolio_return  daily_sharpe_ratio  \\\n",
      "1                9.443217e+00      1.049012e+03            3.530742   \n",
      "2                2.760555e+01      2.862154e+03            2.276145   \n",
      "21               9.227206e+00      1.015845e+03            3.260155   \n",
      "24               1.008274e+07      1.008274e+09            1.102344   \n",
      "26               8.623261e+00      9.623261e+02            1.763810   \n",
      "...                       ...               ...                 ...   \n",
      "18171            7.048137e+00      7.818336e+02            1.203327   \n",
      "18175            2.553983e+01      2.653983e+03            2.132675   \n",
      "18185            2.816093e+01      2.913064e+03            1.037528   \n",
      "18189            1.768954e+02      1.778266e+04            3.128779   \n",
      "18194            2.210789e+01      2.307759e+03            0.960698   \n",
      "\n",
      "      trader_class  number_of_trades  unique_tokens_traded  \n",
      "1      Good Trader               9.0                   4.0  \n",
      "2      Good Trader               NaN                   NaN  \n",
      "21     Good Trader              14.0                   3.0  \n",
      "24             NaN               NaN                   NaN  \n",
      "26     Good Trader               3.0                   4.0  \n",
      "...            ...               ...                   ...  \n",
      "18171          NaN               NaN                   NaN  \n",
      "18175  Good Trader               NaN                   NaN  \n",
      "18185          NaN               NaN                   NaN  \n",
      "18189  Good Trader               1.0                   2.0  \n",
      "18194          NaN               NaN                   NaN  \n",
      "\n",
      "[3428 rows x 8 columns]\n"
     ]
    }
   ],
   "source": [
    "# Define a function to detect outliers based on IQR\n",
    "def find_outliers_iqr(df, column):\n",
    "    Q1 = df[column].quantile(0.25)\n",
    "    Q3 = df[column].quantile(0.75)\n",
    "    IQR = Q3 - Q1\n",
    "    lower_bound = Q1 - 1.5 * IQR\n",
    "    upper_bound = Q3 + 1.5 * IQR\n",
    "    return df[(df[column] < lower_bound) | (df[column] > upper_bound)]\n",
    "\n",
    "#Find outliers for 'portfolio_return'\n",
    "outliers = find_outliers_iqr(df, 'portfolio_return')\n",
    "print(outliers)\n"
   ]
  },
  {
   "cell_type": "code",
   "execution_count": 6,
   "metadata": {},
   "outputs": [
    {
     "name": "stdout",
     "output_type": "stream",
     "text": [
      "              day                                user_address  \\\n",
      "0      2024-07-03  0x09dc02dfb7de2b150fe9a2d2ab92cf5767d423f9   \n",
      "3      2024-04-08  0x448166a91e7bc50d0ac720c2fbed29e0963f5af8   \n",
      "4      2024-08-10  0xb8ca7f877391032d9da4c995d64cdab3ecd03efd   \n",
      "5      2024-11-18  0xc723bd563a44940a85e64aa221001d37f30418e4   \n",
      "6      2024-10-09  0xc65236e35c1e0dc9e2044f6f38c9c3497e95ffa2   \n",
      "...           ...                                         ...   \n",
      "18192  2024-04-28  0x448166a91e7bc50d0ac720c2fbed29e0963f5af8   \n",
      "18193  2024-06-10  0xda6d5943ae71272518636e24a1da83ad0e5a85dd   \n",
      "18195  2024-06-07  0xadb4baa4bf3a1c176c4399402395403632b036a3   \n",
      "18196  2024-11-14  0x08b505dc1603af317f8ffbf5db6359f0975d96ce   \n",
      "18197  2024-07-16  0xa38ac89a9eceb2e00b5b05568f36815f6d9286dc   \n",
      "\n",
      "       base_cumulative_return  portfolio_return  daily_sharpe_ratio  \\\n",
      "0                   -0.952872         19.799528            1.300633   \n",
      "3                    0.007613        100.516119           29.420332   \n",
      "4                   -0.415733         57.618324            2.212055   \n",
      "5                   -1.000000         -2.329274           -0.525633   \n",
      "6                   -0.213725         78.630133            6.771244   \n",
      "...                       ...               ...                 ...   \n",
      "18192               -0.033730         96.381802           25.797064   \n",
      "18193                0.084725         99.539738           28.155223   \n",
      "18195                0.187292        120.244632           17.270114   \n",
      "18196               -0.527658         47.244034            0.195960   \n",
      "18197                0.013748        109.311772           11.631746   \n",
      "\n",
      "         trader_class  number_of_trades  unique_tokens_traded  \n",
      "0          Bad Trader              36.0                   6.0  \n",
      "3      Average Trader             380.0                  20.0  \n",
      "4          Bad Trader               NaN                   NaN  \n",
      "5          Bad Trader               3.0                   3.0  \n",
      "6          Bad Trader               NaN                   NaN  \n",
      "...               ...               ...                   ...  \n",
      "18192      Bad Trader             431.0                  27.0  \n",
      "18193      Bad Trader               NaN                   NaN  \n",
      "18195     Good Trader               NaN                   NaN  \n",
      "18196      Bad Trader               NaN                   NaN  \n",
      "18197  Average Trader               NaN                   NaN  \n",
      "\n",
      "[14770 rows x 8 columns]\n"
     ]
    }
   ],
   "source": [
    "# Remove outliers from 'portfolio_return' column based on IQR method\n",
    "def remove_outliers_iqr(df, column):\n",
    "    Q1 = df[column].quantile(0.25)\n",
    "    Q3 = df[column].quantile(0.75)\n",
    "    IQR = Q3 - Q1\n",
    "    lower_bound = Q1 - 1.5 * IQR\n",
    "    upper_bound = Q3 + 1.5 * IQR\n",
    "    return df[(df[column] >= lower_bound) & (df[column] <= upper_bound)]\n",
    "\n",
    "# Apply the function to remove outliers from the 'portfolio_return' column\n",
    "df_clean = remove_outliers_iqr(df, 'portfolio_return')\n",
    "\n",
    "# Verify the result\n",
    "print(df_clean)\n"
   ]
  },
  {
   "cell_type": "code",
   "execution_count": 7,
   "metadata": {},
   "outputs": [
    {
     "name": "stdout",
     "output_type": "stream",
     "text": [
      "day                           0\n",
      "user_address                  0\n",
      "base_cumulative_return        0\n",
      "portfolio_return              0\n",
      "daily_sharpe_ratio            0\n",
      "trader_class                  8\n",
      "number_of_trades          10909\n",
      "unique_tokens_traded      10909\n",
      "dtype: int64\n"
     ]
    }
   ],
   "source": [
    "# Check for NaN values in the entire DataFrame\n",
    "print(df_clean.isna().sum())"
   ]
  },
  {
   "cell_type": "code",
   "execution_count": 8,
   "metadata": {},
   "outputs": [
    {
     "name": "stdout",
     "output_type": "stream",
     "text": [
      "day                           0\n",
      "user_address                  0\n",
      "base_cumulative_return        0\n",
      "portfolio_return              0\n",
      "daily_sharpe_ratio            0\n",
      "trader_class                  0\n",
      "number_of_trades          10902\n",
      "unique_tokens_traded      10902\n",
      "dtype: int64\n"
     ]
    }
   ],
   "source": [
    "#drop rows in trader_class column with NaN values\n",
    "df_cleann = df_clean.dropna(subset=['trader_class'])\n",
    "print(df_cleann.isna().sum())"
   ]
  },
  {
   "cell_type": "code",
   "execution_count": 9,
   "metadata": {},
   "outputs": [
    {
     "name": "stdout",
     "output_type": "stream",
     "text": [
      "day                       0\n",
      "user_address              0\n",
      "base_cumulative_return    0\n",
      "portfolio_return          0\n",
      "daily_sharpe_ratio        0\n",
      "trader_class              0\n",
      "number_of_trades          0\n",
      "unique_tokens_traded      0\n",
      "dtype: int64\n"
     ]
    }
   ],
   "source": [
    "#Fill NaN with 0\n",
    "df_cleaned = df_cleann.fillna(0)\n",
    "print(df_cleaned.isna().sum())"
   ]
  },
  {
   "cell_type": "code",
   "execution_count": 10,
   "metadata": {},
   "outputs": [
    {
     "data": {
      "text/plain": [
       "day                        object\n",
       "user_address               object\n",
       "base_cumulative_return    float64\n",
       "portfolio_return          float64\n",
       "daily_sharpe_ratio        float64\n",
       "trader_class               object\n",
       "number_of_trades          float64\n",
       "unique_tokens_traded      float64\n",
       "dtype: object"
      ]
     },
     "execution_count": 10,
     "metadata": {},
     "output_type": "execute_result"
    }
   ],
   "source": [
    "df_cleaned.dtypes"
   ]
  },
  {
   "cell_type": "code",
   "execution_count": 11,
   "metadata": {},
   "outputs": [],
   "source": [
    "#convert day to datetime\n",
    "df_cleaned['day'] = pd.to_datetime(df_cleaned['day'])"
   ]
  },
  {
   "cell_type": "code",
   "execution_count": 12,
   "metadata": {},
   "outputs": [
    {
     "data": {
      "text/plain": [
       "day                       datetime64[ns]\n",
       "user_address                      object\n",
       "base_cumulative_return           float64\n",
       "portfolio_return                 float64\n",
       "daily_sharpe_ratio               float64\n",
       "trader_class                      object\n",
       "number_of_trades                 float64\n",
       "unique_tokens_traded             float64\n",
       "dtype: object"
      ]
     },
     "execution_count": 12,
     "metadata": {},
     "output_type": "execute_result"
    }
   ],
   "source": [
    "df_cleaned.dtypes"
   ]
  },
  {
   "cell_type": "code",
   "execution_count": 13,
   "metadata": {},
   "outputs": [
    {
     "data": {
      "text/plain": [
       "0        Bad Trader\n",
       "3    Average Trader\n",
       "4        Bad Trader\n",
       "5        Bad Trader\n",
       "6        Bad Trader\n",
       "Name: trader_class, dtype: object"
      ]
     },
     "execution_count": 13,
     "metadata": {},
     "output_type": "execute_result"
    }
   ],
   "source": [
    "df_cleaned.trader_class.head()"
   ]
  },
  {
   "cell_type": "code",
   "execution_count": 14,
   "metadata": {},
   "outputs": [
    {
     "data": {
      "text/html": [
       "<div>\n",
       "<style scoped>\n",
       "    .dataframe tbody tr th:only-of-type {\n",
       "        vertical-align: middle;\n",
       "    }\n",
       "\n",
       "    .dataframe tbody tr th {\n",
       "        vertical-align: top;\n",
       "    }\n",
       "\n",
       "    .dataframe thead th {\n",
       "        text-align: right;\n",
       "    }\n",
       "</style>\n",
       "<table border=\"1\" class=\"dataframe\">\n",
       "  <thead>\n",
       "    <tr style=\"text-align: right;\">\n",
       "      <th></th>\n",
       "      <th>day</th>\n",
       "      <th>user_address</th>\n",
       "      <th>base_cumulative_return</th>\n",
       "      <th>portfolio_return</th>\n",
       "      <th>daily_sharpe_ratio</th>\n",
       "      <th>trader_class</th>\n",
       "      <th>number_of_trades</th>\n",
       "      <th>unique_tokens_traded</th>\n",
       "    </tr>\n",
       "  </thead>\n",
       "  <tbody>\n",
       "    <tr>\n",
       "      <th>0</th>\n",
       "      <td>2024-07-03</td>\n",
       "      <td>0x09dc02dfb7de2b150fe9a2d2ab92cf5767d423f9</td>\n",
       "      <td>-0.952872</td>\n",
       "      <td>19.799528</td>\n",
       "      <td>1.300633</td>\n",
       "      <td>Bad Trader</td>\n",
       "      <td>36.0</td>\n",
       "      <td>6.0</td>\n",
       "    </tr>\n",
       "    <tr>\n",
       "      <th>3</th>\n",
       "      <td>2024-04-08</td>\n",
       "      <td>0x448166a91e7bc50d0ac720c2fbed29e0963f5af8</td>\n",
       "      <td>0.007613</td>\n",
       "      <td>100.516119</td>\n",
       "      <td>29.420332</td>\n",
       "      <td>Average Trader</td>\n",
       "      <td>380.0</td>\n",
       "      <td>20.0</td>\n",
       "    </tr>\n",
       "    <tr>\n",
       "      <th>4</th>\n",
       "      <td>2024-08-10</td>\n",
       "      <td>0xb8ca7f877391032d9da4c995d64cdab3ecd03efd</td>\n",
       "      <td>-0.415733</td>\n",
       "      <td>57.618324</td>\n",
       "      <td>2.212055</td>\n",
       "      <td>Bad Trader</td>\n",
       "      <td>0.0</td>\n",
       "      <td>0.0</td>\n",
       "    </tr>\n",
       "    <tr>\n",
       "      <th>5</th>\n",
       "      <td>2024-11-18</td>\n",
       "      <td>0xc723bd563a44940a85e64aa221001d37f30418e4</td>\n",
       "      <td>-1.000000</td>\n",
       "      <td>-2.329274</td>\n",
       "      <td>-0.525633</td>\n",
       "      <td>Bad Trader</td>\n",
       "      <td>3.0</td>\n",
       "      <td>3.0</td>\n",
       "    </tr>\n",
       "    <tr>\n",
       "      <th>6</th>\n",
       "      <td>2024-10-09</td>\n",
       "      <td>0xc65236e35c1e0dc9e2044f6f38c9c3497e95ffa2</td>\n",
       "      <td>-0.213725</td>\n",
       "      <td>78.630133</td>\n",
       "      <td>6.771244</td>\n",
       "      <td>Bad Trader</td>\n",
       "      <td>0.0</td>\n",
       "      <td>0.0</td>\n",
       "    </tr>\n",
       "    <tr>\n",
       "      <th>...</th>\n",
       "      <td>...</td>\n",
       "      <td>...</td>\n",
       "      <td>...</td>\n",
       "      <td>...</td>\n",
       "      <td>...</td>\n",
       "      <td>...</td>\n",
       "      <td>...</td>\n",
       "      <td>...</td>\n",
       "    </tr>\n",
       "    <tr>\n",
       "      <th>18192</th>\n",
       "      <td>2024-04-28</td>\n",
       "      <td>0x448166a91e7bc50d0ac720c2fbed29e0963f5af8</td>\n",
       "      <td>-0.033730</td>\n",
       "      <td>96.381802</td>\n",
       "      <td>25.797064</td>\n",
       "      <td>Bad Trader</td>\n",
       "      <td>431.0</td>\n",
       "      <td>27.0</td>\n",
       "    </tr>\n",
       "    <tr>\n",
       "      <th>18193</th>\n",
       "      <td>2024-06-10</td>\n",
       "      <td>0xda6d5943ae71272518636e24a1da83ad0e5a85dd</td>\n",
       "      <td>0.084725</td>\n",
       "      <td>99.539738</td>\n",
       "      <td>28.155223</td>\n",
       "      <td>Bad Trader</td>\n",
       "      <td>0.0</td>\n",
       "      <td>0.0</td>\n",
       "    </tr>\n",
       "    <tr>\n",
       "      <th>18195</th>\n",
       "      <td>2024-06-07</td>\n",
       "      <td>0xadb4baa4bf3a1c176c4399402395403632b036a3</td>\n",
       "      <td>0.187292</td>\n",
       "      <td>120.244632</td>\n",
       "      <td>17.270114</td>\n",
       "      <td>Good Trader</td>\n",
       "      <td>0.0</td>\n",
       "      <td>0.0</td>\n",
       "    </tr>\n",
       "    <tr>\n",
       "      <th>18196</th>\n",
       "      <td>2024-11-14</td>\n",
       "      <td>0x08b505dc1603af317f8ffbf5db6359f0975d96ce</td>\n",
       "      <td>-0.527658</td>\n",
       "      <td>47.244034</td>\n",
       "      <td>0.195960</td>\n",
       "      <td>Bad Trader</td>\n",
       "      <td>0.0</td>\n",
       "      <td>0.0</td>\n",
       "    </tr>\n",
       "    <tr>\n",
       "      <th>18197</th>\n",
       "      <td>2024-07-16</td>\n",
       "      <td>0xa38ac89a9eceb2e00b5b05568f36815f6d9286dc</td>\n",
       "      <td>0.013748</td>\n",
       "      <td>109.311772</td>\n",
       "      <td>11.631746</td>\n",
       "      <td>Average Trader</td>\n",
       "      <td>0.0</td>\n",
       "      <td>0.0</td>\n",
       "    </tr>\n",
       "  </tbody>\n",
       "</table>\n",
       "<p>14762 rows × 8 columns</p>\n",
       "</div>"
      ],
      "text/plain": [
       "             day                                user_address  \\\n",
       "0     2024-07-03  0x09dc02dfb7de2b150fe9a2d2ab92cf5767d423f9   \n",
       "3     2024-04-08  0x448166a91e7bc50d0ac720c2fbed29e0963f5af8   \n",
       "4     2024-08-10  0xb8ca7f877391032d9da4c995d64cdab3ecd03efd   \n",
       "5     2024-11-18  0xc723bd563a44940a85e64aa221001d37f30418e4   \n",
       "6     2024-10-09  0xc65236e35c1e0dc9e2044f6f38c9c3497e95ffa2   \n",
       "...          ...                                         ...   \n",
       "18192 2024-04-28  0x448166a91e7bc50d0ac720c2fbed29e0963f5af8   \n",
       "18193 2024-06-10  0xda6d5943ae71272518636e24a1da83ad0e5a85dd   \n",
       "18195 2024-06-07  0xadb4baa4bf3a1c176c4399402395403632b036a3   \n",
       "18196 2024-11-14  0x08b505dc1603af317f8ffbf5db6359f0975d96ce   \n",
       "18197 2024-07-16  0xa38ac89a9eceb2e00b5b05568f36815f6d9286dc   \n",
       "\n",
       "       base_cumulative_return  portfolio_return  daily_sharpe_ratio  \\\n",
       "0                   -0.952872         19.799528            1.300633   \n",
       "3                    0.007613        100.516119           29.420332   \n",
       "4                   -0.415733         57.618324            2.212055   \n",
       "5                   -1.000000         -2.329274           -0.525633   \n",
       "6                   -0.213725         78.630133            6.771244   \n",
       "...                       ...               ...                 ...   \n",
       "18192               -0.033730         96.381802           25.797064   \n",
       "18193                0.084725         99.539738           28.155223   \n",
       "18195                0.187292        120.244632           17.270114   \n",
       "18196               -0.527658         47.244034            0.195960   \n",
       "18197                0.013748        109.311772           11.631746   \n",
       "\n",
       "         trader_class  number_of_trades  unique_tokens_traded  \n",
       "0          Bad Trader              36.0                   6.0  \n",
       "3      Average Trader             380.0                  20.0  \n",
       "4          Bad Trader               0.0                   0.0  \n",
       "5          Bad Trader               3.0                   3.0  \n",
       "6          Bad Trader               0.0                   0.0  \n",
       "...               ...               ...                   ...  \n",
       "18192      Bad Trader             431.0                  27.0  \n",
       "18193      Bad Trader               0.0                   0.0  \n",
       "18195     Good Trader               0.0                   0.0  \n",
       "18196      Bad Trader               0.0                   0.0  \n",
       "18197  Average Trader               0.0                   0.0  \n",
       "\n",
       "[14762 rows x 8 columns]"
      ]
     },
     "execution_count": 14,
     "metadata": {},
     "output_type": "execute_result"
    }
   ],
   "source": [
    "df_cleaned"
   ]
  },
  {
   "cell_type": "code",
   "execution_count": 15,
   "metadata": {},
   "outputs": [
    {
     "data": {
      "text/plain": [
       "Index(['Average Trader', 'Bad Trader', 'Good Trader'], dtype='object')"
      ]
     },
     "execution_count": 15,
     "metadata": {},
     "output_type": "execute_result"
    }
   ],
   "source": [
    "# Convert 'trader_class' to a categorical column\n",
    "df_cleaned[\"trader_class\"] = df_cleaned[\"trader_class\"].astype('category')\n",
    "df_cleaned[\"trader_class\"].cat.categories"
   ]
  },
  {
   "cell_type": "code",
   "execution_count": 16,
   "metadata": {},
   "outputs": [
    {
     "data": {
      "text/plain": [
       "day                       datetime64[ns]\n",
       "user_address                      object\n",
       "base_cumulative_return           float64\n",
       "portfolio_return                 float64\n",
       "daily_sharpe_ratio               float64\n",
       "trader_class                    category\n",
       "number_of_trades                 float64\n",
       "unique_tokens_traded             float64\n",
       "dtype: object"
      ]
     },
     "execution_count": 16,
     "metadata": {},
     "output_type": "execute_result"
    }
   ],
   "source": [
    "df_cleaned.dtypes"
   ]
  },
  {
   "cell_type": "code",
   "execution_count": 17,
   "metadata": {},
   "outputs": [
    {
     "data": {
      "text/plain": [
       "0        1\n",
       "3        0\n",
       "4        1\n",
       "5        1\n",
       "6        1\n",
       "        ..\n",
       "18192    1\n",
       "18193    1\n",
       "18195    2\n",
       "18196    1\n",
       "18197    0\n",
       "Name: trader_class_numeric, Length: 14762, dtype: int8"
      ]
     },
     "execution_count": 17,
     "metadata": {},
     "output_type": "execute_result"
    }
   ],
   "source": [
    "# Assign unique integers to categories\n",
    "df_cleaned['trader_class_numeric'] = df_cleaned['trader_class'].astype('category').cat.codes\n",
    "df_cleaned['trader_class_numeric']"
   ]
  },
  {
   "cell_type": "code",
   "execution_count": 18,
   "metadata": {},
   "outputs": [
    {
     "data": {
      "text/html": [
       "<div>\n",
       "<style scoped>\n",
       "    .dataframe tbody tr th:only-of-type {\n",
       "        vertical-align: middle;\n",
       "    }\n",
       "\n",
       "    .dataframe tbody tr th {\n",
       "        vertical-align: top;\n",
       "    }\n",
       "\n",
       "    .dataframe thead th {\n",
       "        text-align: right;\n",
       "    }\n",
       "</style>\n",
       "<table border=\"1\" class=\"dataframe\">\n",
       "  <thead>\n",
       "    <tr style=\"text-align: right;\">\n",
       "      <th></th>\n",
       "      <th>day</th>\n",
       "      <th>user_address</th>\n",
       "      <th>base_cumulative_return</th>\n",
       "      <th>portfolio_return</th>\n",
       "      <th>daily_sharpe_ratio</th>\n",
       "      <th>trader_class</th>\n",
       "      <th>number_of_trades</th>\n",
       "      <th>unique_tokens_traded</th>\n",
       "      <th>trader_class_numeric</th>\n",
       "    </tr>\n",
       "  </thead>\n",
       "  <tbody>\n",
       "    <tr>\n",
       "      <th>0</th>\n",
       "      <td>2024-07-03</td>\n",
       "      <td>0x09dc02dfb7de2b150fe9a2d2ab92cf5767d423f9</td>\n",
       "      <td>-0.952872</td>\n",
       "      <td>19.799528</td>\n",
       "      <td>1.300633</td>\n",
       "      <td>Bad Trader</td>\n",
       "      <td>36.0</td>\n",
       "      <td>6.0</td>\n",
       "      <td>1</td>\n",
       "    </tr>\n",
       "    <tr>\n",
       "      <th>3</th>\n",
       "      <td>2024-04-08</td>\n",
       "      <td>0x448166a91e7bc50d0ac720c2fbed29e0963f5af8</td>\n",
       "      <td>0.007613</td>\n",
       "      <td>100.516119</td>\n",
       "      <td>29.420332</td>\n",
       "      <td>Average Trader</td>\n",
       "      <td>380.0</td>\n",
       "      <td>20.0</td>\n",
       "      <td>0</td>\n",
       "    </tr>\n",
       "    <tr>\n",
       "      <th>4</th>\n",
       "      <td>2024-08-10</td>\n",
       "      <td>0xb8ca7f877391032d9da4c995d64cdab3ecd03efd</td>\n",
       "      <td>-0.415733</td>\n",
       "      <td>57.618324</td>\n",
       "      <td>2.212055</td>\n",
       "      <td>Bad Trader</td>\n",
       "      <td>0.0</td>\n",
       "      <td>0.0</td>\n",
       "      <td>1</td>\n",
       "    </tr>\n",
       "    <tr>\n",
       "      <th>5</th>\n",
       "      <td>2024-11-18</td>\n",
       "      <td>0xc723bd563a44940a85e64aa221001d37f30418e4</td>\n",
       "      <td>-1.000000</td>\n",
       "      <td>-2.329274</td>\n",
       "      <td>-0.525633</td>\n",
       "      <td>Bad Trader</td>\n",
       "      <td>3.0</td>\n",
       "      <td>3.0</td>\n",
       "      <td>1</td>\n",
       "    </tr>\n",
       "    <tr>\n",
       "      <th>6</th>\n",
       "      <td>2024-10-09</td>\n",
       "      <td>0xc65236e35c1e0dc9e2044f6f38c9c3497e95ffa2</td>\n",
       "      <td>-0.213725</td>\n",
       "      <td>78.630133</td>\n",
       "      <td>6.771244</td>\n",
       "      <td>Bad Trader</td>\n",
       "      <td>0.0</td>\n",
       "      <td>0.0</td>\n",
       "      <td>1</td>\n",
       "    </tr>\n",
       "  </tbody>\n",
       "</table>\n",
       "</div>"
      ],
      "text/plain": [
       "         day                                user_address  \\\n",
       "0 2024-07-03  0x09dc02dfb7de2b150fe9a2d2ab92cf5767d423f9   \n",
       "3 2024-04-08  0x448166a91e7bc50d0ac720c2fbed29e0963f5af8   \n",
       "4 2024-08-10  0xb8ca7f877391032d9da4c995d64cdab3ecd03efd   \n",
       "5 2024-11-18  0xc723bd563a44940a85e64aa221001d37f30418e4   \n",
       "6 2024-10-09  0xc65236e35c1e0dc9e2044f6f38c9c3497e95ffa2   \n",
       "\n",
       "   base_cumulative_return  portfolio_return  daily_sharpe_ratio  \\\n",
       "0               -0.952872         19.799528            1.300633   \n",
       "3                0.007613        100.516119           29.420332   \n",
       "4               -0.415733         57.618324            2.212055   \n",
       "5               -1.000000         -2.329274           -0.525633   \n",
       "6               -0.213725         78.630133            6.771244   \n",
       "\n",
       "     trader_class  number_of_trades  unique_tokens_traded  \\\n",
       "0      Bad Trader              36.0                   6.0   \n",
       "3  Average Trader             380.0                  20.0   \n",
       "4      Bad Trader               0.0                   0.0   \n",
       "5      Bad Trader               3.0                   3.0   \n",
       "6      Bad Trader               0.0                   0.0   \n",
       "\n",
       "   trader_class_numeric  \n",
       "0                     1  \n",
       "3                     0  \n",
       "4                     1  \n",
       "5                     1  \n",
       "6                     1  "
      ]
     },
     "execution_count": 18,
     "metadata": {},
     "output_type": "execute_result"
    }
   ],
   "source": [
    "df_cleaned.head()"
   ]
  },
  {
   "cell_type": "code",
   "execution_count": 19,
   "metadata": {},
   "outputs": [
    {
     "name": "stdout",
     "output_type": "stream",
     "text": [
      "{'day': Timestamp('2024-07-03 00:00:00'), 'user_address': '0x09dc02dfb7de2b150fe9a2d2ab92cf5767d423f9', 'base_cumulative_return': -0.952871878, 'portfolio_return': 19.799527694, 'daily_sharpe_ratio': 1.300632733, 'trader_class': 'Bad Trader', 'number_of_trades': 36.0, 'unique_tokens_traded': 6.0, 'trader_class_numeric': 1}\n"
     ]
    }
   ],
   "source": [
    "# Select the first row (index 0) and convert it to a dictionary\n",
    "# row_dict = df_cleaned.iloc[0].to_dict()\n",
    "\n",
    "# print(row_dict)\n",
    "# Select the first row of the DataFrame (you can change the index to select a different row)\n",
    "# Choose the first row (index 0) and convert it to a dictionary\n",
    "row_index = 0  # You can change this to pick another row\n",
    "row_dict = df_cleaned.iloc[row_index].to_dict()\n",
    "\n",
    "# Display the dictionary\n",
    "print(row_dict)\n",
    "\n",
    "\n"
   ]
  },
  {
   "cell_type": "code",
   "execution_count": 20,
   "metadata": {},
   "outputs": [
    {
     "data": {
      "text/plain": [
       "Index(['day', 'user_address', 'base_cumulative_return', 'portfolio_return',\n",
       "       'daily_sharpe_ratio', 'trader_class', 'number_of_trades',\n",
       "       'unique_tokens_traded', 'trader_class_numeric'],\n",
       "      dtype='object')"
      ]
     },
     "execution_count": 20,
     "metadata": {},
     "output_type": "execute_result"
    }
   ],
   "source": [
    "df_cleaned.columns"
   ]
  },
  {
   "cell_type": "markdown",
   "metadata": {},
   "source": [
    "# Correlation Coefficient Analysis"
   ]
  },
  {
   "cell_type": "code",
   "execution_count": 21,
   "metadata": {},
   "outputs": [
    {
     "name": "stdout",
     "output_type": "stream",
     "text": [
      "trader_class_numeric      1.000000\n",
      "portfolio_return          0.271778\n",
      "base_cumulative_return    0.238708\n",
      "unique_tokens_traded     -0.025116\n",
      "number_of_trades         -0.025140\n",
      "daily_sharpe_ratio       -0.055742\n",
      "Name: trader_class_numeric, dtype: float64\n"
     ]
    }
   ],
   "source": [
    "# Correlation Coefficient Analysis\n",
    "\n",
    "df_cor = df_cleaned.corr(numeric_only=True)\n",
    "print(df_cor['trader_class_numeric'].sort_values(ascending=False))\n",
    "\n"
   ]
  },
  {
   "cell_type": "code",
   "execution_count": 22,
   "metadata": {},
   "outputs": [
    {
     "data": {
      "image/png": "[encoded data removed]",
      "text/plain": [
       "<Figure size 1000x600 with 2 Axes>"
      ]
     },
     "metadata": {},
     "output_type": "display_data"
    }
   ],
   "source": [
    "import seaborn as sns \n",
    "\n",
    "# Heatmap\n",
    "plt.figure(figsize=(10, 6))\n",
    "sns.heatmap(df_cor, annot=True, cmap='coolwarm', fmt=\".2f\")\n",
    "plt.title('Correlation Heatmap')\n",
    "plt.show()\n"
   ]
  },
  {
   "cell_type": "markdown",
   "metadata": {},
   "source": [
    "# Classifier Model"
   ]
  },
  {
   "cell_type": "code",
   "execution_count": 23,
   "metadata": {},
   "outputs": [
    {
     "data": {
      "text/plain": [
       "day                       datetime64[ns]\n",
       "user_address                      object\n",
       "base_cumulative_return           float64\n",
       "portfolio_return                 float64\n",
       "daily_sharpe_ratio               float64\n",
       "trader_class                    category\n",
       "number_of_trades                 float64\n",
       "unique_tokens_traded             float64\n",
       "trader_class_numeric                int8\n",
       "dtype: object"
      ]
     },
     "execution_count": 23,
     "metadata": {},
     "output_type": "execute_result"
    }
   ],
   "source": [
    "df_cleaned.dtypes"
   ]
  },
  {
   "cell_type": "code",
   "execution_count": 24,
   "metadata": {},
   "outputs": [
    {
     "data": {
      "text/html": [
       "<div>\n",
       "<style scoped>\n",
       "    .dataframe tbody tr th:only-of-type {\n",
       "        vertical-align: middle;\n",
       "    }\n",
       "\n",
       "    .dataframe tbody tr th {\n",
       "        vertical-align: top;\n",
       "    }\n",
       "\n",
       "    .dataframe thead th {\n",
       "        text-align: right;\n",
       "    }\n",
       "</style>\n",
       "<table border=\"1\" class=\"dataframe\">\n",
       "  <thead>\n",
       "    <tr style=\"text-align: right;\">\n",
       "      <th></th>\n",
       "      <th>base_cumulative_return</th>\n",
       "      <th>portfolio_return</th>\n",
       "      <th>daily_sharpe_ratio</th>\n",
       "      <th>number_of_trades</th>\n",
       "      <th>unique_tokens_traded</th>\n",
       "    </tr>\n",
       "  </thead>\n",
       "  <tbody>\n",
       "    <tr>\n",
       "      <th>0</th>\n",
       "      <td>-0.952872</td>\n",
       "      <td>19.799528</td>\n",
       "      <td>1.300633</td>\n",
       "      <td>36.0</td>\n",
       "      <td>6.0</td>\n",
       "    </tr>\n",
       "    <tr>\n",
       "      <th>1</th>\n",
       "      <td>0.007613</td>\n",
       "      <td>100.516119</td>\n",
       "      <td>29.420332</td>\n",
       "      <td>380.0</td>\n",
       "      <td>20.0</td>\n",
       "    </tr>\n",
       "    <tr>\n",
       "      <th>2</th>\n",
       "      <td>-0.415733</td>\n",
       "      <td>57.618324</td>\n",
       "      <td>2.212055</td>\n",
       "      <td>0.0</td>\n",
       "      <td>0.0</td>\n",
       "    </tr>\n",
       "    <tr>\n",
       "      <th>3</th>\n",
       "      <td>-1.000000</td>\n",
       "      <td>-2.329274</td>\n",
       "      <td>-0.525633</td>\n",
       "      <td>3.0</td>\n",
       "      <td>3.0</td>\n",
       "    </tr>\n",
       "    <tr>\n",
       "      <th>4</th>\n",
       "      <td>-0.213725</td>\n",
       "      <td>78.630133</td>\n",
       "      <td>6.771244</td>\n",
       "      <td>0.0</td>\n",
       "      <td>0.0</td>\n",
       "    </tr>\n",
       "    <tr>\n",
       "      <th>...</th>\n",
       "      <td>...</td>\n",
       "      <td>...</td>\n",
       "      <td>...</td>\n",
       "      <td>...</td>\n",
       "      <td>...</td>\n",
       "    </tr>\n",
       "    <tr>\n",
       "      <th>14757</th>\n",
       "      <td>-0.033730</td>\n",
       "      <td>96.381802</td>\n",
       "      <td>25.797064</td>\n",
       "      <td>431.0</td>\n",
       "      <td>27.0</td>\n",
       "    </tr>\n",
       "    <tr>\n",
       "      <th>14758</th>\n",
       "      <td>0.084725</td>\n",
       "      <td>99.539738</td>\n",
       "      <td>28.155223</td>\n",
       "      <td>0.0</td>\n",
       "      <td>0.0</td>\n",
       "    </tr>\n",
       "    <tr>\n",
       "      <th>14759</th>\n",
       "      <td>0.187292</td>\n",
       "      <td>120.244632</td>\n",
       "      <td>17.270114</td>\n",
       "      <td>0.0</td>\n",
       "      <td>0.0</td>\n",
       "    </tr>\n",
       "    <tr>\n",
       "      <th>14760</th>\n",
       "      <td>-0.527658</td>\n",
       "      <td>47.244034</td>\n",
       "      <td>0.195960</td>\n",
       "      <td>0.0</td>\n",
       "      <td>0.0</td>\n",
       "    </tr>\n",
       "    <tr>\n",
       "      <th>14761</th>\n",
       "      <td>0.013748</td>\n",
       "      <td>109.311772</td>\n",
       "      <td>11.631746</td>\n",
       "      <td>0.0</td>\n",
       "      <td>0.0</td>\n",
       "    </tr>\n",
       "  </tbody>\n",
       "</table>\n",
       "<p>14762 rows × 5 columns</p>\n",
       "</div>"
      ],
      "text/plain": [
       "       base_cumulative_return  portfolio_return  daily_sharpe_ratio  \\\n",
       "0                   -0.952872         19.799528            1.300633   \n",
       "1                    0.007613        100.516119           29.420332   \n",
       "2                   -0.415733         57.618324            2.212055   \n",
       "3                   -1.000000         -2.329274           -0.525633   \n",
       "4                   -0.213725         78.630133            6.771244   \n",
       "...                       ...               ...                 ...   \n",
       "14757               -0.033730         96.381802           25.797064   \n",
       "14758                0.084725         99.539738           28.155223   \n",
       "14759                0.187292        120.244632           17.270114   \n",
       "14760               -0.527658         47.244034            0.195960   \n",
       "14761                0.013748        109.311772           11.631746   \n",
       "\n",
       "       number_of_trades  unique_tokens_traded  \n",
       "0                  36.0                   6.0  \n",
       "1                 380.0                  20.0  \n",
       "2                   0.0                   0.0  \n",
       "3                   3.0                   3.0  \n",
       "4                   0.0                   0.0  \n",
       "...                 ...                   ...  \n",
       "14757             431.0                  27.0  \n",
       "14758               0.0                   0.0  \n",
       "14759               0.0                   0.0  \n",
       "14760               0.0                   0.0  \n",
       "14761               0.0                   0.0  \n",
       "\n",
       "[14762 rows x 5 columns]"
      ]
     },
     "execution_count": 24,
     "metadata": {},
     "output_type": "execute_result"
    }
   ],
   "source": [
    "numeric = df_cleaned.select_dtypes(include=['number']).drop(columns=['trader_class_numeric'], errors='ignore')\n",
    "# Reset the index to ensure it is not included as a column\n",
    "features = numeric.reset_index(drop=True)\n",
    "features"
   ]
  },
  {
   "cell_type": "code",
   "execution_count": 25,
   "metadata": {},
   "outputs": [
    {
     "data": {
      "text/plain": [
       "['base_cumulative_return',\n",
       " 'portfolio_return',\n",
       " 'daily_sharpe_ratio',\n",
       " 'number_of_trades',\n",
       " 'unique_tokens_traded']"
      ]
     },
     "execution_count": 25,
     "metadata": {},
     "output_type": "execute_result"
    }
   ],
   "source": [
    "features = [col for col in features if col in df_cleaned.columns]\n",
    "features"
   ]
  },
  {
   "cell_type": "code",
   "execution_count": 26,
   "metadata": {},
   "outputs": [
    {
     "name": "stdout",
     "output_type": "stream",
     "text": [
      "<class 'list'>\n"
     ]
    }
   ],
   "source": [
    "print(type(features))  # Should be <class 'list'>\n"
   ]
  },
  {
   "cell_type": "code",
   "execution_count": 27,
   "metadata": {},
   "outputs": [],
   "source": [
    "target = 'trader_class_numeric'"
   ]
  },
  {
   "cell_type": "code",
   "execution_count": 28,
   "metadata": {},
   "outputs": [
    {
     "data": {
      "text/plain": [
       "count    14762.000000\n",
       "mean        95.300985\n",
       "std         39.273272\n",
       "min         -2.588934\n",
       "25%         75.324286\n",
       "50%         99.954442\n",
       "75%        114.412935\n",
       "max        233.001848\n",
       "Name: portfolio_return, dtype: float64"
      ]
     },
     "execution_count": 28,
     "metadata": {},
     "output_type": "execute_result"
    }
   ],
   "source": [
    "df_cleaned['portfolio_return'].describe()"
   ]
  },
  {
   "cell_type": "code",
   "execution_count": 29,
   "metadata": {},
   "outputs": [],
   "source": [
    "import random\n",
    "import os\n",
    "from sklearn.model_selection import train_test_split\n",
    "from sklearn.preprocessing import StandardScaler\n",
    "from sklearn.linear_model import LogisticRegression\n",
    "from sklearn.feature_extraction import DictVectorizer\n",
    "from sklearn.metrics import classification_report, confusion_matrix, accuracy_score\n",
    "from sklearn.metrics import roc_curve, roc_auc_score\n"
   ]
  },
  {
   "cell_type": "code",
   "execution_count": 30,
   "metadata": {},
   "outputs": [],
   "source": [
    "#Data Processing\n",
    "#Separating the features from the target variable.\n",
    "\n",
    "X = df_cleaned[features]\n",
    "y = df_cleaned[target]"
   ]
  },
  {
   "cell_type": "code",
   "execution_count": 31,
   "metadata": {},
   "outputs": [],
   "source": [
    "#Normalize the Features\n",
    "scaler = StandardScaler()\n",
    "X_scaled = scaler.fit_transform(X)"
   ]
  },
  {
   "cell_type": "markdown",
   "metadata": {},
   "source": [
    "### Split the data"
   ]
  },
  {
   "cell_type": "code",
   "execution_count": 32,
   "metadata": {},
   "outputs": [],
   "source": [
    "#Split the data into training and testing sets.\n",
    "X_train, X_test, y_train, y_test = train_test_split(X_scaled, y, test_size=0.2, random_state=42)\n"
   ]
  },
  {
   "cell_type": "markdown",
   "metadata": {},
   "source": [
    "# Train the Logistic Regression Model"
   ]
  },
  {
   "cell_type": "code",
   "execution_count": 33,
   "metadata": {},
   "outputs": [
    {
     "name": "stderr",
     "output_type": "stream",
     "text": [
      "/Users/olaoluwatunmise/miniconda3/envs/web3ml/lib/python3.10/site-packages/sklearn/linear_model/_logistic.py:1247: FutureWarning: 'multi_class' was deprecated in version 1.5 and will be removed in 1.7. From then on, it will always use 'multinomial'. Leave it to its default value to avoid this warning.\n",
      "  warnings.warn(\n"
     ]
    },
    {
     "data": {
      "text/html": [
       "<style>#sk-container-id-1 {\n",
       "  /* Definition of color scheme common for light and dark mode */\n",
       "  --sklearn-color-text: black;\n",
       "  --sklearn-color-line: gray;\n",
       "  /* Definition of color scheme for unfitted estimators */\n",
       "  --sklearn-color-unfitted-level-0: #fff5e6;\n",
       "  --sklearn-color-unfitted-level-1: #f6e4d2;\n",
       "  --sklearn-color-unfitted-level-2: #ffe0b3;\n",
       "  --sklearn-color-unfitted-level-3: chocolate;\n",
       "  /* Definition of color scheme for fitted estimators */\n",
       "  --sklearn-color-fitted-level-0: #f0f8ff;\n",
       "  --sklearn-color-fitted-level-1: #d4ebff;\n",
       "  --sklearn-color-fitted-level-2: #b3dbfd;\n",
       "  --sklearn-color-fitted-level-3: cornflowerblue;\n",
       "\n",
       "  /* Specific color for light theme */\n",
       "  --sklearn-color-text-on-default-background: var(--sg-text-color, var(--theme-code-foreground, var(--jp-content-font-color1, black)));\n",
       "  --sklearn-color-background: var(--sg-background-color, var(--theme-background, var(--jp-layout-color0, white)));\n",
       "  --sklearn-color-border-box: var(--sg-text-color, var(--theme-code-foreground, var(--jp-content-font-color1, black)));\n",
       "  --sklearn-color-icon: #696969;\n",
       "\n",
       "  @media (prefers-color-scheme: dark) {\n",
       "    /* Redefinition of color scheme for dark theme */\n",
       "    --sklearn-color-text-on-default-background: var(--sg-text-color, var(--theme-code-foreground, var(--jp-content-font-color1, white)));\n",
       "    --sklearn-color-background: var(--sg-background-color, var(--theme-background, var(--jp-layout-color0, #111)));\n",
       "    --sklearn-color-border-box: var(--sg-text-color, var(--theme-code-foreground, var(--jp-content-font-color1, white)));\n",
       "    --sklearn-color-icon: #878787;\n",
       "  }\n",
       "}\n",
       "\n",
       "#sk-container-id-1 {\n",
       "  color: var(--sklearn-color-text);\n",
       "}\n",
       "\n",
       "#sk-container-id-1 pre {\n",
       "  padding: 0;\n",
       "}\n",
       "\n",
       "#sk-container-id-1 input.sk-hidden--visually {\n",
       "  border: 0;\n",
       "  clip: rect(1px 1px 1px 1px);\n",
       "  clip: rect(1px, 1px, 1px, 1px);\n",
       "  height: 1px;\n",
       "  margin: -1px;\n",
       "  overflow: hidden;\n",
       "  padding: 0;\n",
       "  position: absolute;\n",
       "  width: 1px;\n",
       "}\n",
       "\n",
       "#sk-container-id-1 div.sk-dashed-wrapped {\n",
       "  border: 1px dashed var(--sklearn-color-line);\n",
       "  margin: 0 0.4em 0.5em 0.4em;\n",
       "  box-sizing: border-box;\n",
       "  padding-bottom: 0.4em;\n",
       "  background-color: var(--sklearn-color-background);\n",
       "}\n",
       "\n",
       "#sk-container-id-1 div.sk-container {\n",
       "  /* jupyter's `normalize.less` sets `[hidden] { display: none; }`\n",
       "     but bootstrap.min.css set `[hidden] { display: none !important; }`\n",
       "     so we also need the `!important` here to be able to override the\n",
       "     default hidden behavior on the sphinx rendered scikit-learn.org.\n",
       "     See: https://github.com/scikit-learn/scikit-learn/issues/21755 */\n",
       "  display: inline-block !important;\n",
       "  position: relative;\n",
       "}\n",
       "\n",
       "#sk-container-id-1 div.sk-text-repr-fallback {\n",
       "  display: none;\n",
       "}\n",
       "\n",
       "div.sk-parallel-item,\n",
       "div.sk-serial,\n",
       "div.sk-item {\n",
       "  /* draw centered vertical line to link estimators */\n",
       "  background-image: linear-gradient(var(--sklearn-color-text-on-default-background), var(--sklearn-color-text-on-default-background));\n",
       "  background-size: 2px 100%;\n",
       "  background-repeat: no-repeat;\n",
       "  background-position: center center;\n",
       "}\n",
       "\n",
       "/* Parallel-specific style estimator block */\n",
       "\n",
       "#sk-container-id-1 div.sk-parallel-item::after {\n",
       "  content: \"\";\n",
       "  width: 100%;\n",
       "  border-bottom: 2px solid var(--sklearn-color-text-on-default-background);\n",
       "  flex-grow: 1;\n",
       "}\n",
       "\n",
       "#sk-container-id-1 div.sk-parallel {\n",
       "  display: flex;\n",
       "  align-items: stretch;\n",
       "  justify-content: center;\n",
       "  background-color: var(--sklearn-color-background);\n",
       "  position: relative;\n",
       "}\n",
       "\n",
       "#sk-container-id-1 div.sk-parallel-item {\n",
       "  display: flex;\n",
       "  flex-direction: column;\n",
       "}\n",
       "\n",
       "#sk-container-id-1 div.sk-parallel-item:first-child::after {\n",
       "  align-self: flex-end;\n",
       "  width: 50%;\n",
       "}\n",
       "\n",
       "#sk-container-id-1 div.sk-parallel-item:last-child::after {\n",
       "  align-self: flex-start;\n",
       "  width: 50%;\n",
       "}\n",
       "\n",
       "#sk-container-id-1 div.sk-parallel-item:only-child::after {\n",
       "  width: 0;\n",
       "}\n",
       "\n",
       "/* Serial-specific style estimator block */\n",
       "\n",
       "#sk-container-id-1 div.sk-serial {\n",
       "  display: flex;\n",
       "  flex-direction: column;\n",
       "  align-items: center;\n",
       "  background-color: var(--sklearn-color-background);\n",
       "  padding-right: 1em;\n",
       "  padding-left: 1em;\n",
       "}\n",
       "\n",
       "\n",
       "/* Toggleable style: style used for estimator/Pipeline/ColumnTransformer box that is\n",
       "clickable and can be expanded/collapsed.\n",
       "- Pipeline and ColumnTransformer use this feature and define the default style\n",
       "- Estimators will overwrite some part of the style using the `sk-estimator` class\n",
       "*/\n",
       "\n",
       "/* Pipeline and ColumnTransformer style (default) */\n",
       "\n",
       "#sk-container-id-1 div.sk-toggleable {\n",
       "  /* Default theme specific background. It is overwritten whether we have a\n",
       "  specific estimator or a Pipeline/ColumnTransformer */\n",
       "  background-color: var(--sklearn-color-background);\n",
       "}\n",
       "\n",
       "/* Toggleable label */\n",
       "#sk-container-id-1 label.sk-toggleable__label {\n",
       "  cursor: pointer;\n",
       "  display: block;\n",
       "  width: 100%;\n",
       "  margin-bottom: 0;\n",
       "  padding: 0.5em;\n",
       "  box-sizing: border-box;\n",
       "  text-align: center;\n",
       "}\n",
       "\n",
       "#sk-container-id-1 label.sk-toggleable__label-arrow:before {\n",
       "  /* Arrow on the left of the label */\n",
       "  content: \"▸\";\n",
       "  float: left;\n",
       "  margin-right: 0.25em;\n",
       "  color: var(--sklearn-color-icon);\n",
       "}\n",
       "\n",
       "#sk-container-id-1 label.sk-toggleable__label-arrow:hover:before {\n",
       "  color: var(--sklearn-color-text);\n",
       "}\n",
       "\n",
       "/* Toggleable content - dropdown */\n",
       "\n",
       "#sk-container-id-1 div.sk-toggleable__content {\n",
       "  max-height: 0;\n",
       "  max-width: 0;\n",
       "  overflow: hidden;\n",
       "  text-align: left;\n",
       "  /* unfitted */\n",
       "  background-color: var(--sklearn-color-unfitted-level-0);\n",
       "}\n",
       "\n",
       "#sk-container-id-1 div.sk-toggleable__content.fitted {\n",
       "  /* fitted */\n",
       "  background-color: var(--sklearn-color-fitted-level-0);\n",
       "}\n",
       "\n",
       "#sk-container-id-1 div.sk-toggleable__content pre {\n",
       "  margin: 0.2em;\n",
       "  border-radius: 0.25em;\n",
       "  color: var(--sklearn-color-text);\n",
       "  /* unfitted */\n",
       "  background-color: var(--sklearn-color-unfitted-level-0);\n",
       "}\n",
       "\n",
       "#sk-container-id-1 div.sk-toggleable__content.fitted pre {\n",
       "  /* unfitted */\n",
       "  background-color: var(--sklearn-color-fitted-level-0);\n",
       "}\n",
       "\n",
       "#sk-container-id-1 input.sk-toggleable__control:checked~div.sk-toggleable__content {\n",
       "  /* Expand drop-down */\n",
       "  max-height: 200px;\n",
       "  max-width: 100%;\n",
       "  overflow: auto;\n",
       "}\n",
       "\n",
       "#sk-container-id-1 input.sk-toggleable__control:checked~label.sk-toggleable__label-arrow:before {\n",
       "  content: \"▾\";\n",
       "}\n",
       "\n",
       "/* Pipeline/ColumnTransformer-specific style */\n",
       "\n",
       "#sk-container-id-1 div.sk-label input.sk-toggleable__control:checked~label.sk-toggleable__label {\n",
       "  color: var(--sklearn-color-text);\n",
       "  background-color: var(--sklearn-color-unfitted-level-2);\n",
       "}\n",
       "\n",
       "#sk-container-id-1 div.sk-label.fitted input.sk-toggleable__control:checked~label.sk-toggleable__label {\n",
       "  background-color: var(--sklearn-color-fitted-level-2);\n",
       "}\n",
       "\n",
       "/* Estimator-specific style */\n",
       "\n",
       "/* Colorize estimator box */\n",
       "#sk-container-id-1 div.sk-estimator input.sk-toggleable__control:checked~label.sk-toggleable__label {\n",
       "  /* unfitted */\n",
       "  background-color: var(--sklearn-color-unfitted-level-2);\n",
       "}\n",
       "\n",
       "#sk-container-id-1 div.sk-estimator.fitted input.sk-toggleable__control:checked~label.sk-toggleable__label {\n",
       "  /* fitted */\n",
       "  background-color: var(--sklearn-color-fitted-level-2);\n",
       "}\n",
       "\n",
       "#sk-container-id-1 div.sk-label label.sk-toggleable__label,\n",
       "#sk-container-id-1 div.sk-label label {\n",
       "  /* The background is the default theme color */\n",
       "  color: var(--sklearn-color-text-on-default-background);\n",
       "}\n",
       "\n",
       "/* On hover, darken the color of the background */\n",
       "#sk-container-id-1 div.sk-label:hover label.sk-toggleable__label {\n",
       "  color: var(--sklearn-color-text);\n",
       "  background-color: var(--sklearn-color-unfitted-level-2);\n",
       "}\n",
       "\n",
       "/* Label box, darken color on hover, fitted */\n",
       "#sk-container-id-1 div.sk-label.fitted:hover label.sk-toggleable__label.fitted {\n",
       "  color: var(--sklearn-color-text);\n",
       "  background-color: var(--sklearn-color-fitted-level-2);\n",
       "}\n",
       "\n",
       "/* Estimator label */\n",
       "\n",
       "#sk-container-id-1 div.sk-label label {\n",
       "  font-family: monospace;\n",
       "  font-weight: bold;\n",
       "  display: inline-block;\n",
       "  line-height: 1.2em;\n",
       "}\n",
       "\n",
       "#sk-container-id-1 div.sk-label-container {\n",
       "  text-align: center;\n",
       "}\n",
       "\n",
       "/* Estimator-specific */\n",
       "#sk-container-id-1 div.sk-estimator {\n",
       "  font-family: monospace;\n",
       "  border: 1px dotted var(--sklearn-color-border-box);\n",
       "  border-radius: 0.25em;\n",
       "  box-sizing: border-box;\n",
       "  margin-bottom: 0.5em;\n",
       "  /* unfitted */\n",
       "  background-color: var(--sklearn-color-unfitted-level-0);\n",
       "}\n",
       "\n",
       "#sk-container-id-1 div.sk-estimator.fitted {\n",
       "  /* fitted */\n",
       "  background-color: var(--sklearn-color-fitted-level-0);\n",
       "}\n",
       "\n",
       "/* on hover */\n",
       "#sk-container-id-1 div.sk-estimator:hover {\n",
       "  /* unfitted */\n",
       "  background-color: var(--sklearn-color-unfitted-level-2);\n",
       "}\n",
       "\n",
       "#sk-container-id-1 div.sk-estimator.fitted:hover {\n",
       "  /* fitted */\n",
       "  background-color: var(--sklearn-color-fitted-level-2);\n",
       "}\n",
       "\n",
       "/* Specification for estimator info (e.g. \"i\" and \"?\") */\n",
       "\n",
       "/* Common style for \"i\" and \"?\" */\n",
       "\n",
       ".sk-estimator-doc-link,\n",
       "a:link.sk-estimator-doc-link,\n",
       "a:visited.sk-estimator-doc-link {\n",
       "  float: right;\n",
       "  font-size: smaller;\n",
       "  line-height: 1em;\n",
       "  font-family: monospace;\n",
       "  background-color: var(--sklearn-color-background);\n",
       "  border-radius: 1em;\n",
       "  height: 1em;\n",
       "  width: 1em;\n",
       "  text-decoration: none !important;\n",
       "  margin-left: 1ex;\n",
       "  /* unfitted */\n",
       "  border: var(--sklearn-color-unfitted-level-1) 1pt solid;\n",
       "  color: var(--sklearn-color-unfitted-level-1);\n",
       "}\n",
       "\n",
       ".sk-estimator-doc-link.fitted,\n",
       "a:link.sk-estimator-doc-link.fitted,\n",
       "a:visited.sk-estimator-doc-link.fitted {\n",
       "  /* fitted */\n",
       "  border: var(--sklearn-color-fitted-level-1) 1pt solid;\n",
       "  color: var(--sklearn-color-fitted-level-1);\n",
       "}\n",
       "\n",
       "/* On hover */\n",
       "div.sk-estimator:hover .sk-estimator-doc-link:hover,\n",
       ".sk-estimator-doc-link:hover,\n",
       "div.sk-label-container:hover .sk-estimator-doc-link:hover,\n",
       ".sk-estimator-doc-link:hover {\n",
       "  /* unfitted */\n",
       "  background-color: var(--sklearn-color-unfitted-level-3);\n",
       "  color: var(--sklearn-color-background);\n",
       "  text-decoration: none;\n",
       "}\n",
       "\n",
       "div.sk-estimator.fitted:hover .sk-estimator-doc-link.fitted:hover,\n",
       ".sk-estimator-doc-link.fitted:hover,\n",
       "div.sk-label-container:hover .sk-estimator-doc-link.fitted:hover,\n",
       ".sk-estimator-doc-link.fitted:hover {\n",
       "  /* fitted */\n",
       "  background-color: var(--sklearn-color-fitted-level-3);\n",
       "  color: var(--sklearn-color-background);\n",
       "  text-decoration: none;\n",
       "}\n",
       "\n",
       "/* Span, style for the box shown on hovering the info icon */\n",
       ".sk-estimator-doc-link span {\n",
       "  display: none;\n",
       "  z-index: 9999;\n",
       "  position: relative;\n",
       "  font-weight: normal;\n",
       "  right: .2ex;\n",
       "  padding: .5ex;\n",
       "  margin: .5ex;\n",
       "  width: min-content;\n",
       "  min-width: 20ex;\n",
       "  max-width: 50ex;\n",
       "  color: var(--sklearn-color-text);\n",
       "  box-shadow: 2pt 2pt 4pt #999;\n",
       "  /* unfitted */\n",
       "  background: var(--sklearn-color-unfitted-level-0);\n",
       "  border: .5pt solid var(--sklearn-color-unfitted-level-3);\n",
       "}\n",
       "\n",
       ".sk-estimator-doc-link.fitted span {\n",
       "  /* fitted */\n",
       "  background: var(--sklearn-color-fitted-level-0);\n",
       "  border: var(--sklearn-color-fitted-level-3);\n",
       "}\n",
       "\n",
       ".sk-estimator-doc-link:hover span {\n",
       "  display: block;\n",
       "}\n",
       "\n",
       "/* \"?\"-specific style due to the `<a>` HTML tag */\n",
       "\n",
       "#sk-container-id-1 a.estimator_doc_link {\n",
       "  float: right;\n",
       "  font-size: 1rem;\n",
       "  line-height: 1em;\n",
       "  font-family: monospace;\n",
       "  background-color: var(--sklearn-color-background);\n",
       "  border-radius: 1rem;\n",
       "  height: 1rem;\n",
       "  width: 1rem;\n",
       "  text-decoration: none;\n",
       "  /* unfitted */\n",
       "  color: var(--sklearn-color-unfitted-level-1);\n",
       "  border: var(--sklearn-color-unfitted-level-1) 1pt solid;\n",
       "}\n",
       "\n",
       "#sk-container-id-1 a.estimator_doc_link.fitted {\n",
       "  /* fitted */\n",
       "  border: var(--sklearn-color-fitted-level-1) 1pt solid;\n",
       "  color: var(--sklearn-color-fitted-level-1);\n",
       "}\n",
       "\n",
       "/* On hover */\n",
       "#sk-container-id-1 a.estimator_doc_link:hover {\n",
       "  /* unfitted */\n",
       "  background-color: var(--sklearn-color-unfitted-level-3);\n",
       "  color: var(--sklearn-color-background);\n",
       "  text-decoration: none;\n",
       "}\n",
       "\n",
       "#sk-container-id-1 a.estimator_doc_link.fitted:hover {\n",
       "  /* fitted */\n",
       "  background-color: var(--sklearn-color-fitted-level-3);\n",
       "}\n",
       "</style><div id=\"sk-container-id-1\" class=\"sk-top-container\"><div class=\"sk-text-repr-fallback\"><pre>LogisticRegression(multi_class=&#x27;multinomial&#x27;)</pre><b>In a Jupyter environment, please rerun this cell to show the HTML representation or trust the notebook. <br />On GitHub, the HTML representation is unable to render, please try loading this page with nbviewer.org.</b></div><div class=\"sk-container\" hidden><div class=\"sk-item\"><div class=\"sk-estimator fitted sk-toggleable\"><input class=\"sk-toggleable__control sk-hidden--visually\" id=\"sk-estimator-id-1\" type=\"checkbox\" checked><label for=\"sk-estimator-id-1\" class=\"sk-toggleable__label fitted sk-toggleable__label-arrow fitted\">&nbsp;&nbsp;LogisticRegression<a class=\"sk-estimator-doc-link fitted\" rel=\"noreferrer\" target=\"_blank\" href=\"https://scikit-learn.org/1.5/modules/generated/sklearn.linear_model.LogisticRegression.html\">?<span>Documentation for LogisticRegression</span></a><span class=\"sk-estimator-doc-link fitted\">i<span>Fitted</span></span></label><div class=\"sk-toggleable__content fitted\"><pre>LogisticRegression(multi_class=&#x27;multinomial&#x27;)</pre></div> </div></div></div></div>"
      ],
      "text/plain": [
       "LogisticRegression(multi_class='multinomial')"
      ]
     },
     "execution_count": 33,
     "metadata": {},
     "output_type": "execute_result"
    }
   ],
   "source": [
    "#Train the logistic Regression Model\n",
    "model = LogisticRegression(multi_class='multinomial', solver='lbfgs')\n",
    "# solver='lbfgs' is the default solver in newer version of sklearn\n",
    "model.fit(X_train, y_train)"
   ]
  },
  {
   "cell_type": "markdown",
   "metadata": {},
   "source": [
    "# Predict on the test set"
   ]
  },
  {
   "cell_type": "code",
   "execution_count": 34,
   "metadata": {},
   "outputs": [],
   "source": [
    "#predict on the test set\n",
    "y_pred = model.predict(X_test)"
   ]
  },
  {
   "cell_type": "markdown",
   "metadata": {},
   "source": [
    "# Evaluate the Model"
   ]
  },
  {
   "cell_type": "markdown",
   "metadata": {},
   "source": [
    "##### Confusion Matrix"
   ]
  },
  {
   "cell_type": "code",
   "execution_count": 35,
   "metadata": {},
   "outputs": [
    {
     "name": "stdout",
     "output_type": "stream",
     "text": [
      "Confusion Matrix:\n",
      "[[ 804    8    3]\n",
      " [  51 1462    0]\n",
      " [   1    0  624]]\n"
     ]
    }
   ],
   "source": [
    "#Confusion Matrix\n",
    "cm = confusion_matrix(y_test, y_pred)\n",
    "print(\"Confusion Matrix:\")\n",
    "print(cm)"
   ]
  },
  {
   "cell_type": "code",
   "execution_count": 36,
   "metadata": {},
   "outputs": [
    {
     "data": {
      "image/png": "[encoded data removed]",
      "text/plain": [
       "<Figure size 800x600 with 2 Axes>"
      ]
     },
     "metadata": {},
     "output_type": "display_data"
    }
   ],
   "source": [
    "# Create a heatmap\n",
    "plt.figure(figsize=(8, 6))\n",
    "sns.heatmap(cm, annot=True, fmt=\"d\", cmap=\"Blues\", xticklabels=[\"Class 0\", \"Class 1\", \"Class 2\"], yticklabels=[\"Class 0\", \"Class 1\", \"Class 2\"])\n",
    "plt.title(\"Confusion Matrix\")\n",
    "plt.xlabel(\"Predicted Labels\")\n",
    "plt.ylabel(\"True Labels\")\n",
    "plt.show()\n",
    "\n",
    "#Result: Correct predictions (True Positives for each class)."
   ]
  },
  {
   "cell_type": "markdown",
   "metadata": {},
   "source": [
    "#### Classification Report"
   ]
  },
  {
   "cell_type": "code",
   "execution_count": 37,
   "metadata": {},
   "outputs": [
    {
     "name": "stdout",
     "output_type": "stream",
     "text": [
      "Classification Report:\n",
      "{'0': {'precision': 0.9392523364485982, 'recall': 0.9865030674846625, 'f1-score': 0.9622980251346499, 'support': 815.0}, '1': {'precision': 0.9945578231292517, 'recall': 0.9662921348314607, 'f1-score': 0.9802212537713711, 'support': 1513.0}, '2': {'precision': 0.9952153110047847, 'recall': 0.9984, 'f1-score': 0.9968051118210862, 'support': 625.0}, 'accuracy': 0.9786657636302065, 'macro avg': {'precision': 0.9763418235275448, 'recall': 0.9837317341053744, 'f1-score': 0.9797747969090357, 'support': 2953.0}, 'weighted avg': {'precision': 0.9794331899688979, 'recall': 0.9786657636302065, 'f1-score': 0.9787845724107698, 'support': 2953.0}}\n"
     ]
    }
   ],
   "source": [
    "report = classification_report(y_test, y_pred,output_dict=True)\n",
    "print(\"Classification Report:\")\n",
    "print(report)"
   ]
  },
  {
   "cell_type": "code",
   "execution_count": 38,
   "metadata": {},
   "outputs": [
    {
     "data": {
      "image/png": "[encoded data removed]",
      "text/plain": [
       "<Figure size 1000x600 with 1 Axes>"
      ]
     },
     "metadata": {},
     "output_type": "display_data"
    }
   ],
   "source": [
    "# Convert the dictionary to a DataFrame for visualization\n",
    "report_df = pd.DataFrame(report).transpose()\n",
    "\n",
    "# Plot the precision, recall, and f1-score\n",
    "report_df = report_df.iloc[:-1, :-1]  # Exclude support and accuracy row/column\n",
    "report_df.plot(kind=\"bar\", figsize=(10, 6), colormap=\"viridis\")\n",
    "plt.title(\"Classification Report\")\n",
    "plt.xlabel(\"Classes\")\n",
    "plt.ylabel(\"Scores\")\n",
    "plt.xticks(rotation=45)\n",
    "plt.show()"
   ]
  },
  {
   "cell_type": "markdown",
   "metadata": {},
   "source": [
    "#### Accuracy Score"
   ]
  },
  {
   "cell_type": "code",
   "execution_count": 39,
   "metadata": {},
   "outputs": [
    {
     "name": "stdout",
     "output_type": "stream",
     "text": [
      "Accuracy: 0.9786657636302065\n"
     ]
    }
   ],
   "source": [
    "# Model Accuracy, how often is the classifier correct?\n",
    "print(f\"Accuracy: {accuracy_score(y_test, y_pred)}\")"
   ]
  },
  {
   "cell_type": "code",
   "execution_count": 40,
   "metadata": {},
   "outputs": [
    {
     "name": "stdout",
     "output_type": "stream",
     "text": [
      "Accuracy: 0.98\n"
     ]
    }
   ],
   "source": [
    "accuracy = accuracy_score(y_test, y_pred)\n",
    "print(f\"Accuracy: {accuracy:.2f}\")"
   ]
  },
  {
   "cell_type": "code",
   "execution_count": 41,
   "metadata": {},
   "outputs": [
    {
     "data": {
      "image/png": "[encoded data removed]",
      "text/plain": [
       "<Figure size 600x400 with 1 Axes>"
      ]
     },
     "metadata": {},
     "output_type": "display_data"
    }
   ],
   "source": [
    "# Display accuracy in a plot\n",
    "plt.figure(figsize=(6, 4))\n",
    "plt.bar([\"Accuracy\"], [accuracy], color=\"skyblue\")\n",
    "plt.ylim(0, 1)  # Scale from 0 to 1\n",
    "plt.title(\"Accuracy Score\")\n",
    "plt.text(0, accuracy / 2, f\"{accuracy:.2%}\", ha=\"center\", va=\"center\", fontsize=12)\n",
    "plt.show()"
   ]
  },
  {
   "cell_type": "markdown",
   "metadata": {},
   "source": [
    "#### AUROC Curve"
   ]
  },
  {
   "cell_type": "code",
   "execution_count": 42,
   "metadata": {},
   "outputs": [
    {
     "name": "stdout",
     "output_type": "stream",
     "text": [
      "Area Under the ROC Curve (AUROC) for Multi-Class: 1.00\n"
     ]
    }
   ],
   "source": [
    "# Calculate AUROC\n",
    "# Get predicted probabilities for all classes\n",
    "y_pred_multi = model.predict_proba(X_test)\n",
    "\n",
    "# Calculate AUROC for multi-class classification\n",
    "auroc_multi = roc_auc_score(y_test, y_pred_multi, multi_class='ovr')\n",
    "print(f\"Area Under the ROC Curve (AUROC) for Multi-Class: {auroc_multi:.2f}\")"
   ]
  },
  {
   "cell_type": "markdown",
   "metadata": {},
   "source": [
    "# Interpret the Model"
   ]
  },
  {
   "cell_type": "markdown",
   "metadata": {},
   "source": [
    "##### Logistic regression provides coefficients that indicate feature importance"
   ]
  },
  {
   "cell_type": "code",
   "execution_count": 43,
   "metadata": {},
   "outputs": [
    {
     "name": "stdout",
     "output_type": "stream",
     "text": [
      "                  Feature  Coefficient\n",
      "0  base_cumulative_return     2.083490\n",
      "1        portfolio_return     1.165579\n",
      "2      daily_sharpe_ratio     0.314153\n",
      "3        number_of_trades     0.141990\n",
      "4    unique_tokens_traded     0.137264\n"
     ]
    }
   ],
   "source": [
    "feature_importance = pd.DataFrame({\n",
    "    'Feature': X.columns,\n",
    "    'Coefficient': model.coef_[0]\n",
    "}).sort_values(by='Coefficient', ascending=False)\n",
    "print(feature_importance)"
   ]
  },
  {
   "cell_type": "markdown",
   "metadata": {},
   "source": [
    "##### Save the model"
   ]
  },
  {
   "cell_type": "code",
   "execution_count": 44,
   "metadata": {},
   "outputs": [
    {
     "data": {
      "text/plain": [
       "'logistic_regression_model.bin'"
      ]
     },
     "execution_count": 44,
     "metadata": {},
     "output_type": "execute_result"
    }
   ],
   "source": [
    "#Save the Model\n",
    "import pickle\n",
    "\n",
    "model_file = 'logistic_regression_model.bin'\n",
    "model_file"
   ]
  },
  {
   "cell_type": "code",
   "execution_count": 45,
   "metadata": {},
   "outputs": [],
   "source": [
    "f_out = open(model_file, 'wb')\n",
    "pickle.dump((scaler, model), f_out)\n",
    "f_out.close()"
   ]
  },
  {
   "cell_type": "code",
   "execution_count": 46,
   "metadata": {},
   "outputs": [
    {
     "name": "stdout",
     "output_type": "stream",
     "text": [
      "Model saved to logistic_regression_model.bin\n"
     ]
    }
   ],
   "source": [
    "# Save the trained model to a .bin file\n",
    "\n",
    "with open(model_file, 'wb') as f_out:\n",
    "    pickle.dump((scaler, model), f_out)\n",
    "\n",
    "print(f\"Model saved to {model_file}\")"
   ]
  },
  {
   "cell_type": "code",
   "execution_count": null,
   "metadata": {},
   "outputs": [],
   "source": []
  },
  {
   "cell_type": "markdown",
   "metadata": {},
   "source": [
    "#### Load the model from the Pickle File"
   ]
  },
  {
   "cell_type": "code",
   "execution_count": 52,
   "metadata": {},
   "outputs": [
    {
     "name": "stdout",
     "output_type": "stream",
     "text": [
      "Model loaded successfully!\n",
      "Loaded model predictions match the original!\n"
     ]
    }
   ],
   "source": [
    "import pickle\n",
    "\n",
    "model_file = 'logistic_regression_model.bin'\n",
    "\n",
    "# Load the model from the .bin file\n",
    "with open(model_file, 'rb') as f_in:\n",
    "    scaler, model = pickle.load(f_in)\n",
    "\n",
    "print(\"Model loaded successfully!\")\n",
    "\n",
    "# Verify by predicting on the test set\n",
    "y_pred_loaded = model.predict(X_test)\n",
    "\n",
    "# Compare predictions from the original and loaded models\n",
    "assert (y_pred == y_pred_loaded).all(), \"Mismatch between original and loaded model predictions!\"\n",
    "\n",
    "print(\"Loaded model predictions match the original!\")"
   ]
  },
  {
   "cell_type": "code",
   "execution_count": 54,
   "metadata": {},
   "outputs": [],
   "source": [
    "trader = [[ \n",
    "   -0.952871878, \n",
    "   19.799527694, \n",
    "   1.300632733, \n",
    "    36.0, \n",
    "    6.0 \n",
    "    ]]\n",
    "\n"
   ]
  },
  {
   "cell_type": "code",
   "execution_count": 55,
   "metadata": {},
   "outputs": [
    {
     "data": {
      "text/plain": [
       "array([2], dtype=int8)"
      ]
     },
     "execution_count": 55,
     "metadata": {},
     "output_type": "execute_result"
    }
   ],
   "source": [
    "model.predict(trader)"
   ]
  },
  {
   "cell_type": "markdown",
   "metadata": {},
   "source": [
    "##### After loading the model, let’s use it to score one sample customer.\n"
   ]
  },
  {
   "cell_type": "code",
   "execution_count": 48,
   "metadata": {},
   "outputs": [],
   "source": [
    "trader = { \n",
    "    'user_address': '0x09dc02dfb7de2b150fe9a2d2ab92cf5767d423f9', \n",
    "    'base_cumulative_return': -0.952871878, \n",
    "    'portfolio_return': 19.799527694, \n",
    "    'daily_sharpe_ratio': 1.300632733, \n",
    "    'number_of_trades': 36.0, \n",
    "    'unique_tokens_traded': 6.0, \n",
    "    'trader_class_numeric': 1\n",
    "    }"
   ]
  },
  {
   "cell_type": "code",
   "execution_count": 49,
   "metadata": {},
   "outputs": [
    {
     "name": "stdout",
     "output_type": "stream",
     "text": [
      "[[-0.952871878, 19.799527694, 1.300632733, 36.0, 6.0]]\n",
      "[[-2.29738413 -1.92252927 -0.08323061  0.20852579  0.77878208]]\n"
     ]
    },
    {
     "name": "stderr",
     "output_type": "stream",
     "text": [
      "/Users/olaoluwatunmise/miniconda3/envs/web3ml/lib/python3.10/site-packages/sklearn/base.py:493: UserWarning: X does not have valid feature names, but StandardScaler was fitted with feature names\n",
      "  warnings.warn(\n"
     ]
    }
   ],
   "source": [
    "# Convert trader dictionary to a 2D array with the same feature order as during training\n",
    "features = ['base_cumulative_return', 'portfolio_return', \n",
    "            'daily_sharpe_ratio', 'number_of_trades', 'unique_tokens_traded']\n",
    "\n",
    "# Create a list of values in the correct order\n",
    "trader_values = [[trader[feature] for feature in features]]\n",
    "print(trader_values)\n",
    "# Apply scaling\n",
    "trader_scaled = scaler.transform(trader_values)\n",
    "\n",
    "print(trader_scaled)"
   ]
  },
  {
   "cell_type": "code",
   "execution_count": 50,
   "metadata": {},
   "outputs": [
    {
     "name": "stdout",
     "output_type": "stream",
     "text": [
      "Predicted Class: 1\n",
      "Prediction Probabilities: [[6.19894293e-28 1.00000000e+00 5.23071445e-50]]\n"
     ]
    }
   ],
   "source": [
    "# Predict the class using the loaded model\n",
    "prediction = model.predict(trader_scaled)\n",
    "\n",
    "# Predict the probabilities for each class\n",
    "prediction_prob = model.predict_proba(trader_scaled)\n",
    "\n",
    "print(f\"Predicted Class: {prediction[0]}\")\n",
    "print(f\"Prediction Probabilities: {prediction_prob}\")\n"
   ]
  },
  {
   "cell_type": "code",
   "execution_count": null,
   "metadata": {},
   "outputs": [],
   "source": []
  },
  {
   "cell_type": "code",
   "execution_count": null,
   "metadata": {},
   "outputs": [],
   "source": []
  },
  {
   "cell_type": "markdown",
   "metadata": {},
   "source": [
    "# Randomized Search for Hyperparameter Tuning"
   ]
  },
  {
   "cell_type": "code",
   "execution_count": 51,
   "metadata": {},
   "outputs": [],
   "source": [
    "# from sklearn.model_selection import RandomizedSearchCV\n",
    "\n",
    "# # Define the parameter distribution\n",
    "# param_distributions = {\n",
    "#     'C': np.logspace(-4, 4, 20),  # Exponential range for regularization\n",
    "#     'solver': ['liblinear', 'lbfgs'],\n",
    "#     'penalty': ['l1', 'l2'],\n",
    "#     'max_iter': [100, 200, 300]\n",
    "# }\n",
    "\n",
    "# # Initialize RandomizedSearchCV\n",
    "# random_search = RandomizedSearchCV(\n",
    "#     estimator=log_reg,\n",
    "#     param_distributions=param_distributions,\n",
    "#     n_iter=50,  # Number of parameter settings sampled\n",
    "#     cv=5,\n",
    "#     scoring='accuracy',\n",
    "#     verbose=1,\n",
    "#     n_jobs=-1,\n",
    "#     random_state=42\n",
    "# )\n",
    "\n",
    "# # Fit the model to the training data\n",
    "# random_search.fit(X_train, y_train)\n",
    "\n",
    "# # Display best parameters and accuracy\n",
    "# print(\"Best Parameters (Random Search):\", random_search.best_params_)\n",
    "# print(f\"Best Cross-Validation Accuracy (Random Search): {random_search.best_score_:.2f}\")\n",
    "\n",
    "# # Use the best estimator for predictions\n",
    "# best_model_random = random_search.best_estimator_\n",
    "# y_pred_random = best_model_random.predict(X_test)\n",
    "\n",
    "# # Evaluate the tuned model\n",
    "# print(\"\\nConfusion Matrix (Tuned Model - Random Search):\")\n",
    "# print(confusion_matrix(y_test, y_pred_random))\n",
    "# print(\"\\nClassification Report (Tuned Model - Random Search):\")\n",
    "# print(classification_report(y_test, y_pred_random))\n",
    "# print(f\"\\nAccuracy (Tuned Model - Random Search): {accuracy_score(y_test, y_pred_random):.2f}\")\n"
   ]
  }
 ],
 "metadata": {
  "kernelspec": {
   "display_name": "web3ml",
   "language": "python",
   "name": "python3"
  },
  "language_info": {
   "codemirror_mode": {
    "name": "ipython",
    "version": 3
   },
   "file_extension": ".py",
   "mimetype": "text/x-python",
   "name": "python",
   "nbconvert_exporter": "python",
   "pygments_lexer": "ipython3",
   "version": "3.10.15"
  }
 },
 "nbformat": 4,
 "nbformat_minor": 4
}
