{
 "cells": [
  {
   "cell_type": "code",
   "execution_count": 3,
   "metadata": {},
   "outputs": [],
   "source": [
    "from flipside import Flipside\n",
    "import numpy as np\n",
    "import pandas as pd \n",
    "import plotly.graph_objects as go\n",
    "import matplotlib.pyplot as plt"
   ]
  },
  {
   "cell_type": "code",
   "execution_count": 4,
   "metadata": {},
   "outputs": [],
   "source": [
    "\"\"\" This repo GITIGNORES api_key.txt, use this convention to store your key safely\"\"\"\n",
    "\n",
    "with open('api_key.txt', 'r') as file:\n",
    "    # Read the first line\n",
    "    api_key = file.readline().strip()  # .strip() removes newline characters\n",
    "\n",
    "\n",
    "\"\"\"Initialize Flipside with your API Key / API Url\"\"\"\n",
    "flipside = Flipside(api_key, \"https://api-v2.flipsidecrypto.xyz\")\n"
   ]
  },
  {
   "cell_type": "code",
   "execution_count": 5,
   "metadata": {},
   "outputs": [],
   "source": [
    "sql = \"\"\"WITH RECURSIVE date_series AS (\n",
    "  SELECT\n",
    "    '2024-02-01' :: DATE AS day\n",
    "  UNION\n",
    "  ALL\n",
    "  SELECT\n",
    "    day + INTERVAL '1 day'\n",
    "  FROM\n",
    "    date_series\n",
    "  WHERE\n",
    "    day < CURRENT_DATE\n",
    "),\n",
    "traders AS (\n",
    "  SELECT\n",
    "    ORIGIN_FROM_ADDRESS,\n",
    "    SUM(AMOUNT_OUT_USD) AS Volume\n",
    "  FROM\n",
    "    ethereum.defi.ez_dex_swaps\n",
    "  GROUP BY\n",
    "    ORIGIN_FROM_ADDRESS\n",
    "  HAVING\n",
    "    SUM(AMOUNT_OUT_USD) > 10000000\n",
    "    AND MIN(BLOCK_TIMESTAMP) >= '2024-02-01'\n",
    "    AND MIN(BLOCK_TIMESTAMP) < '2024-03-01'\n",
    "  ORDER BY\n",
    "    SUM(AMOUNT_OUT_USD) DESC\n",
    "  LIMIT\n",
    "    500\n",
    "),\n",
    "symbols AS (\n",
    "  SELECT\n",
    "    DISTINCT SYMBOL,\n",
    "    COALESCE(\n",
    "      CONTRACT_ADDRESS,\n",
    "      '0xC02aaA39b223FE8D0A0e5C4F27eAD9083C756Cc2'\n",
    "    ) AS token_contract\n",
    "  FROM\n",
    "    ethereum.core.ez_balance_deltas\n",
    "  WHERE\n",
    "    USER_ADDRESS IN (\n",
    "      SELECT DISTINCT ORIGIN_FROM_ADDRESS FROM traders\n",
    "    )\n",
    "    AND HAS_PRICE = TRUE\n",
    "),\n",
    "daily_balances AS (\n",
    "  SELECT\n",
    "    DATE_TRUNC('day', BLOCK_TIMESTAMP) AS day,\n",
    "    SYMBOL,\n",
    "    CURRENT_BAL AS daily_balance,\n",
    "    COALESCE(\n",
    "      CONTRACT_ADDRESS,\n",
    "      '0xC02aaA39b223FE8D0A0e5C4F27eAD9083C756Cc2'\n",
    "    ) AS token_contract,\n",
    "    BLOCK_TIMESTAMP,\n",
    "    USER_ADDRESS\n",
    "  FROM\n",
    "    ethereum.core.ez_balance_deltas\n",
    "  WHERE\n",
    "    USER_ADDRESS IN (\n",
    "      SELECT DISTINCT ORIGIN_FROM_ADDRESS FROM traders\n",
    "    )\n",
    "    AND HAS_PRICE = TRUE\n",
    "),\n",
    "ranked_balances AS (\n",
    "  SELECT\n",
    "    day,\n",
    "    SYMBOL,\n",
    "    daily_balance,\n",
    "    token_contract,\n",
    "    USER_ADDRESS,\n",
    "    ROW_NUMBER() OVER (\n",
    "      PARTITION BY token_contract, day\n",
    "      ORDER BY BLOCK_TIMESTAMP DESC\n",
    "    ) AS rn\n",
    "  FROM\n",
    "    daily_balances\n",
    "),\n",
    "filtered_balances AS (\n",
    "  SELECT\n",
    "    day,\n",
    "    SYMBOL,\n",
    "    daily_balance,\n",
    "    token_contract,\n",
    "    USER_ADDRESS\n",
    "  FROM\n",
    "    ranked_balances\n",
    "  WHERE\n",
    "    rn = 1\n",
    "),\n",
    "filled_balances AS (\n",
    "  SELECT\n",
    "    ds.day,\n",
    "    s.SYMBOL,\n",
    "    COALESCE(fb.daily_balance, 0) AS filled_balance,\n",
    "    fb.USER_ADDRESS,\n",
    "    CASE\n",
    "      WHEN s.SYMBOL = 'ETH' THEN LOWER('0xC02aaA39b223FE8D0A0e5C4F27eAD9083C756Cc2')\n",
    "      ELSE fb.token_contract\n",
    "    END AS token_contract\n",
    "  FROM\n",
    "    date_series ds\n",
    "    CROSS JOIN symbols s\n",
    "    LEFT JOIN filtered_balances fb ON fb.day <= ds.day\n",
    "    AND fb.SYMBOL = s.SYMBOL QUALIFY ROW_NUMBER() OVER (\n",
    "      PARTITION BY ds.day, s.SYMBOL\n",
    "      ORDER BY fb.day DESC\n",
    "    ) = 1\n",
    "),\n",
    "latest_prices AS (\n",
    "  SELECT\n",
    "    DATE_TRUNC('day', hour) AS day,\n",
    "    TOKEN_ADDRESS,\n",
    "    PERCENTILE_CONT(0.5) WITHIN GROUP (ORDER BY PRICE) AS price\n",
    "  FROM\n",
    "    ethereum.price.ez_prices_hourly\n",
    "  GROUP BY\n",
    "    DATE_TRUNC('day', hour), TOKEN_ADDRESS\n",
    "),\n",
    "balances_with_prices AS (\n",
    "  SELECT\n",
    "    fb.day,\n",
    "    fb.SYMBOL,\n",
    "    fb.filled_balance,\n",
    "    USER_ADDRESS,\n",
    "    lp.PRICE AS daily_price,\n",
    "    fb.filled_balance * lp.PRICE AS value_in_usd\n",
    "  FROM\n",
    "    filled_balances fb\n",
    "    LEFT JOIN latest_prices lp ON lp.TOKEN_ADDRESS = fb.token_contract\n",
    "    AND lp.day = fb.day\n",
    "),\n",
    "aggregated_by_day AS (\n",
    "  SELECT\n",
    "    day,\n",
    "    daily_price,\n",
    "    SYMBOL,\n",
    "    USER_ADDRESS,\n",
    "    SUM(filled_balance) AS total_filled_balance,\n",
    "    SUM(value_in_usd) AS total_value_in_usd\n",
    "  FROM\n",
    "    balances_with_prices\n",
    "  GROUP BY\n",
    "    day, SYMBOL, USER_ADDRESS, daily_price\n",
    "),\n",
    "aggregated_added AS (\n",
    "  SELECT\n",
    "    a.day,\n",
    "    a.SYMBOL,\n",
    "    a.daily_price,\n",
    "    a.total_filled_balance,\n",
    "    a.USER_ADDRESS,\n",
    "    a.total_value_in_usd,\n",
    "    SUM(a.total_value_in_usd) OVER (PARTITION BY a.day, a.USER_ADDRESS) AS total_usd_in_treasury\n",
    "  FROM\n",
    "    aggregated_by_day a\n",
    "  WHERE\n",
    "    a.day <= CURRENT_DATE - 1\n",
    "    AND a.daily_price > 0\n",
    "  ORDER BY\n",
    "    a.day DESC, a.SYMBOL\n",
    "),\n",
    "aggregated_added2 AS (\n",
    "  SELECT\n",
    "    *,\n",
    "    total_value_in_usd / NULLIF(total_usd_in_treasury, 0) AS composition\n",
    "  FROM\n",
    "    aggregated_added\n",
    "  ORDER BY\n",
    "    day DESC, SYMBOL, USER_ADDRESS\n",
    "),\n",
    "daily_returns AS (\n",
    "  SELECT\n",
    "    day,\n",
    "    SYMBOL,\n",
    "    daily_price,\n",
    "    composition,\n",
    "    total_filled_balance,\n",
    "    total_usd_in_treasury,\n",
    "    USER_ADDRESS,\n",
    "    LAG(daily_price) OVER (PARTITION BY SYMBOL ORDER BY day) AS prev_day_price,\n",
    "    (daily_price - LAG(daily_price) OVER (PARTITION BY SYMBOL ORDER BY day)) / LAG(daily_price) OVER (PARTITION BY SYMBOL ORDER BY day) AS daily_return\n",
    "  FROM\n",
    "    aggregated_added2\n",
    "),\n",
    "weighted_daily_returns AS (\n",
    "  SELECT\n",
    "    day,\n",
    "    USER_ADDRESS,\n",
    "    daily_return,\n",
    "    SUM(daily_return * composition) AS weighted_daily_return\n",
    "  FROM\n",
    "    daily_returns\n",
    "  GROUP BY\n",
    "    day, USER_ADDRESS, daily_return\n",
    "),\n",
    "cumulative_returns AS (\n",
    "  SELECT\n",
    "    day,\n",
    "    daily_return,\n",
    "    weighted_daily_return,\n",
    "    USER_ADDRESS,\n",
    "    (1 + weighted_daily_return) AS daily_factor,\n",
    "    EXP(SUM(LN(1 + weighted_daily_return)) OVER (PARTITION BY USER_ADDRESS ORDER BY day ASC)) - 1 AS cumulative_return\n",
    "  FROM\n",
    "    weighted_daily_returns\n",
    "),\n",
    "base_return AS (\n",
    "  SELECT\n",
    "    day,\n",
    "    USER_ADDRESS,\n",
    "    daily_return,\n",
    "    cumulative_return AS base_cumulative_return\n",
    "  FROM\n",
    "    cumulative_returns\n",
    "  WHERE\n",
    "    cumulative_return IS NOT NULL\n",
    "),\n",
    "normalized_returns AS (\n",
    "  SELECT\n",
    "    day,\n",
    "    USER_ADDRESS,\n",
    "    daily_return,\n",
    "    base_cumulative_return,\n",
    "    100 + (100 * (base_cumulative_return - FIRST_VALUE(base_cumulative_return) OVER (PARTITION BY USER_ADDRESS ORDER BY day ASC))) AS portfolio_return\n",
    "  FROM\n",
    "    base_return\n",
    "),\n",
    "return_stats AS (\n",
    "  SELECT\n",
    "    day,\n",
    "    USER_ADDRESS,\n",
    "    base_cumulative_return,\n",
    "    portfolio_return,\n",
    "    AVG(portfolio_return) OVER (PARTITION BY USER_ADDRESS ORDER BY day ASC) AS avg_daily_return,\n",
    "    STDDEV(portfolio_return) OVER (PARTITION BY USER_ADDRESS ORDER BY day ASC) AS stddev_return\n",
    "  FROM\n",
    "    normalized_returns\n",
    "),\n",
    "sharpe_ratio AS (\n",
    "  SELECT\n",
    "    day,\n",
    "    USER_ADDRESS,\n",
    "    base_cumulative_return,\n",
    "    portfolio_return,\n",
    "    NULLIF((portfolio_return - 0.0430 / 365) / NULLIF(STDDEV(portfolio_return) OVER (PARTITION BY USER_ADDRESS ORDER BY day ASC), 0), 0) AS daily_sharpe_ratio\n",
    "  FROM\n",
    "    return_stats\n",
    "),\n",
    "trade_counts AS (\n",
    "  SELECT\n",
    "    DATE_TRUNC('day', BLOCK_TIMESTAMP) AS day,\n",
    "    ORIGIN_FROM_ADDRESS AS USER_ADDRESS,\n",
    "    COUNT(DISTINCT tx_hash) AS number_of_trades\n",
    "  FROM\n",
    "    ethereum.defi.ez_dex_swaps\n",
    "  GROUP BY\n",
    "    day, ORIGIN_FROM_ADDRESS\n",
    "),\n",
    "\n",
    "tokens_traded AS (\n",
    "  SELECT\n",
    "    DATE_TRUNC('day', BLOCK_TIMESTAMP) AS day,\n",
    "    ORIGIN_FROM_ADDRESS AS USER_ADDRESS,\n",
    "    COUNT(DISTINCT SYMBOL_OUT) AS unique_tokens_traded\n",
    "  FROM\n",
    "    ethereum.defi.ez_dex_swaps\n",
    "  GROUP BY\n",
    "    day, ORIGIN_FROM_ADDRESS\n",
    "),\n",
    "\n",
    "final_normalized_returns AS (\n",
    "  SELECT\n",
    "    sr.day,\n",
    "    sr.USER_ADDRESS,\n",
    "    sr.base_cumulative_return,\n",
    "    sr.portfolio_return,\n",
    "    sr.daily_sharpe_ratio,\n",
    "    CASE\n",
    "      WHEN AVG(sr.portfolio_return) > 120 AND sr.daily_sharpe_ratio > 1.5 THEN 'Good Trader'\n",
    "      WHEN AVG(sr.portfolio_return) BETWEEN 100 AND 120 THEN 'Average Trader'\n",
    "      WHEN AVG(sr.portfolio_return) < 100 THEN 'Bad Trader'\n",
    "    END AS trader_class\n",
    "  FROM\n",
    "    sharpe_ratio sr\n",
    "  WHERE\n",
    "    sr.daily_sharpe_ratio IS NOT NULL\n",
    "  GROUP BY\n",
    "    sr.day, sr.USER_ADDRESS, sr.base_cumulative_return, sr.portfolio_return, sr.daily_sharpe_ratio\n",
    ")\n",
    "\n",
    "SELECT\n",
    "  fnr.day,\n",
    "  fnr.USER_ADDRESS,\n",
    "  fnr.base_cumulative_return,\n",
    "  fnr.portfolio_return,\n",
    "  fnr.daily_sharpe_ratio,\n",
    "  fnr.trader_class,\n",
    "  tc.number_of_trades,\n",
    "  tt.unique_tokens_traded\n",
    "FROM\n",
    "  final_normalized_returns fnr\n",
    "  LEFT JOIN trade_counts tc ON tc.day = fnr.day AND tc.USER_ADDRESS = fnr.USER_ADDRESS\n",
    "  LEFT JOIN tokens_traded tt ON tt.day = fnr.day AND tt.USER_ADDRESS = fnr.USER_ADDRESS;\n",
    "\"\"\"\n",
    "\"\"\"Run the query against Flipside's query engine and await the results\"\"\"\n",
    "query_result_set = flipside.query(sql)\n",
    "#print(query_result_set)"
   ]
  },
  {
   "cell_type": "code",
   "execution_count": 6,
   "metadata": {},
   "outputs": [],
   "source": [
    "\"\"\"This function will be added to Flipside package after testing, just copy/paste as needed for now\"\"\"\n",
    "def auto_paginate_result(query_result_set, page_size=10000):\n",
    "    \"\"\"\n",
    "    This function auto-paginates a query result to get all the data. It assumes 10,000 rows per page.\n",
    "    In case of an error, reduce the page size. Uses numpy.\n",
    "    \"\"\"\n",
    "    num_rows = query_result_set.page.totalRows\n",
    "    page_count = np.ceil(num_rows / page_size).astype(int)\n",
    "    all_rows = []\n",
    "    current_page = 1\n",
    "    while current_page <= page_count:\n",
    "        results = flipside.get_query_results(\n",
    "            query_result_set.query_id,\n",
    "            page_number=current_page,\n",
    "            page_size=page_size\n",
    "        )\n",
    "        if results.records:\n",
    "            all_rows.extend(results.records)  # Use extend() to add list elements\n",
    "        current_page += 1  # Increment the current page number\n",
    "    return all_rows  # Return all_rows in JSON format\n"
   ]
  },
  {
   "cell_type": "code",
   "execution_count": 7,
   "metadata": {},
   "outputs": [
    {
     "name": "stdout",
     "output_type": "stream",
     "text": [
      "                        day                                user_address  base_cumulative_return  portfolio_return  daily_sharpe_ratio trader_class  number_of_trades  unique_tokens_traded  __row_index\n",
      "0  2024-08-25T00:00:00.000Z  0xadb4baa4bf3a1c176c4399402395403632b036a3            38074.278177      3.807529e+06            2.052683  Good Trader               NaN                   NaN            0\n",
      "1  2024-05-10T00:00:00.000Z  0x6e2c509d522d47f509e1a6d75682e6abbc38b362                0.780245      1.756767e+02            9.102561  Good Trader               1.0                   2.0            1\n",
      "2  2024-02-22T00:00:00.000Z  0x3f8cff57fb4592a0ba46c66d2239486b8690842e               -0.095655      8.587805e+01           12.691943   Bad Trader               3.0                   3.0            2\n",
      "3  2024-06-13T00:00:00.000Z  0x518ded2f413f275d720b199ad9d03a262e35d3b3               -0.520177      4.907032e+01            2.252786   Bad Trader               NaN                   NaN            3\n",
      "4  2024-03-18T00:00:00.000Z  0x725ef823a0c7ea654561e13796a9d81a9aa8398a                0.005050      8.613312e+01            2.370263   Bad Trader               3.0                   3.0            4\n"
     ]
    }
   ],
   "source": [
    "\"\"\" Get your data as a pandas data frame\"\"\"\n",
    "\n",
    "trader_classifier = auto_paginate_result(query_result_set)\n",
    "df = pd.DataFrame(trader_classifier)\n",
    "\n",
    "# Set the display option to show all columns\n",
    "pd.set_option('display.max_columns', None)\n",
    "pd.set_option('display.width', 1000)  # Adjusts the display width for better visibility\n",
    "\n",
    "#Display Dataframe\n",
    "print(df.head())"
   ]
  },
  {
   "cell_type": "code",
   "execution_count": 44,
   "metadata": {},
   "outputs": [
    {
     "name": "stdout",
     "output_type": "stream",
     "text": [
      "                        day                                user_address  base_cumulative_return  portfolio_return  daily_sharpe_ratio trader_class  number_of_trades  unique_tokens_traded\n",
      "0  2024-08-25T00:00:00.000Z  0xadb4baa4bf3a1c176c4399402395403632b036a3            38074.278177      3.807529e+06            2.052683  Good Trader               NaN                   NaN\n",
      "1  2024-05-10T00:00:00.000Z  0x6e2c509d522d47f509e1a6d75682e6abbc38b362                0.780245      1.756767e+02            9.102561  Good Trader               1.0                   2.0\n",
      "2  2024-02-22T00:00:00.000Z  0x3f8cff57fb4592a0ba46c66d2239486b8690842e               -0.095655      8.587805e+01           12.691943   Bad Trader               3.0                   3.0\n",
      "3  2024-06-13T00:00:00.000Z  0x518ded2f413f275d720b199ad9d03a262e35d3b3               -0.520177      4.907032e+01            2.252786   Bad Trader               NaN                   NaN\n",
      "4  2024-03-18T00:00:00.000Z  0x725ef823a0c7ea654561e13796a9d81a9aa8398a                0.005050      8.613312e+01            2.370263   Bad Trader               3.0                   3.0\n"
     ]
    }
   ],
   "source": [
    "#Drop the \"__row_index\" column\n",
    "df_t = df.drop(columns = ['__row_index'])\n",
    "\n",
    "#Remove later\n",
    "print(df_t.head())"
   ]
  },
  {
   "cell_type": "code",
   "execution_count": 87,
   "metadata": {},
   "outputs": [
    {
     "name": "stdout",
     "output_type": "stream",
     "text": [
      "          day                                user_address  base_cumulative_return  portfolio_return  daily_sharpe_ratio trader_class  number_of_trades  unique_tokens_traded\n",
      "0  2024-08-25  0xadb4baa4bf3a1c176c4399402395403632b036a3            38074.278177      3.807529e+06            2.052683  Good Trader               NaN                   NaN\n",
      "1  2024-05-10  0x6e2c509d522d47f509e1a6d75682e6abbc38b362                0.780245      1.756767e+02            9.102561  Good Trader               1.0                   2.0\n",
      "2  2024-02-22  0x3f8cff57fb4592a0ba46c66d2239486b8690842e               -0.095655      8.587805e+01           12.691943   Bad Trader               3.0                   3.0\n",
      "3  2024-06-13  0x518ded2f413f275d720b199ad9d03a262e35d3b3               -0.520177      4.907032e+01            2.252786   Bad Trader               NaN                   NaN\n",
      "4  2024-03-18  0x725ef823a0c7ea654561e13796a9d81a9aa8398a                0.005050      8.613312e+01            2.370263   Bad Trader               3.0                   3.0\n"
     ]
    }
   ],
   "source": [
    "# Convert 'day' column to datetime format and remove time component \n",
    "df_t['day'] = pd.to_datetime(df_t['day'], errors='coerce').dt.date\n",
    "#Remove later\n",
    "print(df_t.head())"
   ]
  },
  {
   "cell_type": "code",
   "execution_count": 88,
   "metadata": {},
   "outputs": [
    {
     "name": "stdout",
     "output_type": "stream",
     "text": [
      "              day                                user_address  base_cumulative_return  portfolio_return  daily_sharpe_ratio trader_class  number_of_trades  unique_tokens_traded\n",
      "0      2024-08-25  0xadb4baa4bf3a1c176c4399402395403632b036a3            3.807428e+04      3.807529e+06            2.052683  Good Trader               NaN                   NaN\n",
      "9      2024-07-01  0xfb94d3404c1d3d9d6f08f79e58041d5ea95accfa            2.247147e+00      3.250688e+02            4.866034  Good Trader               NaN                   NaN\n",
      "15     2024-05-15  0x9c03bf3a8df813938becbdc42c8156f8964cdf46            4.937530e+01      5.037485e+03            2.806068  Good Trader               NaN                   NaN\n",
      "16     2024-08-14  0x6f5884a6ba14297eab47aa52c4e739f0a11ff7c1            1.503903e+07      1.503903e+09            1.486914         None               NaN                   NaN\n",
      "18     2024-06-20  0x1518c211f611114decd1842894e08b803afcd27b            7.978986e+00      8.749185e+02            1.395284         None               NaN                   NaN\n",
      "...           ...                                         ...                     ...               ...                 ...          ...               ...                   ...\n",
      "17799  2024-05-23  0x743b6a564dc23912cc6d67e78db6e07e66bd3515            3.327080e+00      4.142747e+02            6.720511  Good Trader               NaN                   NaN\n",
      "17801  2024-10-26  0xda487009336ccc1fbe426435ee189735b5f4dd9a            5.098480e+00      6.080281e+02            3.302129  Good Trader               NaN                   NaN\n",
      "17807  2024-08-27  0x74930f9ac77dea77a2c16b0b1963faef29aaec21            4.947169e+01      5.043516e+03            2.328887  Good Trader               3.0                   4.0\n",
      "17816  2024-08-15  0xd0640fcb1ef5ac385b57701c5ef7030331c8d80b            6.582668e+01      6.675792e+03            7.095436  Good Trader               3.0                   2.0\n",
      "17818  2024-04-22  0xfb94d3404c1d3d9d6f08f79e58041d5ea95accfa            1.951738e+00      2.955280e+02            3.809334  Good Trader               NaN                   NaN\n",
      "\n",
      "[3349 rows x 8 columns]\n"
     ]
    }
   ],
   "source": [
    "# Define a function to detect outliers based on IQR\n",
    "def find_outliers_iqr(df_t, column):\n",
    "    Q1 = df_t[column].quantile(0.25)\n",
    "    Q3 = df_t[column].quantile(0.75)\n",
    "    IQR = Q3 - Q1\n",
    "    lower_bound = Q1 - 1.5 * IQR\n",
    "    upper_bound = Q3 + 1.5 * IQR\n",
    "    return df_t[(df_t[column] < lower_bound) | (df_t[column] > upper_bound)]\n",
    "\n",
    "#Find outliers for 'portfolio_return'\n",
    "outliers = find_outliers_iqr(df_t, 'portfolio_return')\n",
    "print(outliers)\n"
   ]
  },
  {
   "cell_type": "code",
   "execution_count": 89,
   "metadata": {},
   "outputs": [
    {
     "name": "stdout",
     "output_type": "stream",
     "text": [
      "              day                                user_address  base_cumulative_return  portfolio_return  daily_sharpe_ratio    trader_class  number_of_trades  unique_tokens_traded\n",
      "1      2024-05-10  0x6e2c509d522d47f509e1a6d75682e6abbc38b362                0.780245        175.676668            9.102561     Good Trader               1.0                   2.0\n",
      "2      2024-02-22  0x3f8cff57fb4592a0ba46c66d2239486b8690842e               -0.095655         85.878050           12.691943      Bad Trader               3.0                   3.0\n",
      "3      2024-06-13  0x518ded2f413f275d720b199ad9d03a262e35d3b3               -0.520177         49.070325            2.252786      Bad Trader               NaN                   NaN\n",
      "4      2024-03-18  0x725ef823a0c7ea654561e13796a9d81a9aa8398a                0.005050         86.133115            2.370263      Bad Trader               3.0                   3.0\n",
      "5      2024-06-16  0x725ef823a0c7ea654561e13796a9d81a9aa8398a               -0.524878         33.140320            0.786522      Bad Trader               NaN                   NaN\n",
      "...           ...                                         ...                     ...               ...                 ...             ...               ...                   ...\n",
      "17813  2024-10-20  0xf7ca1f0ff0995c84fef530f7c74c69fb80331e81                0.081473        107.019807           21.124951  Average Trader               2.0                   1.0\n",
      "17814  2024-08-15  0x4cd3008b2e96d3028fcbb64c79bf19e242ee17d4               -0.063328         93.667228            4.782262      Bad Trader               NaN                   NaN\n",
      "17815  2024-10-01  0x4d16c0ed54b2e548b134b0b2361e83fc6310f14a                1.226889        209.816781            5.994527     Good Trader               NaN                   NaN\n",
      "17817  2024-02-16  0xcf6dabb7d6f87028930ff4d569d80b458c4ea214                0.064084        103.023517           65.463404  Average Trader               NaN                   NaN\n",
      "17819  2024-07-09  0x9ec7868ebae98a73cb65711f6fc941436187a3c9               -0.049907         91.161675           16.663129      Bad Trader               NaN                   NaN\n",
      "\n",
      "[14471 rows x 8 columns]\n"
     ]
    }
   ],
   "source": [
    "# Remove outliers from 'portfolio_return' column based on IQR method\n",
    "def remove_outliers_iqr(df_t, column):\n",
    "    Q1 = df_t[column].quantile(0.25)\n",
    "    Q3 = df_t[column].quantile(0.75)\n",
    "    IQR = Q3 - Q1\n",
    "    lower_bound = Q1 - 1.5 * IQR\n",
    "    upper_bound = Q3 + 1.5 * IQR\n",
    "    return df_t[(df_t[column] >= lower_bound) & (df_t[column] <= upper_bound)]\n",
    "\n",
    "# Apply the function to remove outliers from the 'portfolio_return' column\n",
    "df_clean = remove_outliers_iqr(df_t, 'portfolio_return')\n",
    "\n",
    "# Verify the result\n",
    "print(df_clean)\n"
   ]
  },
  {
   "cell_type": "code",
   "execution_count": 90,
   "metadata": {},
   "outputs": [
    {
     "name": "stdout",
     "output_type": "stream",
     "text": [
      "day                           0\n",
      "user_address                  0\n",
      "base_cumulative_return        0\n",
      "portfolio_return              0\n",
      "daily_sharpe_ratio            0\n",
      "trader_class                  8\n",
      "number_of_trades          10660\n",
      "unique_tokens_traded      10660\n",
      "dtype: int64\n"
     ]
    }
   ],
   "source": [
    "# Check for NaN values in the entire DataFrame\n",
    "print(df_clean.isna().sum())"
   ]
  },
  {
   "cell_type": "code",
   "execution_count": 91,
   "metadata": {},
   "outputs": [
    {
     "name": "stdout",
     "output_type": "stream",
     "text": [
      "day                           0\n",
      "user_address                  0\n",
      "base_cumulative_return        0\n",
      "portfolio_return              0\n",
      "daily_sharpe_ratio            0\n",
      "trader_class                  0\n",
      "number_of_trades          10653\n",
      "unique_tokens_traded      10653\n",
      "dtype: int64\n"
     ]
    }
   ],
   "source": [
    "#drop rows in trader_class column with NaN values\n",
    "df_cleann = df_clean.dropna(subset=['trader_class'])\n",
    "print(df_cleann.isna().sum())"
   ]
  },
  {
   "cell_type": "code",
   "execution_count": 92,
   "metadata": {},
   "outputs": [
    {
     "name": "stdout",
     "output_type": "stream",
     "text": [
      "day                       0\n",
      "user_address              0\n",
      "base_cumulative_return    0\n",
      "portfolio_return          0\n",
      "daily_sharpe_ratio        0\n",
      "trader_class              0\n",
      "number_of_trades          0\n",
      "unique_tokens_traded      0\n",
      "dtype: int64\n"
     ]
    }
   ],
   "source": [
    "#Fill NaN with 0\n",
    "df_cleaned = df_cleann.fillna(0)\n",
    "print(df_cleaned.isna().sum())"
   ]
  },
  {
   "cell_type": "code",
   "execution_count": 93,
   "metadata": {},
   "outputs": [
    {
     "data": {
      "text/plain": [
       "day                        object\n",
       "user_address               object\n",
       "base_cumulative_return    float64\n",
       "portfolio_return          float64\n",
       "daily_sharpe_ratio        float64\n",
       "trader_class               object\n",
       "number_of_trades          float64\n",
       "unique_tokens_traded      float64\n",
       "dtype: object"
      ]
     },
     "execution_count": 93,
     "metadata": {},
     "output_type": "execute_result"
    }
   ],
   "source": [
    "df_cleaned.dtypes"
   ]
  },
  {
   "cell_type": "code",
   "execution_count": 95,
   "metadata": {},
   "outputs": [],
   "source": [
    "#convert day to datetime\n",
    "df_cleaned['day'] = pd.to_datetime(df_cleaned['day'])"
   ]
  },
  {
   "cell_type": "code",
   "execution_count": 96,
   "metadata": {},
   "outputs": [
    {
     "data": {
      "text/plain": [
       "day                       datetime64[ns]\n",
       "user_address                      object\n",
       "base_cumulative_return           float64\n",
       "portfolio_return                 float64\n",
       "daily_sharpe_ratio               float64\n",
       "trader_class                      object\n",
       "number_of_trades                 float64\n",
       "unique_tokens_traded             float64\n",
       "dtype: object"
      ]
     },
     "execution_count": 96,
     "metadata": {},
     "output_type": "execute_result"
    }
   ],
   "source": [
    "df_cleaned.dtypes"
   ]
  },
  {
   "cell_type": "code",
   "execution_count": 97,
   "metadata": {},
   "outputs": [
    {
     "data": {
      "text/plain": [
       "1    Good Trader\n",
       "2     Bad Trader\n",
       "3     Bad Trader\n",
       "4     Bad Trader\n",
       "5     Bad Trader\n",
       "Name: trader_class, dtype: object"
      ]
     },
     "execution_count": 97,
     "metadata": {},
     "output_type": "execute_result"
    }
   ],
   "source": [
    "df_cleaned.trader_class.head()"
   ]
  },
  {
   "cell_type": "code",
   "execution_count": 101,
   "metadata": {},
   "outputs": [
    {
     "data": {
      "text/plain": [
       "Index(['Average Trader', 'Bad Trader', 'Good Trader'], dtype='object')"
      ]
     },
     "execution_count": 101,
     "metadata": {},
     "output_type": "execute_result"
    }
   ],
   "source": [
    "# Convert 'trader_class' to a categorical column\n",
    "df_cleaned[\"trader_class\"] = df_cleaned[\"trader_class\"].astype('category')\n",
    "df_cleaned[\"trader_class\"].cat.categories"
   ]
  },
  {
   "cell_type": "code",
   "execution_count": 102,
   "metadata": {},
   "outputs": [
    {
     "data": {
      "text/plain": [
       "day                       datetime64[ns]\n",
       "user_address                      object\n",
       "base_cumulative_return           float64\n",
       "portfolio_return                 float64\n",
       "daily_sharpe_ratio               float64\n",
       "trader_class                    category\n",
       "number_of_trades                 float64\n",
       "unique_tokens_traded             float64\n",
       "dtype: object"
      ]
     },
     "execution_count": 102,
     "metadata": {},
     "output_type": "execute_result"
    }
   ],
   "source": [
    "df_cleaned.dtypes"
   ]
  },
  {
   "cell_type": "code",
   "execution_count": 107,
   "metadata": {},
   "outputs": [
    {
     "data": {
      "text/plain": [
       "1        2\n",
       "2        1\n",
       "3        1\n",
       "4        1\n",
       "5        1\n",
       "        ..\n",
       "17813    0\n",
       "17814    1\n",
       "17815    2\n",
       "17817    0\n",
       "17819    1\n",
       "Name: trader_class_numeric, Length: 14463, dtype: int8"
      ]
     },
     "execution_count": 107,
     "metadata": {},
     "output_type": "execute_result"
    }
   ],
   "source": [
    "# Assign unique integers to categories\n",
    "df_cleaned['trader_class_numeric'] = df_cleaned['trader_class'].astype('category').cat.codes\n",
    "df_cleaned['trader_class_numeric']"
   ]
  },
  {
   "cell_type": "code",
   "execution_count": 106,
   "metadata": {},
   "outputs": [
    {
     "data": {
      "text/html": [
       "<div>\n",
       "<style scoped>\n",
       "    .dataframe tbody tr th:only-of-type {\n",
       "        vertical-align: middle;\n",
       "    }\n",
       "\n",
       "    .dataframe tbody tr th {\n",
       "        vertical-align: top;\n",
       "    }\n",
       "\n",
       "    .dataframe thead th {\n",
       "        text-align: right;\n",
       "    }\n",
       "</style>\n",
       "<table border=\"1\" class=\"dataframe\">\n",
       "  <thead>\n",
       "    <tr style=\"text-align: right;\">\n",
       "      <th></th>\n",
       "      <th>day</th>\n",
       "      <th>user_address</th>\n",
       "      <th>base_cumulative_return</th>\n",
       "      <th>portfolio_return</th>\n",
       "      <th>daily_sharpe_ratio</th>\n",
       "      <th>trader_class</th>\n",
       "      <th>number_of_trades</th>\n",
       "      <th>unique_tokens_traded</th>\n",
       "      <th>trader_class_numeric</th>\n",
       "    </tr>\n",
       "  </thead>\n",
       "  <tbody>\n",
       "    <tr>\n",
       "      <th>1</th>\n",
       "      <td>2024-05-10</td>\n",
       "      <td>0x6e2c509d522d47f509e1a6d75682e6abbc38b362</td>\n",
       "      <td>0.780245</td>\n",
       "      <td>175.676668</td>\n",
       "      <td>9.102561</td>\n",
       "      <td>Good Trader</td>\n",
       "      <td>1.0</td>\n",
       "      <td>2.0</td>\n",
       "      <td>2</td>\n",
       "    </tr>\n",
       "    <tr>\n",
       "      <th>2</th>\n",
       "      <td>2024-02-22</td>\n",
       "      <td>0x3f8cff57fb4592a0ba46c66d2239486b8690842e</td>\n",
       "      <td>-0.095655</td>\n",
       "      <td>85.878050</td>\n",
       "      <td>12.691943</td>\n",
       "      <td>Bad Trader</td>\n",
       "      <td>3.0</td>\n",
       "      <td>3.0</td>\n",
       "      <td>1</td>\n",
       "    </tr>\n",
       "    <tr>\n",
       "      <th>3</th>\n",
       "      <td>2024-06-13</td>\n",
       "      <td>0x518ded2f413f275d720b199ad9d03a262e35d3b3</td>\n",
       "      <td>-0.520177</td>\n",
       "      <td>49.070325</td>\n",
       "      <td>2.252786</td>\n",
       "      <td>Bad Trader</td>\n",
       "      <td>0.0</td>\n",
       "      <td>0.0</td>\n",
       "      <td>1</td>\n",
       "    </tr>\n",
       "    <tr>\n",
       "      <th>4</th>\n",
       "      <td>2024-03-18</td>\n",
       "      <td>0x725ef823a0c7ea654561e13796a9d81a9aa8398a</td>\n",
       "      <td>0.005050</td>\n",
       "      <td>86.133115</td>\n",
       "      <td>2.370263</td>\n",
       "      <td>Bad Trader</td>\n",
       "      <td>3.0</td>\n",
       "      <td>3.0</td>\n",
       "      <td>1</td>\n",
       "    </tr>\n",
       "    <tr>\n",
       "      <th>5</th>\n",
       "      <td>2024-06-16</td>\n",
       "      <td>0x725ef823a0c7ea654561e13796a9d81a9aa8398a</td>\n",
       "      <td>-0.524878</td>\n",
       "      <td>33.140320</td>\n",
       "      <td>0.786522</td>\n",
       "      <td>Bad Trader</td>\n",
       "      <td>0.0</td>\n",
       "      <td>0.0</td>\n",
       "      <td>1</td>\n",
       "    </tr>\n",
       "  </tbody>\n",
       "</table>\n",
       "</div>"
      ],
      "text/plain": [
       "         day                                user_address  base_cumulative_return  portfolio_return  daily_sharpe_ratio trader_class  number_of_trades  unique_tokens_traded  trader_class_numeric\n",
       "1 2024-05-10  0x6e2c509d522d47f509e1a6d75682e6abbc38b362                0.780245        175.676668            9.102561  Good Trader               1.0                   2.0                     2\n",
       "2 2024-02-22  0x3f8cff57fb4592a0ba46c66d2239486b8690842e               -0.095655         85.878050           12.691943   Bad Trader               3.0                   3.0                     1\n",
       "3 2024-06-13  0x518ded2f413f275d720b199ad9d03a262e35d3b3               -0.520177         49.070325            2.252786   Bad Trader               0.0                   0.0                     1\n",
       "4 2024-03-18  0x725ef823a0c7ea654561e13796a9d81a9aa8398a                0.005050         86.133115            2.370263   Bad Trader               3.0                   3.0                     1\n",
       "5 2024-06-16  0x725ef823a0c7ea654561e13796a9d81a9aa8398a               -0.524878         33.140320            0.786522   Bad Trader               0.0                   0.0                     1"
      ]
     },
     "execution_count": 106,
     "metadata": {},
     "output_type": "execute_result"
    }
   ],
   "source": [
    "df_cleaned.head()"
   ]
  },
  {
   "cell_type": "code",
   "execution_count": null,
   "metadata": {},
   "outputs": [],
   "source": []
  }
 ],
 "metadata": {
  "kernelspec": {
   "display_name": "flipside",
   "language": "python",
   "name": "python3"
  },
  "language_info": {
   "codemirror_mode": {
    "name": "ipython",
    "version": 3
   },
   "file_extension": ".py",
   "mimetype": "text/x-python",
   "name": "python",
   "nbconvert_exporter": "python",
   "pygments_lexer": "ipython3",
   "version": "3.10.15"
  }
 },
 "nbformat": 4,
 "nbformat_minor": 2
}
