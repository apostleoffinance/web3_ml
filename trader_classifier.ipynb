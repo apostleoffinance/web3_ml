{
 "cells": [
  {
   "cell_type": "code",
   "execution_count": 3,
   "metadata": {},
   "outputs": [],
   "source": [
    "from flipside import Flipside\n",
    "import numpy as np\n",
    "import pandas as pd \n",
    "import plotly.graph_objects as go\n",
    "import matplotlib.pyplot as plt"
   ]
  },
  {
   "cell_type": "code",
   "execution_count": 4,
   "metadata": {},
   "outputs": [],
   "source": [
    "\"\"\" This repo GITIGNORES api_key.txt, use this convention to store your key safely\"\"\"\n",
    "\n",
    "with open('api_key.txt', 'r') as file:\n",
    "    # Read the first line\n",
    "    api_key = file.readline().strip()  # .strip() removes newline characters\n",
    "\n",
    "\n",
    "\"\"\"Initialize Flipside with your API Key / API Url\"\"\"\n",
    "flipside = Flipside(api_key, \"https://api-v2.flipsidecrypto.xyz\")\n"
   ]
  },
  {
   "cell_type": "code",
   "execution_count": 5,
   "metadata": {},
   "outputs": [],
   "source": [
    "sql = \"\"\"WITH RECURSIVE date_series AS (\n",
    "  SELECT\n",
    "    '2024-02-01' :: DATE AS day\n",
    "  UNION\n",
    "  ALL\n",
    "  SELECT\n",
    "    day + INTERVAL '1 day'\n",
    "  FROM\n",
    "    date_series\n",
    "  WHERE\n",
    "    day < CURRENT_DATE\n",
    "),\n",
    "traders AS (\n",
    "  SELECT\n",
    "    ORIGIN_FROM_ADDRESS,\n",
    "    SUM(AMOUNT_OUT_USD) AS Volume\n",
    "  FROM\n",
    "    ethereum.defi.ez_dex_swaps\n",
    "  GROUP BY\n",
    "    ORIGIN_FROM_ADDRESS\n",
    "  HAVING\n",
    "    SUM(AMOUNT_OUT_USD) > 10000000\n",
    "    AND MIN(BLOCK_TIMESTAMP) >= '2024-02-01'\n",
    "    AND MIN(BLOCK_TIMESTAMP) < '2024-03-01'\n",
    "  ORDER BY\n",
    "    SUM(AMOUNT_OUT_USD) DESC\n",
    "  LIMIT\n",
    "    500\n",
    "),\n",
    "symbols AS (\n",
    "  SELECT\n",
    "    DISTINCT SYMBOL,\n",
    "    COALESCE(\n",
    "      CONTRACT_ADDRESS,\n",
    "      '0xC02aaA39b223FE8D0A0e5C4F27eAD9083C756Cc2'\n",
    "    ) AS token_contract\n",
    "  FROM\n",
    "    ethereum.core.ez_balance_deltas\n",
    "  WHERE\n",
    "    USER_ADDRESS IN (\n",
    "      SELECT DISTINCT ORIGIN_FROM_ADDRESS FROM traders\n",
    "    )\n",
    "    AND HAS_PRICE = TRUE\n",
    "),\n",
    "daily_balances AS (\n",
    "  SELECT\n",
    "    DATE_TRUNC('day', BLOCK_TIMESTAMP) AS day,\n",
    "    SYMBOL,\n",
    "    CURRENT_BAL AS daily_balance,\n",
    "    COALESCE(\n",
    "      CONTRACT_ADDRESS,\n",
    "      '0xC02aaA39b223FE8D0A0e5C4F27eAD9083C756Cc2'\n",
    "    ) AS token_contract,\n",
    "    BLOCK_TIMESTAMP,\n",
    "    USER_ADDRESS\n",
    "  FROM\n",
    "    ethereum.core.ez_balance_deltas\n",
    "  WHERE\n",
    "    USER_ADDRESS IN (\n",
    "      SELECT DISTINCT ORIGIN_FROM_ADDRESS FROM traders\n",
    "    )\n",
    "    AND HAS_PRICE = TRUE\n",
    "),\n",
    "ranked_balances AS (\n",
    "  SELECT\n",
    "    day,\n",
    "    SYMBOL,\n",
    "    daily_balance,\n",
    "    token_contract,\n",
    "    USER_ADDRESS,\n",
    "    ROW_NUMBER() OVER (\n",
    "      PARTITION BY token_contract, day\n",
    "      ORDER BY BLOCK_TIMESTAMP DESC\n",
    "    ) AS rn\n",
    "  FROM\n",
    "    daily_balances\n",
    "),\n",
    "filtered_balances AS (\n",
    "  SELECT\n",
    "    day,\n",
    "    SYMBOL,\n",
    "    daily_balance,\n",
    "    token_contract,\n",
    "    USER_ADDRESS\n",
    "  FROM\n",
    "    ranked_balances\n",
    "  WHERE\n",
    "    rn = 1\n",
    "),\n",
    "filled_balances AS (\n",
    "  SELECT\n",
    "    ds.day,\n",
    "    s.SYMBOL,\n",
    "    COALESCE(fb.daily_balance, 0) AS filled_balance,\n",
    "    fb.USER_ADDRESS,\n",
    "    CASE\n",
    "      WHEN s.SYMBOL = 'ETH' THEN LOWER('0xC02aaA39b223FE8D0A0e5C4F27eAD9083C756Cc2')\n",
    "      ELSE fb.token_contract\n",
    "    END AS token_contract\n",
    "  FROM\n",
    "    date_series ds\n",
    "    CROSS JOIN symbols s\n",
    "    LEFT JOIN filtered_balances fb ON fb.day <= ds.day\n",
    "    AND fb.SYMBOL = s.SYMBOL QUALIFY ROW_NUMBER() OVER (\n",
    "      PARTITION BY ds.day, s.SYMBOL\n",
    "      ORDER BY fb.day DESC\n",
    "    ) = 1\n",
    "),\n",
    "latest_prices AS (\n",
    "  SELECT\n",
    "    DATE_TRUNC('day', hour) AS day,\n",
    "    TOKEN_ADDRESS,\n",
    "    PERCENTILE_CONT(0.5) WITHIN GROUP (ORDER BY PRICE) AS price\n",
    "  FROM\n",
    "    ethereum.price.ez_prices_hourly\n",
    "  GROUP BY\n",
    "    DATE_TRUNC('day', hour), TOKEN_ADDRESS\n",
    "),\n",
    "balances_with_prices AS (\n",
    "  SELECT\n",
    "    fb.day,\n",
    "    fb.SYMBOL,\n",
    "    fb.filled_balance,\n",
    "    USER_ADDRESS,\n",
    "    lp.PRICE AS daily_price,\n",
    "    fb.filled_balance * lp.PRICE AS value_in_usd\n",
    "  FROM\n",
    "    filled_balances fb\n",
    "    LEFT JOIN latest_prices lp ON lp.TOKEN_ADDRESS = fb.token_contract\n",
    "    AND lp.day = fb.day\n",
    "),\n",
    "aggregated_by_day AS (\n",
    "  SELECT\n",
    "    day,\n",
    "    daily_price,\n",
    "    SYMBOL,\n",
    "    USER_ADDRESS,\n",
    "    SUM(filled_balance) AS total_filled_balance,\n",
    "    SUM(value_in_usd) AS total_value_in_usd\n",
    "  FROM\n",
    "    balances_with_prices\n",
    "  GROUP BY\n",
    "    day, SYMBOL, USER_ADDRESS, daily_price\n",
    "),\n",
    "aggregated_added AS (\n",
    "  SELECT\n",
    "    a.day,\n",
    "    a.SYMBOL,\n",
    "    a.daily_price,\n",
    "    a.total_filled_balance,\n",
    "    a.USER_ADDRESS,\n",
    "    a.total_value_in_usd,\n",
    "    SUM(a.total_value_in_usd) OVER (PARTITION BY a.day, a.USER_ADDRESS) AS total_usd_in_treasury\n",
    "  FROM\n",
    "    aggregated_by_day a\n",
    "  WHERE\n",
    "    a.day <= CURRENT_DATE - 1\n",
    "    AND a.daily_price > 0\n",
    "  ORDER BY\n",
    "    a.day DESC, a.SYMBOL\n",
    "),\n",
    "aggregated_added2 AS (\n",
    "  SELECT\n",
    "    *,\n",
    "    total_value_in_usd / NULLIF(total_usd_in_treasury, 0) AS composition\n",
    "  FROM\n",
    "    aggregated_added\n",
    "  ORDER BY\n",
    "    day DESC, SYMBOL, USER_ADDRESS\n",
    "),\n",
    "daily_returns AS (\n",
    "  SELECT\n",
    "    day,\n",
    "    SYMBOL,\n",
    "    daily_price,\n",
    "    composition,\n",
    "    total_filled_balance,\n",
    "    total_usd_in_treasury,\n",
    "    USER_ADDRESS,\n",
    "    LAG(daily_price) OVER (PARTITION BY SYMBOL ORDER BY day) AS prev_day_price,\n",
    "    (daily_price - LAG(daily_price) OVER (PARTITION BY SYMBOL ORDER BY day)) / LAG(daily_price) OVER (PARTITION BY SYMBOL ORDER BY day) AS daily_return\n",
    "  FROM\n",
    "    aggregated_added2\n",
    "),\n",
    "weighted_daily_returns AS (\n",
    "  SELECT\n",
    "    day,\n",
    "    USER_ADDRESS,\n",
    "    daily_return,\n",
    "    SUM(daily_return * composition) AS weighted_daily_return\n",
    "  FROM\n",
    "    daily_returns\n",
    "  GROUP BY\n",
    "    day, USER_ADDRESS, daily_return\n",
    "),\n",
    "cumulative_returns AS (\n",
    "  SELECT\n",
    "    day,\n",
    "    daily_return,\n",
    "    weighted_daily_return,\n",
    "    USER_ADDRESS,\n",
    "    (1 + weighted_daily_return) AS daily_factor,\n",
    "    EXP(SUM(LN(1 + weighted_daily_return)) OVER (PARTITION BY USER_ADDRESS ORDER BY day ASC)) - 1 AS cumulative_return\n",
    "  FROM\n",
    "    weighted_daily_returns\n",
    "),\n",
    "base_return AS (\n",
    "  SELECT\n",
    "    day,\n",
    "    USER_ADDRESS,\n",
    "    daily_return,\n",
    "    cumulative_return AS base_cumulative_return\n",
    "  FROM\n",
    "    cumulative_returns\n",
    "  WHERE\n",
    "    cumulative_return IS NOT NULL\n",
    "),\n",
    "normalized_returns AS (\n",
    "  SELECT\n",
    "    day,\n",
    "    USER_ADDRESS,\n",
    "    daily_return,\n",
    "    base_cumulative_return,\n",
    "    100 + (100 * (base_cumulative_return - FIRST_VALUE(base_cumulative_return) OVER (PARTITION BY USER_ADDRESS ORDER BY day ASC))) AS portfolio_return\n",
    "  FROM\n",
    "    base_return\n",
    "),\n",
    "return_stats AS (\n",
    "  SELECT\n",
    "    day,\n",
    "    USER_ADDRESS,\n",
    "    base_cumulative_return,\n",
    "    portfolio_return,\n",
    "    AVG(portfolio_return) OVER (PARTITION BY USER_ADDRESS ORDER BY day ASC) AS avg_daily_return,\n",
    "    STDDEV(portfolio_return) OVER (PARTITION BY USER_ADDRESS ORDER BY day ASC) AS stddev_return\n",
    "  FROM\n",
    "    normalized_returns\n",
    "),\n",
    "sharpe_ratio AS (\n",
    "  SELECT\n",
    "    day,\n",
    "    USER_ADDRESS,\n",
    "    base_cumulative_return,\n",
    "    portfolio_return,\n",
    "    NULLIF((portfolio_return - 0.0430 / 365) / NULLIF(STDDEV(portfolio_return) OVER (PARTITION BY USER_ADDRESS ORDER BY day ASC), 0), 0) AS daily_sharpe_ratio\n",
    "  FROM\n",
    "    return_stats\n",
    "),\n",
    "trade_counts AS (\n",
    "  SELECT\n",
    "    DATE_TRUNC('day', BLOCK_TIMESTAMP) AS day,\n",
    "    ORIGIN_FROM_ADDRESS AS USER_ADDRESS,\n",
    "    COUNT(DISTINCT tx_hash) AS number_of_trades\n",
    "  FROM\n",
    "    ethereum.defi.ez_dex_swaps\n",
    "  GROUP BY\n",
    "    day, ORIGIN_FROM_ADDRESS\n",
    "),\n",
    "\n",
    "tokens_traded AS (\n",
    "  SELECT\n",
    "    DATE_TRUNC('day', BLOCK_TIMESTAMP) AS day,\n",
    "    ORIGIN_FROM_ADDRESS AS USER_ADDRESS,\n",
    "    COUNT(DISTINCT SYMBOL_OUT) AS unique_tokens_traded\n",
    "  FROM\n",
    "    ethereum.defi.ez_dex_swaps\n",
    "  GROUP BY\n",
    "    day, ORIGIN_FROM_ADDRESS\n",
    "),\n",
    "\n",
    "final_normalized_returns AS (\n",
    "  SELECT\n",
    "    sr.day,\n",
    "    sr.USER_ADDRESS,\n",
    "    sr.base_cumulative_return,\n",
    "    sr.portfolio_return,\n",
    "    sr.daily_sharpe_ratio,\n",
    "    CASE\n",
    "      WHEN AVG(sr.portfolio_return) > 120 AND sr.daily_sharpe_ratio > 1.5 THEN 'Good Trader'\n",
    "      WHEN AVG(sr.portfolio_return) BETWEEN 100 AND 120 THEN 'Average Trader'\n",
    "      WHEN AVG(sr.portfolio_return) < 100 THEN 'Bad Trader'\n",
    "    END AS trader_class\n",
    "  FROM\n",
    "    sharpe_ratio sr\n",
    "  WHERE\n",
    "    sr.daily_sharpe_ratio IS NOT NULL\n",
    "  GROUP BY\n",
    "    sr.day, sr.USER_ADDRESS, sr.base_cumulative_return, sr.portfolio_return, sr.daily_sharpe_ratio\n",
    ")\n",
    "\n",
    "SELECT\n",
    "  fnr.day,\n",
    "  fnr.USER_ADDRESS,\n",
    "  fnr.base_cumulative_return,\n",
    "  fnr.portfolio_return,\n",
    "  fnr.daily_sharpe_ratio,\n",
    "  fnr.trader_class,\n",
    "  tc.number_of_trades,\n",
    "  tt.unique_tokens_traded\n",
    "FROM\n",
    "  final_normalized_returns fnr\n",
    "  LEFT JOIN trade_counts tc ON tc.day = fnr.day AND tc.USER_ADDRESS = fnr.USER_ADDRESS\n",
    "  LEFT JOIN tokens_traded tt ON tt.day = fnr.day AND tt.USER_ADDRESS = fnr.USER_ADDRESS;\n",
    "\"\"\"\n",
    "\"\"\"Run the query against Flipside's query engine and await the results\"\"\"\n",
    "query_result_set = flipside.query(sql)\n",
    "#print(query_result_set)"
   ]
  },
  {
   "cell_type": "code",
   "execution_count": 6,
   "metadata": {},
   "outputs": [],
   "source": [
    "\"\"\"This function will be added to Flipside package after testing, just copy/paste as needed for now\"\"\"\n",
    "def auto_paginate_result(query_result_set, page_size=10000):\n",
    "    \"\"\"\n",
    "    This function auto-paginates a query result to get all the data. It assumes 10,000 rows per page.\n",
    "    In case of an error, reduce the page size. Uses numpy.\n",
    "    \"\"\"\n",
    "    num_rows = query_result_set.page.totalRows\n",
    "    page_count = np.ceil(num_rows / page_size).astype(int)\n",
    "    all_rows = []\n",
    "    current_page = 1\n",
    "    while current_page <= page_count:\n",
    "        results = flipside.get_query_results(\n",
    "            query_result_set.query_id,\n",
    "            page_number=current_page,\n",
    "            page_size=page_size\n",
    "        )\n",
    "        if results.records:\n",
    "            all_rows.extend(results.records)  # Use extend() to add list elements\n",
    "        current_page += 1  # Increment the current page number\n",
    "    return all_rows  # Return all_rows in JSON format\n"
   ]
  },
  {
   "cell_type": "code",
   "execution_count": 108,
   "metadata": {},
   "outputs": [
    {
     "name": "stdout",
     "output_type": "stream",
     "text": [
      "                        day                                user_address  base_cumulative_return  portfolio_return  daily_sharpe_ratio    trader_class  number_of_trades  unique_tokens_traded  __row_index\n",
      "0  2024-07-14T00:00:00.000Z  0x6e2c509d522d47f509e1a6d75682e6abbc38b362                0.957373        193.389418            8.466244     Good Trader               NaN                   NaN            0\n",
      "1  2024-08-01T00:00:00.000Z  0x4ef861298b42ce7d505c799eced534c5f86779ad                0.166169        110.445866            8.536710  Average Trader               NaN                   NaN            1\n",
      "2  2024-09-14T00:00:00.000Z  0x2eb6ffcfc1591349a1983aad3e80d8fb3cec1df2               20.043680       2109.058463            0.041440            None              11.0                   2.0            2\n",
      "3  2024-03-17T00:00:00.000Z  0xb7dab94552302bcdff309e541d51ad203cbd7042                0.111260        109.056710           49.846151  Average Trader              23.0                   5.0            3\n",
      "4  2024-11-10T00:00:00.000Z  0x4d16c0ed54b2e548b134b0b2361e83fc6310f14a                0.817693        168.897155            5.283406     Good Trader               NaN                   NaN            4\n"
     ]
    }
   ],
   "source": [
    "\"\"\" Get your data as a pandas data frame\"\"\"\n",
    "\n",
    "trader_classifier = auto_paginate_result(query_result_set)\n",
    "df = pd.DataFrame(trader_classifier)\n",
    "\n",
    "# Set the display option to show all columns\n",
    "# pd.set_option('display.max_columns', None)\n",
    "# pd.set_option('display.width', 1000)  # Adjusts the display width for better visibility\n",
    "\n",
    "#Display Dataframe\n",
    "print(df.head())"
   ]
  },
  {
   "cell_type": "code",
   "execution_count": 109,
   "metadata": {},
   "outputs": [
    {
     "name": "stdout",
     "output_type": "stream",
     "text": [
      "                        day                                user_address  base_cumulative_return  portfolio_return  daily_sharpe_ratio    trader_class  number_of_trades  unique_tokens_traded\n",
      "0  2024-07-14T00:00:00.000Z  0x6e2c509d522d47f509e1a6d75682e6abbc38b362                0.957373        193.389418            8.466244     Good Trader               NaN                   NaN\n",
      "1  2024-08-01T00:00:00.000Z  0x4ef861298b42ce7d505c799eced534c5f86779ad                0.166169        110.445866            8.536710  Average Trader               NaN                   NaN\n",
      "2  2024-09-14T00:00:00.000Z  0x2eb6ffcfc1591349a1983aad3e80d8fb3cec1df2               20.043680       2109.058463            0.041440            None              11.0                   2.0\n",
      "3  2024-03-17T00:00:00.000Z  0xb7dab94552302bcdff309e541d51ad203cbd7042                0.111260        109.056710           49.846151  Average Trader              23.0                   5.0\n",
      "4  2024-11-10T00:00:00.000Z  0x4d16c0ed54b2e548b134b0b2361e83fc6310f14a                0.817693        168.897155            5.283406     Good Trader               NaN                   NaN\n"
     ]
    }
   ],
   "source": [
    "#Drop the \"__row_index\" column\n",
    "df_t = df.drop(columns = ['__row_index'])\n",
    "\n",
    "#Remove later\n",
    "print(df_t.head())"
   ]
  },
  {
   "cell_type": "code",
   "execution_count": 87,
   "metadata": {},
   "outputs": [
    {
     "name": "stdout",
     "output_type": "stream",
     "text": [
      "          day                                user_address  base_cumulative_return  portfolio_return  daily_sharpe_ratio trader_class  number_of_trades  unique_tokens_traded\n",
      "0  2024-08-25  0xadb4baa4bf3a1c176c4399402395403632b036a3            38074.278177      3.807529e+06            2.052683  Good Trader               NaN                   NaN\n",
      "1  2024-05-10  0x6e2c509d522d47f509e1a6d75682e6abbc38b362                0.780245      1.756767e+02            9.102561  Good Trader               1.0                   2.0\n",
      "2  2024-02-22  0x3f8cff57fb4592a0ba46c66d2239486b8690842e               -0.095655      8.587805e+01           12.691943   Bad Trader               3.0                   3.0\n",
      "3  2024-06-13  0x518ded2f413f275d720b199ad9d03a262e35d3b3               -0.520177      4.907032e+01            2.252786   Bad Trader               NaN                   NaN\n",
      "4  2024-03-18  0x725ef823a0c7ea654561e13796a9d81a9aa8398a                0.005050      8.613312e+01            2.370263   Bad Trader               3.0                   3.0\n"
     ]
    }
   ],
   "source": [
    "# Convert 'day' column to datetime format and remove time component \n",
    "df_t['day'] = pd.to_datetime(df_t['day'], errors='coerce').dt.date\n",
    "#Remove later\n",
    "print(df_t.head())"
   ]
  },
  {
   "cell_type": "code",
   "execution_count": 88,
   "metadata": {},
   "outputs": [
    {
     "name": "stdout",
     "output_type": "stream",
     "text": [
      "              day                                user_address  base_cumulative_return  portfolio_return  daily_sharpe_ratio trader_class  number_of_trades  unique_tokens_traded\n",
      "0      2024-08-25  0xadb4baa4bf3a1c176c4399402395403632b036a3            3.807428e+04      3.807529e+06            2.052683  Good Trader               NaN                   NaN\n",
      "9      2024-07-01  0xfb94d3404c1d3d9d6f08f79e58041d5ea95accfa            2.247147e+00      3.250688e+02            4.866034  Good Trader               NaN                   NaN\n",
      "15     2024-05-15  0x9c03bf3a8df813938becbdc42c8156f8964cdf46            4.937530e+01      5.037485e+03            2.806068  Good Trader               NaN                   NaN\n",
      "16     2024-08-14  0x6f5884a6ba14297eab47aa52c4e739f0a11ff7c1            1.503903e+07      1.503903e+09            1.486914         None               NaN                   NaN\n",
      "18     2024-06-20  0x1518c211f611114decd1842894e08b803afcd27b            7.978986e+00      8.749185e+02            1.395284         None               NaN                   NaN\n",
      "...           ...                                         ...                     ...               ...                 ...          ...               ...                   ...\n",
      "17799  2024-05-23  0x743b6a564dc23912cc6d67e78db6e07e66bd3515            3.327080e+00      4.142747e+02            6.720511  Good Trader               NaN                   NaN\n",
      "17801  2024-10-26  0xda487009336ccc1fbe426435ee189735b5f4dd9a            5.098480e+00      6.080281e+02            3.302129  Good Trader               NaN                   NaN\n",
      "17807  2024-08-27  0x74930f9ac77dea77a2c16b0b1963faef29aaec21            4.947169e+01      5.043516e+03            2.328887  Good Trader               3.0                   4.0\n",
      "17816  2024-08-15  0xd0640fcb1ef5ac385b57701c5ef7030331c8d80b            6.582668e+01      6.675792e+03            7.095436  Good Trader               3.0                   2.0\n",
      "17818  2024-04-22  0xfb94d3404c1d3d9d6f08f79e58041d5ea95accfa            1.951738e+00      2.955280e+02            3.809334  Good Trader               NaN                   NaN\n",
      "\n",
      "[3349 rows x 8 columns]\n"
     ]
    }
   ],
   "source": [
    "# Define a function to detect outliers based on IQR\n",
    "def find_outliers_iqr(df_t, column):\n",
    "    Q1 = df_t[column].quantile(0.25)\n",
    "    Q3 = df_t[column].quantile(0.75)\n",
    "    IQR = Q3 - Q1\n",
    "    lower_bound = Q1 - 1.5 * IQR\n",
    "    upper_bound = Q3 + 1.5 * IQR\n",
    "    return df_t[(df_t[column] < lower_bound) | (df_t[column] > upper_bound)]\n",
    "\n",
    "#Find outliers for 'portfolio_return'\n",
    "outliers = find_outliers_iqr(df_t, 'portfolio_return')\n",
    "print(outliers)\n"
   ]
  },
  {
   "cell_type": "code",
   "execution_count": 89,
   "metadata": {},
   "outputs": [
    {
     "name": "stdout",
     "output_type": "stream",
     "text": [
      "              day                                user_address  base_cumulative_return  portfolio_return  daily_sharpe_ratio    trader_class  number_of_trades  unique_tokens_traded\n",
      "1      2024-05-10  0x6e2c509d522d47f509e1a6d75682e6abbc38b362                0.780245        175.676668            9.102561     Good Trader               1.0                   2.0\n",
      "2      2024-02-22  0x3f8cff57fb4592a0ba46c66d2239486b8690842e               -0.095655         85.878050           12.691943      Bad Trader               3.0                   3.0\n",
      "3      2024-06-13  0x518ded2f413f275d720b199ad9d03a262e35d3b3               -0.520177         49.070325            2.252786      Bad Trader               NaN                   NaN\n",
      "4      2024-03-18  0x725ef823a0c7ea654561e13796a9d81a9aa8398a                0.005050         86.133115            2.370263      Bad Trader               3.0                   3.0\n",
      "5      2024-06-16  0x725ef823a0c7ea654561e13796a9d81a9aa8398a               -0.524878         33.140320            0.786522      Bad Trader               NaN                   NaN\n",
      "...           ...                                         ...                     ...               ...                 ...             ...               ...                   ...\n",
      "17813  2024-10-20  0xf7ca1f0ff0995c84fef530f7c74c69fb80331e81                0.081473        107.019807           21.124951  Average Trader               2.0                   1.0\n",
      "17814  2024-08-15  0x4cd3008b2e96d3028fcbb64c79bf19e242ee17d4               -0.063328         93.667228            4.782262      Bad Trader               NaN                   NaN\n",
      "17815  2024-10-01  0x4d16c0ed54b2e548b134b0b2361e83fc6310f14a                1.226889        209.816781            5.994527     Good Trader               NaN                   NaN\n",
      "17817  2024-02-16  0xcf6dabb7d6f87028930ff4d569d80b458c4ea214                0.064084        103.023517           65.463404  Average Trader               NaN                   NaN\n",
      "17819  2024-07-09  0x9ec7868ebae98a73cb65711f6fc941436187a3c9               -0.049907         91.161675           16.663129      Bad Trader               NaN                   NaN\n",
      "\n",
      "[14471 rows x 8 columns]\n"
     ]
    }
   ],
   "source": [
    "# Remove outliers from 'portfolio_return' column based on IQR method\n",
    "def remove_outliers_iqr(df_t, column):\n",
    "    Q1 = df_t[column].quantile(0.25)\n",
    "    Q3 = df_t[column].quantile(0.75)\n",
    "    IQR = Q3 - Q1\n",
    "    lower_bound = Q1 - 1.5 * IQR\n",
    "    upper_bound = Q3 + 1.5 * IQR\n",
    "    return df_t[(df_t[column] >= lower_bound) & (df_t[column] <= upper_bound)]\n",
    "\n",
    "# Apply the function to remove outliers from the 'portfolio_return' column\n",
    "df_clean = remove_outliers_iqr(df_t, 'portfolio_return')\n",
    "\n",
    "# Verify the result\n",
    "print(df_clean)\n"
   ]
  },
  {
   "cell_type": "code",
   "execution_count": 90,
   "metadata": {},
   "outputs": [
    {
     "name": "stdout",
     "output_type": "stream",
     "text": [
      "day                           0\n",
      "user_address                  0\n",
      "base_cumulative_return        0\n",
      "portfolio_return              0\n",
      "daily_sharpe_ratio            0\n",
      "trader_class                  8\n",
      "number_of_trades          10660\n",
      "unique_tokens_traded      10660\n",
      "dtype: int64\n"
     ]
    }
   ],
   "source": [
    "# Check for NaN values in the entire DataFrame\n",
    "print(df_clean.isna().sum())"
   ]
  },
  {
   "cell_type": "code",
   "execution_count": 91,
   "metadata": {},
   "outputs": [
    {
     "name": "stdout",
     "output_type": "stream",
     "text": [
      "day                           0\n",
      "user_address                  0\n",
      "base_cumulative_return        0\n",
      "portfolio_return              0\n",
      "daily_sharpe_ratio            0\n",
      "trader_class                  0\n",
      "number_of_trades          10653\n",
      "unique_tokens_traded      10653\n",
      "dtype: int64\n"
     ]
    }
   ],
   "source": [
    "#drop rows in trader_class column with NaN values\n",
    "df_cleann = df_clean.dropna(subset=['trader_class'])\n",
    "print(df_cleann.isna().sum())"
   ]
  },
  {
   "cell_type": "code",
   "execution_count": 92,
   "metadata": {},
   "outputs": [
    {
     "name": "stdout",
     "output_type": "stream",
     "text": [
      "day                       0\n",
      "user_address              0\n",
      "base_cumulative_return    0\n",
      "portfolio_return          0\n",
      "daily_sharpe_ratio        0\n",
      "trader_class              0\n",
      "number_of_trades          0\n",
      "unique_tokens_traded      0\n",
      "dtype: int64\n"
     ]
    }
   ],
   "source": [
    "#Fill NaN with 0\n",
    "df_cleaned = df_cleann.fillna(0)\n",
    "print(df_cleaned.isna().sum())"
   ]
  },
  {
   "cell_type": "code",
   "execution_count": 93,
   "metadata": {},
   "outputs": [
    {
     "data": {
      "text/plain": [
       "day                        object\n",
       "user_address               object\n",
       "base_cumulative_return    float64\n",
       "portfolio_return          float64\n",
       "daily_sharpe_ratio        float64\n",
       "trader_class               object\n",
       "number_of_trades          float64\n",
       "unique_tokens_traded      float64\n",
       "dtype: object"
      ]
     },
     "execution_count": 93,
     "metadata": {},
     "output_type": "execute_result"
    }
   ],
   "source": [
    "df_cleaned.dtypes"
   ]
  },
  {
   "cell_type": "code",
   "execution_count": 95,
   "metadata": {},
   "outputs": [],
   "source": [
    "#convert day to datetime\n",
    "df_cleaned['day'] = pd.to_datetime(df_cleaned['day'])"
   ]
  },
  {
   "cell_type": "code",
   "execution_count": 96,
   "metadata": {},
   "outputs": [
    {
     "data": {
      "text/plain": [
       "day                       datetime64[ns]\n",
       "user_address                      object\n",
       "base_cumulative_return           float64\n",
       "portfolio_return                 float64\n",
       "daily_sharpe_ratio               float64\n",
       "trader_class                      object\n",
       "number_of_trades                 float64\n",
       "unique_tokens_traded             float64\n",
       "dtype: object"
      ]
     },
     "execution_count": 96,
     "metadata": {},
     "output_type": "execute_result"
    }
   ],
   "source": [
    "df_cleaned.dtypes"
   ]
  },
  {
   "cell_type": "code",
   "execution_count": 97,
   "metadata": {},
   "outputs": [
    {
     "data": {
      "text/plain": [
       "1    Good Trader\n",
       "2     Bad Trader\n",
       "3     Bad Trader\n",
       "4     Bad Trader\n",
       "5     Bad Trader\n",
       "Name: trader_class, dtype: object"
      ]
     },
     "execution_count": 97,
     "metadata": {},
     "output_type": "execute_result"
    }
   ],
   "source": [
    "df_cleaned.trader_class.head()"
   ]
  },
  {
   "cell_type": "code",
   "execution_count": 101,
   "metadata": {},
   "outputs": [
    {
     "data": {
      "text/plain": [
       "Index(['Average Trader', 'Bad Trader', 'Good Trader'], dtype='object')"
      ]
     },
     "execution_count": 101,
     "metadata": {},
     "output_type": "execute_result"
    }
   ],
   "source": [
    "# Convert 'trader_class' to a categorical column\n",
    "df_cleaned[\"trader_class\"] = df_cleaned[\"trader_class\"].astype('category')\n",
    "df_cleaned[\"trader_class\"].cat.categories"
   ]
  },
  {
   "cell_type": "code",
   "execution_count": 102,
   "metadata": {},
   "outputs": [
    {
     "data": {
      "text/plain": [
       "day                       datetime64[ns]\n",
       "user_address                      object\n",
       "base_cumulative_return           float64\n",
       "portfolio_return                 float64\n",
       "daily_sharpe_ratio               float64\n",
       "trader_class                    category\n",
       "number_of_trades                 float64\n",
       "unique_tokens_traded             float64\n",
       "dtype: object"
      ]
     },
     "execution_count": 102,
     "metadata": {},
     "output_type": "execute_result"
    }
   ],
   "source": [
    "df_cleaned.dtypes"
   ]
  },
  {
   "cell_type": "code",
   "execution_count": 107,
   "metadata": {},
   "outputs": [
    {
     "data": {
      "text/plain": [
       "1        2\n",
       "2        1\n",
       "3        1\n",
       "4        1\n",
       "5        1\n",
       "        ..\n",
       "17813    0\n",
       "17814    1\n",
       "17815    2\n",
       "17817    0\n",
       "17819    1\n",
       "Name: trader_class_numeric, Length: 14463, dtype: int8"
      ]
     },
     "execution_count": 107,
     "metadata": {},
     "output_type": "execute_result"
    }
   ],
   "source": [
    "# Assign unique integers to categories\n",
    "df_cleaned['trader_class_numeric'] = df_cleaned['trader_class'].astype('category').cat.codes\n",
    "df_cleaned['trader_class_numeric']"
   ]
  },
  {
   "cell_type": "code",
   "execution_count": 106,
   "metadata": {},
   "outputs": [
    {
     "data": {
      "text/html": [
       "<div>\n",
       "<style scoped>\n",
       "    .dataframe tbody tr th:only-of-type {\n",
       "        vertical-align: middle;\n",
       "    }\n",
       "\n",
       "    .dataframe tbody tr th {\n",
       "        vertical-align: top;\n",
       "    }\n",
       "\n",
       "    .dataframe thead th {\n",
       "        text-align: right;\n",
       "    }\n",
       "</style>\n",
       "<table border=\"1\" class=\"dataframe\">\n",
       "  <thead>\n",
       "    <tr style=\"text-align: right;\">\n",
       "      <th></th>\n",
       "      <th>day</th>\n",
       "      <th>user_address</th>\n",
       "      <th>base_cumulative_return</th>\n",
       "      <th>portfolio_return</th>\n",
       "      <th>daily_sharpe_ratio</th>\n",
       "      <th>trader_class</th>\n",
       "      <th>number_of_trades</th>\n",
       "      <th>unique_tokens_traded</th>\n",
       "      <th>trader_class_numeric</th>\n",
       "    </tr>\n",
       "  </thead>\n",
       "  <tbody>\n",
       "    <tr>\n",
       "      <th>1</th>\n",
       "      <td>2024-05-10</td>\n",
       "      <td>0x6e2c509d522d47f509e1a6d75682e6abbc38b362</td>\n",
       "      <td>0.780245</td>\n",
       "      <td>175.676668</td>\n",
       "      <td>9.102561</td>\n",
       "      <td>Good Trader</td>\n",
       "      <td>1.0</td>\n",
       "      <td>2.0</td>\n",
       "      <td>2</td>\n",
       "    </tr>\n",
       "    <tr>\n",
       "      <th>2</th>\n",
       "      <td>2024-02-22</td>\n",
       "      <td>0x3f8cff57fb4592a0ba46c66d2239486b8690842e</td>\n",
       "      <td>-0.095655</td>\n",
       "      <td>85.878050</td>\n",
       "      <td>12.691943</td>\n",
       "      <td>Bad Trader</td>\n",
       "      <td>3.0</td>\n",
       "      <td>3.0</td>\n",
       "      <td>1</td>\n",
       "    </tr>\n",
       "    <tr>\n",
       "      <th>3</th>\n",
       "      <td>2024-06-13</td>\n",
       "      <td>0x518ded2f413f275d720b199ad9d03a262e35d3b3</td>\n",
       "      <td>-0.520177</td>\n",
       "      <td>49.070325</td>\n",
       "      <td>2.252786</td>\n",
       "      <td>Bad Trader</td>\n",
       "      <td>0.0</td>\n",
       "      <td>0.0</td>\n",
       "      <td>1</td>\n",
       "    </tr>\n",
       "    <tr>\n",
       "      <th>4</th>\n",
       "      <td>2024-03-18</td>\n",
       "      <td>0x725ef823a0c7ea654561e13796a9d81a9aa8398a</td>\n",
       "      <td>0.005050</td>\n",
       "      <td>86.133115</td>\n",
       "      <td>2.370263</td>\n",
       "      <td>Bad Trader</td>\n",
       "      <td>3.0</td>\n",
       "      <td>3.0</td>\n",
       "      <td>1</td>\n",
       "    </tr>\n",
       "    <tr>\n",
       "      <th>5</th>\n",
       "      <td>2024-06-16</td>\n",
       "      <td>0x725ef823a0c7ea654561e13796a9d81a9aa8398a</td>\n",
       "      <td>-0.524878</td>\n",
       "      <td>33.140320</td>\n",
       "      <td>0.786522</td>\n",
       "      <td>Bad Trader</td>\n",
       "      <td>0.0</td>\n",
       "      <td>0.0</td>\n",
       "      <td>1</td>\n",
       "    </tr>\n",
       "  </tbody>\n",
       "</table>\n",
       "</div>"
      ],
      "text/plain": [
       "         day                                user_address  base_cumulative_return  portfolio_return  daily_sharpe_ratio trader_class  number_of_trades  unique_tokens_traded  trader_class_numeric\n",
       "1 2024-05-10  0x6e2c509d522d47f509e1a6d75682e6abbc38b362                0.780245        175.676668            9.102561  Good Trader               1.0                   2.0                     2\n",
       "2 2024-02-22  0x3f8cff57fb4592a0ba46c66d2239486b8690842e               -0.095655         85.878050           12.691943   Bad Trader               3.0                   3.0                     1\n",
       "3 2024-06-13  0x518ded2f413f275d720b199ad9d03a262e35d3b3               -0.520177         49.070325            2.252786   Bad Trader               0.0                   0.0                     1\n",
       "4 2024-03-18  0x725ef823a0c7ea654561e13796a9d81a9aa8398a                0.005050         86.133115            2.370263   Bad Trader               3.0                   3.0                     1\n",
       "5 2024-06-16  0x725ef823a0c7ea654561e13796a9d81a9aa8398a               -0.524878         33.140320            0.786522   Bad Trader               0.0                   0.0                     1"
      ]
     },
     "execution_count": 106,
     "metadata": {},
     "output_type": "execute_result"
    }
   ],
   "source": [
    "df_cleaned.head()"
   ]
  },
  {
   "cell_type": "code",
   "execution_count": 112,
   "metadata": {},
   "outputs": [
    {
     "data": {
      "text/plain": [
       "Index(['day', 'user_address', 'base_cumulative_return', 'portfolio_return', 'daily_sharpe_ratio', 'trader_class', 'number_of_trades', 'unique_tokens_traded', 'trader_class_numeric'], dtype='object')"
      ]
     },
     "execution_count": 112,
     "metadata": {},
     "output_type": "execute_result"
    }
   ],
   "source": [
    "df_cleaned.columns"
   ]
  },
  {
   "cell_type": "markdown",
   "metadata": {},
   "source": [
    "# Correlation Coefficient Analysis"
   ]
  },
  {
   "cell_type": "code",
   "execution_count": 113,
   "metadata": {},
   "outputs": [
    {
     "name": "stdout",
     "output_type": "stream",
     "text": [
      "trader_class_numeric      1.000000\n",
      "portfolio_return          0.272043\n",
      "base_cumulative_return    0.239497\n",
      "number_of_trades         -0.018736\n",
      "unique_tokens_traded     -0.019486\n",
      "daily_sharpe_ratio       -0.056837\n",
      "Name: trader_class_numeric, dtype: float64\n"
     ]
    }
   ],
   "source": [
    "# Correlation Coefficient Analysis\n",
    "\n",
    "df_cor = df_cleaned.corr(numeric_only=True)\n",
    "print(df_cor['trader_class_numeric'].sort_values(ascending=False))\n",
    "\n"
   ]
  },
  {
   "cell_type": "code",
   "execution_count": 116,
   "metadata": {},
   "outputs": [
    {
     "data": {
      "image/png": "[encoded data removed]",
      "text/plain": [
       "<Figure size 1000x600 with 2 Axes>"
      ]
     },
     "metadata": {},
     "output_type": "display_data"
    }
   ],
   "source": [
    "import seaborn as sns \n",
    "\n",
    "# Heatmap\n",
    "plt.figure(figsize=(10, 6))\n",
    "sns.heatmap(df_cor, annot=True, cmap='coolwarm', fmt=\".2f\")\n",
    "plt.title('Correlation Heatmap')\n",
    "plt.show()\n"
   ]
  },
  {
   "cell_type": "markdown",
   "metadata": {},
   "source": [
    "# Classifier Model"
   ]
  },
  {
   "cell_type": "code",
   "execution_count": 133,
   "metadata": {},
   "outputs": [
    {
     "data": {
      "text/plain": [
       "day                       datetime64[ns]\n",
       "user_address                      object\n",
       "base_cumulative_return           float64\n",
       "portfolio_return                 float64\n",
       "daily_sharpe_ratio               float64\n",
       "trader_class                    category\n",
       "number_of_trades                 float64\n",
       "unique_tokens_traded             float64\n",
       "trader_class_numeric                int8\n",
       "dtype: object"
      ]
     },
     "execution_count": 133,
     "metadata": {},
     "output_type": "execute_result"
    }
   ],
   "source": [
    "df_cleaned.dtypes"
   ]
  },
  {
   "cell_type": "code",
   "execution_count": 138,
   "metadata": {},
   "outputs": [],
   "source": [
    "numeric = df_cleaned.select_dtypes(include=['number'])\n",
    "#numeric"
   ]
  },
  {
   "cell_type": "code",
   "execution_count": 139,
   "metadata": {},
   "outputs": [],
   "source": [
    "features = ['base_cumulative_return', 'portfolio_return', \n",
    "            'daily_sharpe_ratio', 'number_of_trades', 'unique_tokens_traded']"
   ]
  },
  {
   "cell_type": "code",
   "execution_count": 140,
   "metadata": {},
   "outputs": [],
   "source": [
    "target = 'trader_class_numeric'"
   ]
  },
  {
   "cell_type": "code",
   "execution_count": 141,
   "metadata": {},
   "outputs": [
    {
     "data": {
      "text/plain": [
       "count    14463.000000\n",
       "mean        94.867864\n",
       "std         39.654302\n",
       "min         -2.588934\n",
       "25%         74.347074\n",
       "50%         99.911828\n",
       "75%        114.287847\n",
       "max        235.400729\n",
       "Name: portfolio_return, dtype: float64"
      ]
     },
     "execution_count": 141,
     "metadata": {},
     "output_type": "execute_result"
    }
   ],
   "source": [
    "df_cleaned['portfolio_return'].describe()"
   ]
  },
  {
   "cell_type": "code",
   "execution_count": 173,
   "metadata": {},
   "outputs": [],
   "source": [
    "import random\n",
    "import os\n",
    "from sklearn.model_selection import train_test_split\n",
    "from sklearn.preprocessing import StandardScaler\n",
    "from sklearn.linear_model import LogisticRegression\n",
    "from sklearn.metrics import classification_report, confusion_matrix, accuracy_score\n",
    "from sklearn.metrics import roc_curve, roc_auc_score\n"
   ]
  },
  {
   "cell_type": "code",
   "execution_count": 148,
   "metadata": {},
   "outputs": [],
   "source": [
    "#Data Processing\n",
    "#Separating the features from the target variable.\n",
    "\n",
    "X = df_cleaned[features]\n",
    "y = df_cleaned[target]"
   ]
  },
  {
   "cell_type": "code",
   "execution_count": 149,
   "metadata": {},
   "outputs": [],
   "source": [
    "#Normalize the Features\n",
    "scaler = StandardScaler()\n",
    "X_scaled = scaler.fit_transform(X)"
   ]
  },
  {
   "cell_type": "markdown",
   "metadata": {},
   "source": [
    "### Split the data"
   ]
  },
  {
   "cell_type": "code",
   "execution_count": 150,
   "metadata": {},
   "outputs": [],
   "source": [
    "#Split the data into training and testing sets.\n",
    "X_train, X_test, y_train, y_test = train_test_split(X_scaled, y, test_size=0.2, random_state=42)\n",
    "\n"
   ]
  },
  {
   "cell_type": "markdown",
   "metadata": {},
   "source": [
    "# Train the Logistic Regression Model"
   ]
  },
  {
   "cell_type": "code",
   "execution_count": 151,
   "metadata": {},
   "outputs": [
    {
     "data": {
      "text/html": [
       "<style>#sk-container-id-1 {\n",
       "  /* Definition of color scheme common for light and dark mode */\n",
       "  --sklearn-color-text: black;\n",
       "  --sklearn-color-line: gray;\n",
       "  /* Definition of color scheme for unfitted estimators */\n",
       "  --sklearn-color-unfitted-level-0: #fff5e6;\n",
       "  --sklearn-color-unfitted-level-1: #f6e4d2;\n",
       "  --sklearn-color-unfitted-level-2: #ffe0b3;\n",
       "  --sklearn-color-unfitted-level-3: chocolate;\n",
       "  /* Definition of color scheme for fitted estimators */\n",
       "  --sklearn-color-fitted-level-0: #f0f8ff;\n",
       "  --sklearn-color-fitted-level-1: #d4ebff;\n",
       "  --sklearn-color-fitted-level-2: #b3dbfd;\n",
       "  --sklearn-color-fitted-level-3: cornflowerblue;\n",
       "\n",
       "  /* Specific color for light theme */\n",
       "  --sklearn-color-text-on-default-background: var(--sg-text-color, var(--theme-code-foreground, var(--jp-content-font-color1, black)));\n",
       "  --sklearn-color-background: var(--sg-background-color, var(--theme-background, var(--jp-layout-color0, white)));\n",
       "  --sklearn-color-border-box: var(--sg-text-color, var(--theme-code-foreground, var(--jp-content-font-color1, black)));\n",
       "  --sklearn-color-icon: #696969;\n",
       "\n",
       "  @media (prefers-color-scheme: dark) {\n",
       "    /* Redefinition of color scheme for dark theme */\n",
       "    --sklearn-color-text-on-default-background: var(--sg-text-color, var(--theme-code-foreground, var(--jp-content-font-color1, white)));\n",
       "    --sklearn-color-background: var(--sg-background-color, var(--theme-background, var(--jp-layout-color0, #111)));\n",
       "    --sklearn-color-border-box: var(--sg-text-color, var(--theme-code-foreground, var(--jp-content-font-color1, white)));\n",
       "    --sklearn-color-icon: #878787;\n",
       "  }\n",
       "}\n",
       "\n",
       "#sk-container-id-1 {\n",
       "  color: var(--sklearn-color-text);\n",
       "}\n",
       "\n",
       "#sk-container-id-1 pre {\n",
       "  padding: 0;\n",
       "}\n",
       "\n",
       "#sk-container-id-1 input.sk-hidden--visually {\n",
       "  border: 0;\n",
       "  clip: rect(1px 1px 1px 1px);\n",
       "  clip: rect(1px, 1px, 1px, 1px);\n",
       "  height: 1px;\n",
       "  margin: -1px;\n",
       "  overflow: hidden;\n",
       "  padding: 0;\n",
       "  position: absolute;\n",
       "  width: 1px;\n",
       "}\n",
       "\n",
       "#sk-container-id-1 div.sk-dashed-wrapped {\n",
       "  border: 1px dashed var(--sklearn-color-line);\n",
       "  margin: 0 0.4em 0.5em 0.4em;\n",
       "  box-sizing: border-box;\n",
       "  padding-bottom: 0.4em;\n",
       "  background-color: var(--sklearn-color-background);\n",
       "}\n",
       "\n",
       "#sk-container-id-1 div.sk-container {\n",
       "  /* jupyter's `normalize.less` sets `[hidden] { display: none; }`\n",
       "     but bootstrap.min.css set `[hidden] { display: none !important; }`\n",
       "     so we also need the `!important` here to be able to override the\n",
       "     default hidden behavior on the sphinx rendered scikit-learn.org.\n",
       "     See: https://github.com/scikit-learn/scikit-learn/issues/21755 */\n",
       "  display: inline-block !important;\n",
       "  position: relative;\n",
       "}\n",
       "\n",
       "#sk-container-id-1 div.sk-text-repr-fallback {\n",
       "  display: none;\n",
       "}\n",
       "\n",
       "div.sk-parallel-item,\n",
       "div.sk-serial,\n",
       "div.sk-item {\n",
       "  /* draw centered vertical line to link estimators */\n",
       "  background-image: linear-gradient(var(--sklearn-color-text-on-default-background), var(--sklearn-color-text-on-default-background));\n",
       "  background-size: 2px 100%;\n",
       "  background-repeat: no-repeat;\n",
       "  background-position: center center;\n",
       "}\n",
       "\n",
       "/* Parallel-specific style estimator block */\n",
       "\n",
       "#sk-container-id-1 div.sk-parallel-item::after {\n",
       "  content: \"\";\n",
       "  width: 100%;\n",
       "  border-bottom: 2px solid var(--sklearn-color-text-on-default-background);\n",
       "  flex-grow: 1;\n",
       "}\n",
       "\n",
       "#sk-container-id-1 div.sk-parallel {\n",
       "  display: flex;\n",
       "  align-items: stretch;\n",
       "  justify-content: center;\n",
       "  background-color: var(--sklearn-color-background);\n",
       "  position: relative;\n",
       "}\n",
       "\n",
       "#sk-container-id-1 div.sk-parallel-item {\n",
       "  display: flex;\n",
       "  flex-direction: column;\n",
       "}\n",
       "\n",
       "#sk-container-id-1 div.sk-parallel-item:first-child::after {\n",
       "  align-self: flex-end;\n",
       "  width: 50%;\n",
       "}\n",
       "\n",
       "#sk-container-id-1 div.sk-parallel-item:last-child::after {\n",
       "  align-self: flex-start;\n",
       "  width: 50%;\n",
       "}\n",
       "\n",
       "#sk-container-id-1 div.sk-parallel-item:only-child::after {\n",
       "  width: 0;\n",
       "}\n",
       "\n",
       "/* Serial-specific style estimator block */\n",
       "\n",
       "#sk-container-id-1 div.sk-serial {\n",
       "  display: flex;\n",
       "  flex-direction: column;\n",
       "  align-items: center;\n",
       "  background-color: var(--sklearn-color-background);\n",
       "  padding-right: 1em;\n",
       "  padding-left: 1em;\n",
       "}\n",
       "\n",
       "\n",
       "/* Toggleable style: style used for estimator/Pipeline/ColumnTransformer box that is\n",
       "clickable and can be expanded/collapsed.\n",
       "- Pipeline and ColumnTransformer use this feature and define the default style\n",
       "- Estimators will overwrite some part of the style using the `sk-estimator` class\n",
       "*/\n",
       "\n",
       "/* Pipeline and ColumnTransformer style (default) */\n",
       "\n",
       "#sk-container-id-1 div.sk-toggleable {\n",
       "  /* Default theme specific background. It is overwritten whether we have a\n",
       "  specific estimator or a Pipeline/ColumnTransformer */\n",
       "  background-color: var(--sklearn-color-background);\n",
       "}\n",
       "\n",
       "/* Toggleable label */\n",
       "#sk-container-id-1 label.sk-toggleable__label {\n",
       "  cursor: pointer;\n",
       "  display: block;\n",
       "  width: 100%;\n",
       "  margin-bottom: 0;\n",
       "  padding: 0.5em;\n",
       "  box-sizing: border-box;\n",
       "  text-align: center;\n",
       "}\n",
       "\n",
       "#sk-container-id-1 label.sk-toggleable__label-arrow:before {\n",
       "  /* Arrow on the left of the label */\n",
       "  content: \"▸\";\n",
       "  float: left;\n",
       "  margin-right: 0.25em;\n",
       "  color: var(--sklearn-color-icon);\n",
       "}\n",
       "\n",
       "#sk-container-id-1 label.sk-toggleable__label-arrow:hover:before {\n",
       "  color: var(--sklearn-color-text);\n",
       "}\n",
       "\n",
       "/* Toggleable content - dropdown */\n",
       "\n",
       "#sk-container-id-1 div.sk-toggleable__content {\n",
       "  max-height: 0;\n",
       "  max-width: 0;\n",
       "  overflow: hidden;\n",
       "  text-align: left;\n",
       "  /* unfitted */\n",
       "  background-color: var(--sklearn-color-unfitted-level-0);\n",
       "}\n",
       "\n",
       "#sk-container-id-1 div.sk-toggleable__content.fitted {\n",
       "  /* fitted */\n",
       "  background-color: var(--sklearn-color-fitted-level-0);\n",
       "}\n",
       "\n",
       "#sk-container-id-1 div.sk-toggleable__content pre {\n",
       "  margin: 0.2em;\n",
       "  border-radius: 0.25em;\n",
       "  color: var(--sklearn-color-text);\n",
       "  /* unfitted */\n",
       "  background-color: var(--sklearn-color-unfitted-level-0);\n",
       "}\n",
       "\n",
       "#sk-container-id-1 div.sk-toggleable__content.fitted pre {\n",
       "  /* unfitted */\n",
       "  background-color: var(--sklearn-color-fitted-level-0);\n",
       "}\n",
       "\n",
       "#sk-container-id-1 input.sk-toggleable__control:checked~div.sk-toggleable__content {\n",
       "  /* Expand drop-down */\n",
       "  max-height: 200px;\n",
       "  max-width: 100%;\n",
       "  overflow: auto;\n",
       "}\n",
       "\n",
       "#sk-container-id-1 input.sk-toggleable__control:checked~label.sk-toggleable__label-arrow:before {\n",
       "  content: \"▾\";\n",
       "}\n",
       "\n",
       "/* Pipeline/ColumnTransformer-specific style */\n",
       "\n",
       "#sk-container-id-1 div.sk-label input.sk-toggleable__control:checked~label.sk-toggleable__label {\n",
       "  color: var(--sklearn-color-text);\n",
       "  background-color: var(--sklearn-color-unfitted-level-2);\n",
       "}\n",
       "\n",
       "#sk-container-id-1 div.sk-label.fitted input.sk-toggleable__control:checked~label.sk-toggleable__label {\n",
       "  background-color: var(--sklearn-color-fitted-level-2);\n",
       "}\n",
       "\n",
       "/* Estimator-specific style */\n",
       "\n",
       "/* Colorize estimator box */\n",
       "#sk-container-id-1 div.sk-estimator input.sk-toggleable__control:checked~label.sk-toggleable__label {\n",
       "  /* unfitted */\n",
       "  background-color: var(--sklearn-color-unfitted-level-2);\n",
       "}\n",
       "\n",
       "#sk-container-id-1 div.sk-estimator.fitted input.sk-toggleable__control:checked~label.sk-toggleable__label {\n",
       "  /* fitted */\n",
       "  background-color: var(--sklearn-color-fitted-level-2);\n",
       "}\n",
       "\n",
       "#sk-container-id-1 div.sk-label label.sk-toggleable__label,\n",
       "#sk-container-id-1 div.sk-label label {\n",
       "  /* The background is the default theme color */\n",
       "  color: var(--sklearn-color-text-on-default-background);\n",
       "}\n",
       "\n",
       "/* On hover, darken the color of the background */\n",
       "#sk-container-id-1 div.sk-label:hover label.sk-toggleable__label {\n",
       "  color: var(--sklearn-color-text);\n",
       "  background-color: var(--sklearn-color-unfitted-level-2);\n",
       "}\n",
       "\n",
       "/* Label box, darken color on hover, fitted */\n",
       "#sk-container-id-1 div.sk-label.fitted:hover label.sk-toggleable__label.fitted {\n",
       "  color: var(--sklearn-color-text);\n",
       "  background-color: var(--sklearn-color-fitted-level-2);\n",
       "}\n",
       "\n",
       "/* Estimator label */\n",
       "\n",
       "#sk-container-id-1 div.sk-label label {\n",
       "  font-family: monospace;\n",
       "  font-weight: bold;\n",
       "  display: inline-block;\n",
       "  line-height: 1.2em;\n",
       "}\n",
       "\n",
       "#sk-container-id-1 div.sk-label-container {\n",
       "  text-align: center;\n",
       "}\n",
       "\n",
       "/* Estimator-specific */\n",
       "#sk-container-id-1 div.sk-estimator {\n",
       "  font-family: monospace;\n",
       "  border: 1px dotted var(--sklearn-color-border-box);\n",
       "  border-radius: 0.25em;\n",
       "  box-sizing: border-box;\n",
       "  margin-bottom: 0.5em;\n",
       "  /* unfitted */\n",
       "  background-color: var(--sklearn-color-unfitted-level-0);\n",
       "}\n",
       "\n",
       "#sk-container-id-1 div.sk-estimator.fitted {\n",
       "  /* fitted */\n",
       "  background-color: var(--sklearn-color-fitted-level-0);\n",
       "}\n",
       "\n",
       "/* on hover */\n",
       "#sk-container-id-1 div.sk-estimator:hover {\n",
       "  /* unfitted */\n",
       "  background-color: var(--sklearn-color-unfitted-level-2);\n",
       "}\n",
       "\n",
       "#sk-container-id-1 div.sk-estimator.fitted:hover {\n",
       "  /* fitted */\n",
       "  background-color: var(--sklearn-color-fitted-level-2);\n",
       "}\n",
       "\n",
       "/* Specification for estimator info (e.g. \"i\" and \"?\") */\n",
       "\n",
       "/* Common style for \"i\" and \"?\" */\n",
       "\n",
       ".sk-estimator-doc-link,\n",
       "a:link.sk-estimator-doc-link,\n",
       "a:visited.sk-estimator-doc-link {\n",
       "  float: right;\n",
       "  font-size: smaller;\n",
       "  line-height: 1em;\n",
       "  font-family: monospace;\n",
       "  background-color: var(--sklearn-color-background);\n",
       "  border-radius: 1em;\n",
       "  height: 1em;\n",
       "  width: 1em;\n",
       "  text-decoration: none !important;\n",
       "  margin-left: 1ex;\n",
       "  /* unfitted */\n",
       "  border: var(--sklearn-color-unfitted-level-1) 1pt solid;\n",
       "  color: var(--sklearn-color-unfitted-level-1);\n",
       "}\n",
       "\n",
       ".sk-estimator-doc-link.fitted,\n",
       "a:link.sk-estimator-doc-link.fitted,\n",
       "a:visited.sk-estimator-doc-link.fitted {\n",
       "  /* fitted */\n",
       "  border: var(--sklearn-color-fitted-level-1) 1pt solid;\n",
       "  color: var(--sklearn-color-fitted-level-1);\n",
       "}\n",
       "\n",
       "/* On hover */\n",
       "div.sk-estimator:hover .sk-estimator-doc-link:hover,\n",
       ".sk-estimator-doc-link:hover,\n",
       "div.sk-label-container:hover .sk-estimator-doc-link:hover,\n",
       ".sk-estimator-doc-link:hover {\n",
       "  /* unfitted */\n",
       "  background-color: var(--sklearn-color-unfitted-level-3);\n",
       "  color: var(--sklearn-color-background);\n",
       "  text-decoration: none;\n",
       "}\n",
       "\n",
       "div.sk-estimator.fitted:hover .sk-estimator-doc-link.fitted:hover,\n",
       ".sk-estimator-doc-link.fitted:hover,\n",
       "div.sk-label-container:hover .sk-estimator-doc-link.fitted:hover,\n",
       ".sk-estimator-doc-link.fitted:hover {\n",
       "  /* fitted */\n",
       "  background-color: var(--sklearn-color-fitted-level-3);\n",
       "  color: var(--sklearn-color-background);\n",
       "  text-decoration: none;\n",
       "}\n",
       "\n",
       "/* Span, style for the box shown on hovering the info icon */\n",
       ".sk-estimator-doc-link span {\n",
       "  display: none;\n",
       "  z-index: 9999;\n",
       "  position: relative;\n",
       "  font-weight: normal;\n",
       "  right: .2ex;\n",
       "  padding: .5ex;\n",
       "  margin: .5ex;\n",
       "  width: min-content;\n",
       "  min-width: 20ex;\n",
       "  max-width: 50ex;\n",
       "  color: var(--sklearn-color-text);\n",
       "  box-shadow: 2pt 2pt 4pt #999;\n",
       "  /* unfitted */\n",
       "  background: var(--sklearn-color-unfitted-level-0);\n",
       "  border: .5pt solid var(--sklearn-color-unfitted-level-3);\n",
       "}\n",
       "\n",
       ".sk-estimator-doc-link.fitted span {\n",
       "  /* fitted */\n",
       "  background: var(--sklearn-color-fitted-level-0);\n",
       "  border: var(--sklearn-color-fitted-level-3);\n",
       "}\n",
       "\n",
       ".sk-estimator-doc-link:hover span {\n",
       "  display: block;\n",
       "}\n",
       "\n",
       "/* \"?\"-specific style due to the `<a>` HTML tag */\n",
       "\n",
       "#sk-container-id-1 a.estimator_doc_link {\n",
       "  float: right;\n",
       "  font-size: 1rem;\n",
       "  line-height: 1em;\n",
       "  font-family: monospace;\n",
       "  background-color: var(--sklearn-color-background);\n",
       "  border-radius: 1rem;\n",
       "  height: 1rem;\n",
       "  width: 1rem;\n",
       "  text-decoration: none;\n",
       "  /* unfitted */\n",
       "  color: var(--sklearn-color-unfitted-level-1);\n",
       "  border: var(--sklearn-color-unfitted-level-1) 1pt solid;\n",
       "}\n",
       "\n",
       "#sk-container-id-1 a.estimator_doc_link.fitted {\n",
       "  /* fitted */\n",
       "  border: var(--sklearn-color-fitted-level-1) 1pt solid;\n",
       "  color: var(--sklearn-color-fitted-level-1);\n",
       "}\n",
       "\n",
       "/* On hover */\n",
       "#sk-container-id-1 a.estimator_doc_link:hover {\n",
       "  /* unfitted */\n",
       "  background-color: var(--sklearn-color-unfitted-level-3);\n",
       "  color: var(--sklearn-color-background);\n",
       "  text-decoration: none;\n",
       "}\n",
       "\n",
       "#sk-container-id-1 a.estimator_doc_link.fitted:hover {\n",
       "  /* fitted */\n",
       "  background-color: var(--sklearn-color-fitted-level-3);\n",
       "}\n",
       "</style><div id=\"sk-container-id-1\" class=\"sk-top-container\"><div class=\"sk-text-repr-fallback\"><pre>LogisticRegression()</pre><b>In a Jupyter environment, please rerun this cell to show the HTML representation or trust the notebook. <br />On GitHub, the HTML representation is unable to render, please try loading this page with nbviewer.org.</b></div><div class=\"sk-container\" hidden><div class=\"sk-item\"><div class=\"sk-estimator fitted sk-toggleable\"><input class=\"sk-toggleable__control sk-hidden--visually\" id=\"sk-estimator-id-1\" type=\"checkbox\" checked><label for=\"sk-estimator-id-1\" class=\"sk-toggleable__label fitted sk-toggleable__label-arrow fitted\">&nbsp;&nbsp;LogisticRegression<a class=\"sk-estimator-doc-link fitted\" rel=\"noreferrer\" target=\"_blank\" href=\"https://scikit-learn.org/1.5/modules/generated/sklearn.linear_model.LogisticRegression.html\">?<span>Documentation for LogisticRegression</span></a><span class=\"sk-estimator-doc-link fitted\">i<span>Fitted</span></span></label><div class=\"sk-toggleable__content fitted\"><pre>LogisticRegression()</pre></div> </div></div></div></div>"
      ],
      "text/plain": [
       "LogisticRegression()"
      ]
     },
     "execution_count": 151,
     "metadata": {},
     "output_type": "execute_result"
    }
   ],
   "source": [
    "#Train the logistic Regression Model\n",
    "log_reg = LogisticRegression()\n",
    "log_reg.fit(X_train, y_train)"
   ]
  },
  {
   "cell_type": "markdown",
   "metadata": {},
   "source": [
    "# Predict on the test set"
   ]
  },
  {
   "cell_type": "code",
   "execution_count": 159,
   "metadata": {},
   "outputs": [],
   "source": [
    "#predict on the test set\n",
    "y_pred = log_reg.predict(X_test)"
   ]
  },
  {
   "cell_type": "markdown",
   "metadata": {},
   "source": [
    "# Evaluate the Model"
   ]
  },
  {
   "cell_type": "markdown",
   "metadata": {},
   "source": [
    "##### Confusion Matrix"
   ]
  },
  {
   "cell_type": "code",
   "execution_count": 160,
   "metadata": {},
   "outputs": [
    {
     "name": "stdout",
     "output_type": "stream",
     "text": [
      "Confusion Matrix:\n",
      "[[ 840    5    7]\n",
      " [  31 1419    0]\n",
      " [   7    0  584]]\n"
     ]
    }
   ],
   "source": [
    "#Confusion Matrix\n",
    "cm = confusion_matrix(y_test, y_pred)\n",
    "print(\"Confusion Matrix:\")\n",
    "print(cm)"
   ]
  },
  {
   "cell_type": "code",
   "execution_count": 161,
   "metadata": {},
   "outputs": [
    {
     "data": {
      "image/png": "[encoded data removed]",
      "text/plain": [
       "<Figure size 800x600 with 2 Axes>"
      ]
     },
     "metadata": {},
     "output_type": "display_data"
    }
   ],
   "source": [
    "# Create a heatmap\n",
    "plt.figure(figsize=(8, 6))\n",
    "sns.heatmap(cm, annot=True, fmt=\"d\", cmap=\"Blues\", xticklabels=[\"Class 0\", \"Class 1\", \"Class 2\"], yticklabels=[\"Class 0\", \"Class 1\", \"Class 2\"])\n",
    "plt.title(\"Confusion Matrix\")\n",
    "plt.xlabel(\"Predicted Labels\")\n",
    "plt.ylabel(\"True Labels\")\n",
    "plt.show()\n",
    "\n",
    "#Result: Correct predictions (True Positives for each class)."
   ]
  },
  {
   "cell_type": "markdown",
   "metadata": {},
   "source": [
    "#### Classification Report"
   ]
  },
  {
   "cell_type": "code",
   "execution_count": 168,
   "metadata": {},
   "outputs": [
    {
     "name": "stdout",
     "output_type": "stream",
     "text": [
      "Classification Report:\n",
      "{'0': {'precision': 0.9567198177676538, 'recall': 0.9859154929577465, 'f1-score': 0.9710982658959537, 'support': 852.0}, '1': {'precision': 0.9964887640449438, 'recall': 0.9786206896551725, 'f1-score': 0.9874739039665971, 'support': 1450.0}, '2': {'precision': 0.988155668358714, 'recall': 0.988155668358714, 'f1-score': 0.988155668358714, 'support': 591.0}, 'accuracy': 0.9827169028689942, 'macro avg': {'precision': 0.9804547500571039, 'recall': 0.9842306169905443, 'f1-score': 0.9822426127404217, 'support': 2893.0}, 'weighted avg': {'precision': 0.9830743147608743, 'recall': 0.9827169028689942, 'f1-score': 0.982790488522267, 'support': 2893.0}}\n"
     ]
    }
   ],
   "source": [
    "report = classification_report(y_test, y_pred,output_dict=True)\n",
    "print(\"Classification Report:\")\n",
    "print(report)"
   ]
  },
  {
   "cell_type": "code",
   "execution_count": 169,
   "metadata": {},
   "outputs": [
    {
     "data": {
      "image/png": "[encoded data removed]",
      "text/plain": [
       "<Figure size 1000x600 with 1 Axes>"
      ]
     },
     "metadata": {},
     "output_type": "display_data"
    }
   ],
   "source": [
    "# Convert the dictionary to a DataFrame for visualization\n",
    "report_df = pd.DataFrame(report).transpose()\n",
    "\n",
    "# Plot the precision, recall, and f1-score\n",
    "report_df = report_df.iloc[:-1, :-1]  # Exclude support and accuracy row/column\n",
    "report_df.plot(kind=\"bar\", figsize=(10, 6), colormap=\"viridis\")\n",
    "plt.title(\"Classification Report\")\n",
    "plt.xlabel(\"Classes\")\n",
    "plt.ylabel(\"Scores\")\n",
    "plt.xticks(rotation=45)\n",
    "plt.show()"
   ]
  },
  {
   "cell_type": "markdown",
   "metadata": {},
   "source": [
    "#### Accuracy Score"
   ]
  },
  {
   "cell_type": "code",
   "execution_count": 166,
   "metadata": {},
   "outputs": [
    {
     "name": "stdout",
     "output_type": "stream",
     "text": [
      "Accuracy: 0.98\n"
     ]
    }
   ],
   "source": [
    "accuracy = accuracy_score(y_test, y_pred)\n",
    "print(f\"Accuracy: {accuracy:.2f}\")"
   ]
  },
  {
   "cell_type": "code",
   "execution_count": 172,
   "metadata": {},
   "outputs": [
    {
     "data": {
      "image/png": "[encoded data removed]",
      "text/plain": [
       "<Figure size 600x400 with 1 Axes>"
      ]
     },
     "metadata": {},
     "output_type": "display_data"
    }
   ],
   "source": [
    "# Display accuracy in a plot\n",
    "plt.figure(figsize=(6, 4))\n",
    "plt.bar([\"Accuracy\"], [accuracy], color=\"skyblue\")\n",
    "plt.ylim(0, 1)  # Scale from 0 to 1\n",
    "plt.title(\"Accuracy Score\")\n",
    "plt.text(0, accuracy / 2, f\"{accuracy:.2%}\", ha=\"center\", va=\"center\", fontsize=12)\n",
    "plt.show()"
   ]
  },
  {
   "cell_type": "markdown",
   "metadata": {},
   "source": [
    "#### AUROC Curve"
   ]
  },
  {
   "cell_type": "code",
   "execution_count": 177,
   "metadata": {},
   "outputs": [
    {
     "name": "stdout",
     "output_type": "stream",
     "text": [
      "Area Under the ROC Curve (AUROC) for Multi-Class: 1.00\n"
     ]
    }
   ],
   "source": [
    "# Calculate AUROC\n",
    "# Get predicted probabilities for all classes\n",
    "y_pred_multi = log_reg.predict_proba(X_test)\n",
    "\n",
    "# Calculate AUROC for multi-class classification\n",
    "auroc_multi = roc_auc_score(y_test, y_pred_multi, multi_class='ovr')\n",
    "print(f\"Area Under the ROC Curve (AUROC) for Multi-Class: {auroc_multi:.2f}\")"
   ]
  },
  {
   "cell_type": "markdown",
   "metadata": {},
   "source": [
    "# Interpret the Model"
   ]
  },
  {
   "cell_type": "markdown",
   "metadata": {},
   "source": [
    "#### Logistic regression provides coefficients that indicate feature importance"
   ]
  },
  {
   "cell_type": "code",
   "execution_count": 171,
   "metadata": {},
   "outputs": [
    {
     "name": "stdout",
     "output_type": "stream",
     "text": [
      "                  Feature  Coefficient\n",
      "0  base_cumulative_return     1.798579\n",
      "1        portfolio_return     1.176953\n",
      "2      daily_sharpe_ratio     0.311938\n",
      "4    unique_tokens_traded     0.221855\n",
      "3        number_of_trades     0.160899\n"
     ]
    }
   ],
   "source": [
    "feature_importance = pd.DataFrame({\n",
    "    'Feature': X.columns,\n",
    "    'Coefficient': log_reg.coef_[0]\n",
    "}).sort_values(by='Coefficient', ascending=False)\n",
    "print(feature_importance)"
   ]
  },
  {
   "cell_type": "markdown",
   "metadata": {},
   "source": [
    "# Randomized Search for Hyperparameter Tuning"
   ]
  },
  {
   "cell_type": "code",
   "execution_count": null,
   "metadata": {},
   "outputs": [
    {
     "name": "stdout",
     "output_type": "stream",
     "text": [
      "Fitting 5 folds for each of 50 candidates, totalling 250 fits\n"
     ]
    },
    {
     "name": "stderr",
     "output_type": "stream",
     "text": [
      "/Users/olaoluwatunmise/miniconda3/envs/flipside/lib/python3.10/site-packages/sklearn/svm/_base.py:1235: ConvergenceWarning: Liblinear failed to converge, increase the number of iterations.\n",
      "  warnings.warn(\n",
      "/Users/olaoluwatunmise/miniconda3/envs/flipside/lib/python3.10/site-packages/sklearn/svm/_base.py:1235: ConvergenceWarning: Liblinear failed to converge, increase the number of iterations.\n",
      "  warnings.warn(\n",
      "/Users/olaoluwatunmise/miniconda3/envs/flipside/lib/python3.10/site-packages/sklearn/svm/_base.py:1235: ConvergenceWarning: Liblinear failed to converge, increase the number of iterations.\n",
      "  warnings.warn(\n",
      "/Users/olaoluwatunmise/miniconda3/envs/flipside/lib/python3.10/site-packages/sklearn/svm/_base.py:1235: ConvergenceWarning: Liblinear failed to converge, increase the number of iterations.\n",
      "  warnings.warn(\n",
      "/Users/olaoluwatunmise/miniconda3/envs/flipside/lib/python3.10/site-packages/sklearn/svm/_base.py:1235: ConvergenceWarning: Liblinear failed to converge, increase the number of iterations.\n",
      "  warnings.warn(\n",
      "/Users/olaoluwatunmise/miniconda3/envs/flipside/lib/python3.10/site-packages/sklearn/svm/_base.py:1235: ConvergenceWarning: Liblinear failed to converge, increase the number of iterations.\n",
      "  warnings.warn(\n",
      "/Users/olaoluwatunmise/miniconda3/envs/flipside/lib/python3.10/site-packages/sklearn/svm/_base.py:1235: ConvergenceWarning: Liblinear failed to converge, increase the number of iterations.\n",
      "  warnings.warn(\n",
      "/Users/olaoluwatunmise/miniconda3/envs/flipside/lib/python3.10/site-packages/sklearn/svm/_base.py:1235: ConvergenceWarning: Liblinear failed to converge, increase the number of iterations.\n",
      "  warnings.warn(\n",
      "/Users/olaoluwatunmise/miniconda3/envs/flipside/lib/python3.10/site-packages/sklearn/svm/_base.py:1235: ConvergenceWarning: Liblinear failed to converge, increase the number of iterations.\n",
      "  warnings.warn(\n",
      "/Users/olaoluwatunmise/miniconda3/envs/flipside/lib/python3.10/site-packages/sklearn/svm/_base.py:1235: ConvergenceWarning: Liblinear failed to converge, increase the number of iterations.\n",
      "  warnings.warn(\n",
      "/Users/olaoluwatunmise/miniconda3/envs/flipside/lib/python3.10/site-packages/sklearn/svm/_base.py:1235: ConvergenceWarning: Liblinear failed to converge, increase the number of iterations.\n",
      "  warnings.warn(\n",
      "/Users/olaoluwatunmise/miniconda3/envs/flipside/lib/python3.10/site-packages/sklearn/svm/_base.py:1235: ConvergenceWarning: Liblinear failed to converge, increase the number of iterations.\n",
      "  warnings.warn(\n",
      "/Users/olaoluwatunmise/miniconda3/envs/flipside/lib/python3.10/site-packages/sklearn/svm/_base.py:1235: ConvergenceWarning: Liblinear failed to converge, increase the number of iterations.\n",
      "  warnings.warn(\n",
      "/Users/olaoluwatunmise/miniconda3/envs/flipside/lib/python3.10/site-packages/sklearn/svm/_base.py:1235: ConvergenceWarning: Liblinear failed to converge, increase the number of iterations.\n",
      "  warnings.warn(\n",
      "/Users/olaoluwatunmise/miniconda3/envs/flipside/lib/python3.10/site-packages/sklearn/svm/_base.py:1235: ConvergenceWarning: Liblinear failed to converge, increase the number of iterations.\n",
      "  warnings.warn(\n",
      "/Users/olaoluwatunmise/miniconda3/envs/flipside/lib/python3.10/site-packages/sklearn/svm/_base.py:1235: ConvergenceWarning: Liblinear failed to converge, increase the number of iterations.\n",
      "  warnings.warn(\n",
      "/Users/olaoluwatunmise/miniconda3/envs/flipside/lib/python3.10/site-packages/sklearn/svm/_base.py:1235: ConvergenceWarning: Liblinear failed to converge, increase the number of iterations.\n",
      "  warnings.warn(\n",
      "/Users/olaoluwatunmise/miniconda3/envs/flipside/lib/python3.10/site-packages/sklearn/svm/_base.py:1235: ConvergenceWarning: Liblinear failed to converge, increase the number of iterations.\n",
      "  warnings.warn(\n",
      "/Users/olaoluwatunmise/miniconda3/envs/flipside/lib/python3.10/site-packages/sklearn/svm/_base.py:1235: ConvergenceWarning: Liblinear failed to converge, increase the number of iterations.\n",
      "  warnings.warn(\n",
      "/Users/olaoluwatunmise/miniconda3/envs/flipside/lib/python3.10/site-packages/sklearn/svm/_base.py:1235: ConvergenceWarning: Liblinear failed to converge, increase the number of iterations.\n",
      "  warnings.warn(\n",
      "/Users/olaoluwatunmise/miniconda3/envs/flipside/lib/python3.10/site-packages/sklearn/svm/_base.py:1235: ConvergenceWarning: Liblinear failed to converge, increase the number of iterations.\n",
      "  warnings.warn(\n",
      "/Users/olaoluwatunmise/miniconda3/envs/flipside/lib/python3.10/site-packages/sklearn/svm/_base.py:1235: ConvergenceWarning: Liblinear failed to converge, increase the number of iterations.\n",
      "  warnings.warn(\n",
      "/Users/olaoluwatunmise/miniconda3/envs/flipside/lib/python3.10/site-packages/sklearn/svm/_base.py:1235: ConvergenceWarning: Liblinear failed to converge, increase the number of iterations.\n",
      "  warnings.warn(\n",
      "/Users/olaoluwatunmise/miniconda3/envs/flipside/lib/python3.10/site-packages/sklearn/svm/_base.py:1235: ConvergenceWarning: Liblinear failed to converge, increase the number of iterations.\n",
      "  warnings.warn(\n",
      "/Users/olaoluwatunmise/miniconda3/envs/flipside/lib/python3.10/site-packages/sklearn/svm/_base.py:1235: ConvergenceWarning: Liblinear failed to converge, increase the number of iterations.\n",
      "  warnings.warn(\n",
      "/Users/olaoluwatunmise/miniconda3/envs/flipside/lib/python3.10/site-packages/sklearn/svm/_base.py:1235: ConvergenceWarning: Liblinear failed to converge, increase the number of iterations.\n",
      "  warnings.warn(\n",
      "/Users/olaoluwatunmise/miniconda3/envs/flipside/lib/python3.10/site-packages/sklearn/svm/_base.py:1235: ConvergenceWarning: Liblinear failed to converge, increase the number of iterations.\n",
      "  warnings.warn(\n",
      "/Users/olaoluwatunmise/miniconda3/envs/flipside/lib/python3.10/site-packages/sklearn/svm/_base.py:1235: ConvergenceWarning: Liblinear failed to converge, increase the number of iterations.\n",
      "  warnings.warn(\n",
      "/Users/olaoluwatunmise/miniconda3/envs/flipside/lib/python3.10/site-packages/sklearn/svm/_base.py:1235: ConvergenceWarning: Liblinear failed to converge, increase the number of iterations.\n",
      "  warnings.warn(\n",
      "/Users/olaoluwatunmise/miniconda3/envs/flipside/lib/python3.10/site-packages/sklearn/svm/_base.py:1235: ConvergenceWarning: Liblinear failed to converge, increase the number of iterations.\n",
      "  warnings.warn(\n",
      "/Users/olaoluwatunmise/miniconda3/envs/flipside/lib/python3.10/site-packages/sklearn/svm/_base.py:1235: ConvergenceWarning: Liblinear failed to converge, increase the number of iterations.\n",
      "  warnings.warn(\n",
      "/Users/olaoluwatunmise/miniconda3/envs/flipside/lib/python3.10/site-packages/sklearn/svm/_base.py:1235: ConvergenceWarning: Liblinear failed to converge, increase the number of iterations.\n",
      "  warnings.warn(\n",
      "/Users/olaoluwatunmise/miniconda3/envs/flipside/lib/python3.10/site-packages/sklearn/svm/_base.py:1235: ConvergenceWarning: Liblinear failed to converge, increase the number of iterations.\n",
      "  warnings.warn(\n",
      "/Users/olaoluwatunmise/miniconda3/envs/flipside/lib/python3.10/site-packages/sklearn/svm/_base.py:1235: ConvergenceWarning: Liblinear failed to converge, increase the number of iterations.\n",
      "  warnings.warn(\n"
     ]
    },
    {
     "name": "stdout",
     "output_type": "stream",
     "text": [
      "Best Parameters (Random Search): {'solver': 'lbfgs', 'penalty': 'l2', 'max_iter': 200, 'C': 10000.0}\n",
      "Best Cross-Validation Accuracy (Random Search): 1.00\n",
      "\n",
      "Confusion Matrix (Tuned Model - Random Search):\n",
      "[[ 850    2    0]\n",
      " [   1 1449    0]\n",
      " [   1    0  590]]\n",
      "\n",
      "Classification Report (Tuned Model - Random Search):\n",
      "              precision    recall  f1-score   support\n",
      "\n",
      "           0       1.00      1.00      1.00       852\n",
      "           1       1.00      1.00      1.00      1450\n",
      "           2       1.00      1.00      1.00       591\n",
      "\n",
      "    accuracy                           1.00      2893\n",
      "   macro avg       1.00      1.00      1.00      2893\n",
      "weighted avg       1.00      1.00      1.00      2893\n",
      "\n",
      "\n",
      "Accuracy (Tuned Model - Random Search): 1.00\n"
     ]
    },
    {
     "name": "stderr",
     "output_type": "stream",
     "text": [
      "/Users/olaoluwatunmise/miniconda3/envs/flipside/lib/python3.10/site-packages/sklearn/svm/_base.py:1235: ConvergenceWarning: Liblinear failed to converge, increase the number of iterations.\n",
      "  warnings.warn(\n",
      "/Users/olaoluwatunmise/miniconda3/envs/flipside/lib/python3.10/site-packages/sklearn/model_selection/_validation.py:540: FitFailedWarning: \n",
      "75 fits failed out of a total of 250.\n",
      "The score on these train-test partitions for these parameters will be set to nan.\n",
      "If these failures are not expected, you can try to debug them by setting error_score='raise'.\n",
      "\n",
      "Below are more details about the failures:\n",
      "--------------------------------------------------------------------------------\n",
      "75 fits failed with the following error:\n",
      "Traceback (most recent call last):\n",
      "  File \"/Users/olaoluwatunmise/miniconda3/envs/flipside/lib/python3.10/site-packages/sklearn/model_selection/_validation.py\", line 888, in _fit_and_score\n",
      "    estimator.fit(X_train, y_train, **fit_params)\n",
      "  File \"/Users/olaoluwatunmise/miniconda3/envs/flipside/lib/python3.10/site-packages/sklearn/base.py\", line 1473, in wrapper\n",
      "    return fit_method(estimator, *args, **kwargs)\n",
      "  File \"/Users/olaoluwatunmise/miniconda3/envs/flipside/lib/python3.10/site-packages/sklearn/linear_model/_logistic.py\", line 1194, in fit\n",
      "    solver = _check_solver(self.solver, self.penalty, self.dual)\n",
      "  File \"/Users/olaoluwatunmise/miniconda3/envs/flipside/lib/python3.10/site-packages/sklearn/linear_model/_logistic.py\", line 67, in _check_solver\n",
      "    raise ValueError(\n",
      "ValueError: Solver lbfgs supports only 'l2' or None penalties, got l1 penalty.\n",
      "\n",
      "  warnings.warn(some_fits_failed_message, FitFailedWarning)\n",
      "/Users/olaoluwatunmise/miniconda3/envs/flipside/lib/python3.10/site-packages/sklearn/model_selection/_search.py:1103: UserWarning: One or more of the test scores are non-finite: [0.84719101 0.7227312         nan        nan 0.96871219 0.99161625\n",
      "        nan 0.88392394        nan 0.98893691        nan 0.99222126\n",
      " 0.92281763 0.99144339        nan 0.99369058        nan 0.65021608\n",
      " 0.99057908        nan 0.98470182 0.65021608 0.99706137 0.72359551\n",
      " 0.99152982 0.97070009 0.7227312         nan        nan        nan\n",
      " 0.96871219 0.99170268        nan 0.98686258 0.72307692        nan\n",
      " 0.99161625 0.91659464 0.94589455 0.99464131 0.99671564 0.98254105\n",
      "        nan 0.27692308 0.9911841  0.84987035        nan 0.76257563\n",
      " 0.98893691 0.89412273]\n",
      "  warnings.warn(\n"
     ]
    }
   ],
   "source": [
    "from sklearn.model_selection import RandomizedSearchCV\n",
    "\n",
    "# Define the parameter distribution\n",
    "param_distributions = {\n",
    "    'C': np.logspace(-4, 4, 20),  # Exponential range for regularization\n",
    "    'solver': ['liblinear', 'lbfgs'],\n",
    "    'penalty': ['l1', 'l2'],\n",
    "    'max_iter': [100, 200, 300]\n",
    "}\n",
    "\n",
    "# Initialize RandomizedSearchCV\n",
    "random_search = RandomizedSearchCV(\n",
    "    estimator=log_reg,\n",
    "    param_distributions=param_distributions,\n",
    "    n_iter=50,  # Number of parameter settings sampled\n",
    "    cv=5,\n",
    "    scoring='accuracy',\n",
    "    verbose=1,\n",
    "    n_jobs=-1,\n",
    "    random_state=42\n",
    ")\n",
    "\n",
    "# Fit the model to the training data\n",
    "random_search.fit(X_train, y_train)\n",
    "\n",
    "# Display best parameters and accuracy\n",
    "print(\"Best Parameters (Random Search):\", random_search.best_params_)\n",
    "print(f\"Best Cross-Validation Accuracy (Random Search): {random_search.best_score_:.2f}\")\n",
    "\n",
    "# Use the best estimator for predictions\n",
    "best_model_random = random_search.best_estimator_\n",
    "y_pred_random = best_model_random.predict(X_test)\n",
    "\n",
    "# Evaluate the tuned model\n",
    "print(\"\\nConfusion Matrix (Tuned Model - Random Search):\")\n",
    "print(confusion_matrix(y_test, y_pred_random))\n",
    "print(\"\\nClassification Report (Tuned Model - Random Search):\")\n",
    "print(classification_report(y_test, y_pred_random))\n",
    "print(f\"\\nAccuracy (Tuned Model - Random Search): {accuracy_score(y_test, y_pred_random):.2f}\")\n"
   ]
  }
 ],
 "metadata": {
  "kernelspec": {
   "display_name": "flipside",
   "language": "python",
   "name": "python3"
  },
  "language_info": {
   "codemirror_mode": {
    "name": "ipython",
    "version": 3
   },
   "file_extension": ".py",
   "mimetype": "text/x-python",
   "name": "python",
   "nbconvert_exporter": "python",
   "pygments_lexer": "ipython3",
   "version": "3.10.15"
  }
 },
 "nbformat": 4,
 "nbformat_minor": 2
}
